{
 "cells": [
  {
   "cell_type": "code",
   "execution_count": 1,
   "metadata": {},
   "outputs": [],
   "source": [
    "import pandas as pd\n",
    "import matplotlib.pyplot as plt\n",
    "import numpy as np\n",
    "\n",
    "from sklearn.ensemble import RandomForestClassifier\n",
    "from sklearn.datasets import make_classification\n",
    "from sklearn.metrics import roc_curve, auc\n",
    "from sklearn.model_selection import cross_validate\n",
    "\n",
    "from sklearn.ensemble import GradientBoostingClassifier"
   ]
  },
  {
   "cell_type": "code",
   "execution_count": 2,
   "metadata": {},
   "outputs": [],
   "source": [
    "# Train and test data\n",
    "df_train = pd.read_csv('data/train.csv')\n",
    "df_test = pd.read_csv('data/test.csv')\n",
    "\n",
    "nan_values = {'opened_position_qty ': (df_train['transacted_qty'] + df_train['d_open_interest']) / 2 , \n",
    "              'closed_position_qty': (df_train['transacted_qty'] - df_train['d_open_interest']) / 2}\n",
    "\n",
    "nan_values_test = {'opened_position_qty ': (df_test['transacted_qty'] + df_test['d_open_interest']) / 2 , \n",
    "              'closed_position_qty': (df_test['transacted_qty'] - df_test['d_open_interest']) / 2}\n",
    "\n",
    "df_train = df_train.fillna(value=nan_values)\n",
    "df_test = df_test.fillna(value=nan_values_test)"
   ]
  },
  {
   "cell_type": "code",
   "execution_count": 3,
   "metadata": {},
   "outputs": [
    {
     "data": {
      "text/html": [
       "<div>\n",
       "<style scoped>\n",
       "    .dataframe tbody tr th:only-of-type {\n",
       "        vertical-align: middle;\n",
       "    }\n",
       "\n",
       "    .dataframe tbody tr th {\n",
       "        vertical-align: top;\n",
       "    }\n",
       "\n",
       "    .dataframe thead th {\n",
       "        text-align: right;\n",
       "    }\n",
       "</style>\n",
       "<table border=\"1\" class=\"dataframe\">\n",
       "  <thead>\n",
       "    <tr style=\"text-align: right;\">\n",
       "      <th></th>\n",
       "      <th>id</th>\n",
       "      <th>last_price</th>\n",
       "      <th>mid</th>\n",
       "      <th>opened_position_qty</th>\n",
       "      <th>closed_position_qty</th>\n",
       "      <th>transacted_qty</th>\n",
       "      <th>d_open_interest</th>\n",
       "      <th>bid1</th>\n",
       "      <th>bid2</th>\n",
       "      <th>bid3</th>\n",
       "      <th>...</th>\n",
       "      <th>bid2vol</th>\n",
       "      <th>bid3vol</th>\n",
       "      <th>bid4vol</th>\n",
       "      <th>bid5vol</th>\n",
       "      <th>ask1vol</th>\n",
       "      <th>ask2vol</th>\n",
       "      <th>ask3vol</th>\n",
       "      <th>ask4vol</th>\n",
       "      <th>ask5vol</th>\n",
       "      <th>y</th>\n",
       "    </tr>\n",
       "  </thead>\n",
       "  <tbody>\n",
       "    <tr>\n",
       "      <td>0</td>\n",
       "      <td>0</td>\n",
       "      <td>3842.4</td>\n",
       "      <td>3842.6</td>\n",
       "      <td>51.5</td>\n",
       "      <td>51.5</td>\n",
       "      <td>103.0</td>\n",
       "      <td>0</td>\n",
       "      <td>3842.4</td>\n",
       "      <td>3842.0</td>\n",
       "      <td>3841.8</td>\n",
       "      <td>...</td>\n",
       "      <td>1</td>\n",
       "      <td>6</td>\n",
       "      <td>14</td>\n",
       "      <td>6</td>\n",
       "      <td>6</td>\n",
       "      <td>1</td>\n",
       "      <td>1</td>\n",
       "      <td>10</td>\n",
       "      <td>2</td>\n",
       "      <td>1</td>\n",
       "    </tr>\n",
       "    <tr>\n",
       "      <td>1</td>\n",
       "      <td>1</td>\n",
       "      <td>3842.8</td>\n",
       "      <td>3843.4</td>\n",
       "      <td>6.0</td>\n",
       "      <td>49.0</td>\n",
       "      <td>55.0</td>\n",
       "      <td>-43</td>\n",
       "      <td>3843.0</td>\n",
       "      <td>3842.8</td>\n",
       "      <td>3842.4</td>\n",
       "      <td>...</td>\n",
       "      <td>6</td>\n",
       "      <td>11</td>\n",
       "      <td>1</td>\n",
       "      <td>6</td>\n",
       "      <td>1</td>\n",
       "      <td>4</td>\n",
       "      <td>4</td>\n",
       "      <td>1</td>\n",
       "      <td>13</td>\n",
       "      <td>0</td>\n",
       "    </tr>\n",
       "    <tr>\n",
       "      <td>2</td>\n",
       "      <td>2</td>\n",
       "      <td>3844.0</td>\n",
       "      <td>3844.3</td>\n",
       "      <td>7.0</td>\n",
       "      <td>77.0</td>\n",
       "      <td>84.0</td>\n",
       "      <td>-69</td>\n",
       "      <td>3843.8</td>\n",
       "      <td>3843.6</td>\n",
       "      <td>3843.2</td>\n",
       "      <td>...</td>\n",
       "      <td>1</td>\n",
       "      <td>4</td>\n",
       "      <td>21</td>\n",
       "      <td>12</td>\n",
       "      <td>1</td>\n",
       "      <td>16</td>\n",
       "      <td>10</td>\n",
       "      <td>4</td>\n",
       "      <td>9</td>\n",
       "      <td>0</td>\n",
       "    </tr>\n",
       "    <tr>\n",
       "      <td>3</td>\n",
       "      <td>3</td>\n",
       "      <td>3843.8</td>\n",
       "      <td>3843.4</td>\n",
       "      <td>3.0</td>\n",
       "      <td>34.0</td>\n",
       "      <td>37.0</td>\n",
       "      <td>-30</td>\n",
       "      <td>3843.0</td>\n",
       "      <td>3842.8</td>\n",
       "      <td>3842.4</td>\n",
       "      <td>...</td>\n",
       "      <td>13</td>\n",
       "      <td>12</td>\n",
       "      <td>2</td>\n",
       "      <td>4</td>\n",
       "      <td>2</td>\n",
       "      <td>7</td>\n",
       "      <td>1</td>\n",
       "      <td>2</td>\n",
       "      <td>11</td>\n",
       "      <td>1</td>\n",
       "    </tr>\n",
       "    <tr>\n",
       "      <td>4</td>\n",
       "      <td>4</td>\n",
       "      <td>3843.2</td>\n",
       "      <td>3843.1</td>\n",
       "      <td>3.0</td>\n",
       "      <td>38.0</td>\n",
       "      <td>41.0</td>\n",
       "      <td>-35</td>\n",
       "      <td>3842.8</td>\n",
       "      <td>3842.4</td>\n",
       "      <td>3842.0</td>\n",
       "      <td>...</td>\n",
       "      <td>12</td>\n",
       "      <td>2</td>\n",
       "      <td>2</td>\n",
       "      <td>4</td>\n",
       "      <td>1</td>\n",
       "      <td>3</td>\n",
       "      <td>1</td>\n",
       "      <td>11</td>\n",
       "      <td>15</td>\n",
       "      <td>1</td>\n",
       "    </tr>\n",
       "  </tbody>\n",
       "</table>\n",
       "<p>5 rows × 28 columns</p>\n",
       "</div>"
      ],
      "text/plain": [
       "   id  last_price     mid  opened_position_qty   closed_position_qty  \\\n",
       "0   0      3842.4  3842.6                  51.5                 51.5   \n",
       "1   1      3842.8  3843.4                   6.0                 49.0   \n",
       "2   2      3844.0  3844.3                   7.0                 77.0   \n",
       "3   3      3843.8  3843.4                   3.0                 34.0   \n",
       "4   4      3843.2  3843.1                   3.0                 38.0   \n",
       "\n",
       "   transacted_qty  d_open_interest    bid1    bid2    bid3  ...  bid2vol  \\\n",
       "0           103.0                0  3842.4  3842.0  3841.8  ...        1   \n",
       "1            55.0              -43  3843.0  3842.8  3842.4  ...        6   \n",
       "2            84.0              -69  3843.8  3843.6  3843.2  ...        1   \n",
       "3            37.0              -30  3843.0  3842.8  3842.4  ...       13   \n",
       "4            41.0              -35  3842.8  3842.4  3842.0  ...       12   \n",
       "\n",
       "   bid3vol  bid4vol  bid5vol  ask1vol  ask2vol  ask3vol  ask4vol  ask5vol  y  \n",
       "0        6       14        6        6        1        1       10        2  1  \n",
       "1       11        1        6        1        4        4        1       13  0  \n",
       "2        4       21       12        1       16       10        4        9  0  \n",
       "3       12        2        4        2        7        1        2       11  1  \n",
       "4        2        2        4        1        3        1       11       15  1  \n",
       "\n",
       "[5 rows x 28 columns]"
      ]
     },
     "execution_count": 3,
     "metadata": {},
     "output_type": "execute_result"
    }
   ],
   "source": [
    "df_train.head()"
   ]
  },
  {
   "cell_type": "code",
   "execution_count": 91,
   "metadata": {},
   "outputs": [],
   "source": [
    "# bid ask volume imbalance (A signed quantity indicating the number of shares at the bid\n",
    "# minus the number of shares at the ask in the current order books.)\n",
    "\n",
    "df_ex = df_ex.assign(bid_ask_vol_imbalance = \\\n",
    "                        lambda x: (x.bid1vol+x.bid2vol+x.bid3vol+x.bid4vol+x.bid5vol) / \\\n",
    "                                  (x.ask1vol+x.ask2vol+x.ask3vol+x.ask4vol+x.ask5vol))"
   ]
  },
  {
   "cell_type": "code",
   "execution_count": 7,
   "metadata": {},
   "outputs": [],
   "source": [
    "# signed_transaction volume = d_open_interest"
   ]
  },
  {
   "cell_type": "code",
   "execution_count": 13,
   "metadata": {},
   "outputs": [],
   "source": [
    "# best_bid_ask_spread level 1 - 5\n",
    "# indicator - difference between best bid price and best ask price\n",
    "df_ex = df_ex.assign(bid_ask_spread_l1 = lambda x: (x.bid1 - x.ask1))\n",
    "df_ex = df_ex.assign(bid_ask_spread_l2 = lambda x: (x.bid2 - x.ask2))\n",
    "df_ex = df_ex.assign(bid_ask_spread_l3 = lambda x: (x.bid3 - x.ask3))\n",
    "df_ex = df_ex.assign(bid_ask_spread_l4 = lambda x: (x.bid4 - x.ask4))\n",
    "df_ex = df_ex.assign(bid_ask_spread_l5 = lambda x: (x.bid5 - x.ask5))"
   ]
  },
  {
   "cell_type": "code",
   "execution_count": 58,
   "metadata": {},
   "outputs": [],
   "source": [
    "# diff_price: A feature measuring the recent directional movement of executed prices\n",
    "df_ex = df_ex.assign(diff_price = lambda x: (x.last_price - x.mid))"
   ]
  },
  {
   "cell_type": "code",
   "execution_count": 12,
   "metadata": {},
   "outputs": [],
   "source": [
    "# Trade imbalance - level 1 - 5\n",
    "df_ex = df_ex.assign(imbalance_level1 = \\\n",
    "                        lambda x: (x.bid1vol - x.ask1vol) / (x.bid1vol + x.ask1vol))\n",
    "\n",
    "df_ex = df_ex.assign(imbalance_level2 = \\\n",
    "                        lambda x: (x.bid2vol - x.ask2vol) / (x.bid2vol + x.ask2vol))\n",
    "\n",
    "df_ex = df_ex.assign(imbalance_level3 = \\\n",
    "                        lambda x: (x.bid3vol - x.ask3vol) / (x.bid3vol + x.ask3vol))\n",
    "\n",
    "df_ex = df_ex.assign(imbalance_level4 = \\\n",
    "                        lambda x: (x.bid4vol - x.ask4vol) / (x.bid4vol + x.ask4vol))\n",
    "\n",
    "df_ex = df_ex.assign(imbalance_level5 = \\\n",
    "                        lambda x: (x.bid5vol - x.ask5vol) / (x.bid5vol + x.ask5vol))"
   ]
  },
  {
   "cell_type": "code",
   "execution_count": null,
   "metadata": {},
   "outputs": [],
   "source": []
  },
  {
   "cell_type": "code",
   "execution_count": null,
   "metadata": {},
   "outputs": [],
   "source": []
  },
  {
   "cell_type": "code",
   "execution_count": 132,
   "metadata": {},
   "outputs": [],
   "source": [
    "cols = ['transacted_qty', 'd_open_interest', \n",
    "        'bid1vol', 'ask1vol', 'bid2vol', 'ask2vol', 'diff_price', \n",
    "        'bid_ask_spread_l2', \n",
    "        'bid_ask_spread_l1', 'imbalance_level1', 'imbalance_level2']"
   ]
  },
  {
   "cell_type": "code",
   "execution_count": 133,
   "metadata": {},
   "outputs": [],
   "source": [
    "X_train = np.asarray(df_ex[cols])\n",
    "y_train = np.asarray(df_ex['y'])"
   ]
  },
  {
   "cell_type": "code",
   "execution_count": 134,
   "metadata": {},
   "outputs": [
    {
     "name": "stdout",
     "output_type": "stream",
     "text": [
      "\n",
      "K-fold cross-validation results: \n",
      "RandomForestClassifier average accuracy: 0.661 (+/-0.003)\n",
      "RandomForestClassifier average log_loss: 0.613 (+/-0.003)\n",
      "RandomForestClassifier average auc: 0.660 (+/-0.007)\n"
     ]
    }
   ],
   "source": [
    "# Random forest\n",
    "\n",
    "scoring = {'accuracy': 'accuracy', 'log_loss': 'neg_log_loss', 'auc': 'roc_auc'}\n",
    "\n",
    "clf_test = RandomForestClassifier(max_depth=10, min_samples_split=2, \n",
    "                                  random_state=0, n_estimators=10, min_samples_leaf=4, \n",
    "                                  max_features='sqrt', criterion='gini')\n",
    "\n",
    "results = cross_validate(clf_test, X_train, y_train, cv=5, scoring=list(scoring.values()), \n",
    "                         return_train_score=False)\n",
    "    \n",
    "print('\\nK-fold cross-validation results: ')\n",
    "for sc in range(len(scoring)):\n",
    "    print(clf_test.__class__.__name__+\" average %s: %.3f (+/-%.3f)\" % (list(scoring.keys())[sc], -results['test_%s' % list(scoring.values())[sc]].mean()\n",
    "    if list(scoring.values())[sc]=='neg_log_loss' \n",
    "    else results['test_%s' % list(scoring.values())[sc]].mean(), \n",
    "        results['test_%s' % list(scoring.values())[sc]].std()))"
   ]
  },
  {
   "cell_type": "code",
   "execution_count": null,
   "metadata": {},
   "outputs": [],
   "source": []
  },
  {
   "cell_type": "code",
   "execution_count": null,
   "metadata": {},
   "outputs": [],
   "source": []
  },
  {
   "cell_type": "code",
   "execution_count": null,
   "metadata": {},
   "outputs": [],
   "source": []
  },
  {
   "cell_type": "code",
   "execution_count": null,
   "metadata": {},
   "outputs": [],
   "source": []
  },
  {
   "cell_type": "code",
   "execution_count": null,
   "metadata": {},
   "outputs": [],
   "source": []
  },
  {
   "cell_type": "code",
   "execution_count": 105,
   "metadata": {},
   "outputs": [],
   "source": [
    "# bid ask volume imbalance (A signed quantity indicating the number of shares at the bid\n",
    "# minus the number of shares at the ask in the current order books.)\n",
    "\n",
    "df_test = df_test.assign(bid_ask_vol_imbalance = \\\n",
    "                        lambda x: (x.bid1vol+x.bid2vol+x.bid3vol+x.bid4vol+x.bid5vol) / \\\n",
    "                                  (x.ask1vol+x.ask2vol+x.ask3vol+x.ask4vol+x.ask5vol))\n",
    "\n",
    "df_test = df_test.assign(bid_ask_spread_l1 = lambda x: (x.bid1 - x.ask1))\n",
    "df_test = df_test.assign(bid_ask_spread_l2 = lambda x: (x.bid2 - x.ask2))\n",
    "df_test = df_test.assign(bid_ask_spread_l3 = lambda x: (x.bid3 - x.ask3))\n",
    "df_test = df_test.assign(bid_ask_spread_l4 = lambda x: (x.bid4 - x.ask4))\n",
    "df_test = df_test.assign(bid_ask_spread_l5 = lambda x: (x.bid5 - x.ask5))\n",
    "\n",
    "df_test = df_test.assign(diff_price = lambda x: (x.last_price - x.mid))\n",
    "\n",
    "df_test = df_test.assign(imbalance_level1 = \\\n",
    "                        lambda x: (x.bid1vol - x.ask1vol) / (x.bid1vol + x.ask1vol))\n",
    "\n",
    "df_test = df_test.assign(imbalance_level2 = \\\n",
    "                        lambda x: (x.bid2vol - x.ask2vol) / (x.bid2vol + x.ask2vol))\n",
    "\n",
    "df_test = df_test.assign(imbalance_level3 = \\\n",
    "                        lambda x: (x.bid3vol - x.ask3vol) / (x.bid3vol + x.ask3vol))\n",
    "\n",
    "df_test = df_test.assign(imbalance_level4 = \\\n",
    "                        lambda x: (x.bid4vol - x.ask4vol) / (x.bid4vol + x.ask4vol))\n",
    "\n",
    "df_test = df_test.assign(imbalance_level5 = \\\n",
    "                        lambda x: (x.bid5vol - x.ask5vol) / (x.bid5vol + x.ask5vol))"
   ]
  },
  {
   "cell_type": "code",
   "execution_count": 106,
   "metadata": {},
   "outputs": [],
   "source": [
    "X_test = np.asarray(df_test[cols])"
   ]
  },
  {
   "cell_type": "code",
   "execution_count": 107,
   "metadata": {},
   "outputs": [
    {
     "data": {
      "text/plain": [
       "RandomForestClassifier(bootstrap=True, class_weight=None, criterion='gini',\n",
       "                       max_depth=10, max_features='sqrt', max_leaf_nodes=None,\n",
       "                       min_impurity_decrease=0.0, min_impurity_split=None,\n",
       "                       min_samples_leaf=4, min_samples_split=2,\n",
       "                       min_weight_fraction_leaf=0.0, n_estimators=300,\n",
       "                       n_jobs=None, oob_score=False, random_state=0, verbose=0,\n",
       "                       warm_start=False)"
      ]
     },
     "execution_count": 107,
     "metadata": {},
     "output_type": "execute_result"
    }
   ],
   "source": [
    "clf_test.fit(X_train, y_train)"
   ]
  },
  {
   "cell_type": "code",
   "execution_count": 81,
   "metadata": {},
   "outputs": [
    {
     "data": {
      "text/plain": [
       "RandomForestClassifier(bootstrap=True, class_weight=None, criterion='gini',\n",
       "                       max_depth=5, max_features='sqrt', max_leaf_nodes=None,\n",
       "                       min_impurity_decrease=0.0, min_impurity_split=None,\n",
       "                       min_samples_leaf=1, min_samples_split=2,\n",
       "                       min_weight_fraction_leaf=0.0, n_estimators=10,\n",
       "                       n_jobs=None, oob_score=False, random_state=0, verbose=0,\n",
       "                       warm_start=False)"
      ]
     },
     "execution_count": 81,
     "metadata": {},
     "output_type": "execute_result"
    }
   ],
   "source": [
    "clf_final = RandomForestClassifier(max_depth=5, min_samples_split=2, \n",
    "                                  random_state=0, n_estimators=10, \n",
    "                                  max_features='sqrt', criterion='gini')\n",
    "clf_final.fit(X_train, y_train)"
   ]
  },
  {
   "cell_type": "code",
   "execution_count": 108,
   "metadata": {},
   "outputs": [
    {
     "data": {
      "text/html": [
       "<div>\n",
       "<style scoped>\n",
       "    .dataframe tbody tr th:only-of-type {\n",
       "        vertical-align: middle;\n",
       "    }\n",
       "\n",
       "    .dataframe tbody tr th {\n",
       "        vertical-align: top;\n",
       "    }\n",
       "\n",
       "    .dataframe thead th {\n",
       "        text-align: right;\n",
       "    }\n",
       "</style>\n",
       "<table border=\"1\" class=\"dataframe\">\n",
       "  <thead>\n",
       "    <tr style=\"text-align: right;\">\n",
       "      <th></th>\n",
       "      <th>Predicted</th>\n",
       "    </tr>\n",
       "    <tr>\n",
       "      <th>id</th>\n",
       "      <th></th>\n",
       "    </tr>\n",
       "  </thead>\n",
       "  <tbody>\n",
       "    <tr>\n",
       "      <td>592380</td>\n",
       "      <td>0.547844</td>\n",
       "    </tr>\n",
       "    <tr>\n",
       "      <td>592381</td>\n",
       "      <td>0.183566</td>\n",
       "    </tr>\n",
       "    <tr>\n",
       "      <td>592382</td>\n",
       "      <td>0.388425</td>\n",
       "    </tr>\n",
       "    <tr>\n",
       "      <td>592383</td>\n",
       "      <td>0.448332</td>\n",
       "    </tr>\n",
       "    <tr>\n",
       "      <td>592384</td>\n",
       "      <td>0.303461</td>\n",
       "    </tr>\n",
       "    <tr>\n",
       "      <td>...</td>\n",
       "      <td>...</td>\n",
       "    </tr>\n",
       "    <tr>\n",
       "      <td>784234</td>\n",
       "      <td>0.343298</td>\n",
       "    </tr>\n",
       "    <tr>\n",
       "      <td>784235</td>\n",
       "      <td>0.120547</td>\n",
       "    </tr>\n",
       "    <tr>\n",
       "      <td>784236</td>\n",
       "      <td>0.488931</td>\n",
       "    </tr>\n",
       "    <tr>\n",
       "      <td>784237</td>\n",
       "      <td>0.369744</td>\n",
       "    </tr>\n",
       "    <tr>\n",
       "      <td>784238</td>\n",
       "      <td>0.430175</td>\n",
       "    </tr>\n",
       "  </tbody>\n",
       "</table>\n",
       "<p>191859 rows × 1 columns</p>\n",
       "</div>"
      ],
      "text/plain": [
       "        Predicted\n",
       "id               \n",
       "592380   0.547844\n",
       "592381   0.183566\n",
       "592382   0.388425\n",
       "592383   0.448332\n",
       "592384   0.303461\n",
       "...           ...\n",
       "784234   0.343298\n",
       "784235   0.120547\n",
       "784236   0.488931\n",
       "784237   0.369744\n",
       "784238   0.430175\n",
       "\n",
       "[191859 rows x 1 columns]"
      ]
     },
     "execution_count": 108,
     "metadata": {},
     "output_type": "execute_result"
    }
   ],
   "source": [
    "test_pred = clf_test.predict_proba(X_test)[:, 1]\n",
    "sample_id = np.asarray(df_test['id'])\n",
    "predictions = {'id': sample_id, 'Predicted': test_pred}\n",
    "df_output = pd.DataFrame(predictions, columns=['id', 'Predicted'])\n",
    "df_output.set_index('id')"
   ]
  },
  {
   "cell_type": "code",
   "execution_count": 109,
   "metadata": {},
   "outputs": [],
   "source": [
    "df_output.to_csv('prediction/betty_rf_f.csv', index=None)"
   ]
  },
  {
   "cell_type": "code",
   "execution_count": null,
   "metadata": {},
   "outputs": [],
   "source": []
  }
 ],
 "metadata": {
  "kernelspec": {
   "display_name": "Python 3",
   "language": "python",
   "name": "python3"
  },
  "language_info": {
   "codemirror_mode": {
    "name": "ipython",
    "version": 3
   },
   "file_extension": ".py",
   "mimetype": "text/x-python",
   "name": "python",
   "nbconvert_exporter": "python",
   "pygments_lexer": "ipython3",
   "version": "3.7.4"
  }
 },
 "nbformat": 4,
 "nbformat_minor": 4
}

{
 "cells": [
  {
   "cell_type": "code",
   "execution_count": 1,
   "metadata": {},
   "outputs": [],
   "source": [
    "import pandas as pd\n",
    "import matplotlib.pyplot as plt\n",
    "import numpy as np\n",
    "\n",
    "import torch\n",
    "import torch.nn as nn\n",
    "import torch.nn.functional as F\n",
    "from torchvision import datasets, transforms\n",
    "\n",
    "from sklearn.ensemble import RandomForestClassifier\n",
    "from sklearn.datasets import make_classification\n",
    "from sklearn.metrics import roc_curve, auc\n",
    "from sklearn.model_selection import cross_validate"
   ]
  },
  {
   "cell_type": "code",
   "execution_count": 86,
   "metadata": {},
   "outputs": [],
   "source": [
    "# Train and test data\n",
    "df_train = pd.read_csv('data/train.csv')\n",
    "df_test = pd.read_csv('data/test.csv')\n",
    "\n",
    "nan_values = {'opened_position_qty ': (df_train['transacted_qty'] + df_train['d_open_interest']) / 2 , \n",
    "              'closed_position_qty': (df_train['transacted_qty'] - df_train['d_open_interest']) / 2}\n",
    "df_train = df_train.fillna(value=nan_values)"
   ]
  },
  {
   "cell_type": "markdown",
   "metadata": {},
   "source": [
    "#### Test 1: Drop all bid[3-5][vol], ask[3-5][vol], id, and mid. Keep opened_position_qty and closed_position_qty. "
   ]
  },
  {
   "cell_type": "code",
   "execution_count": 43,
   "metadata": {},
   "outputs": [],
   "source": [
    "df_ex_1 = df_train.drop(columns=['id', \n",
    "                                 'bid3vol', 'bid4vol', 'bid5vol', \n",
    "                                 'ask3vol', 'ask4vol', 'ask5vol', \n",
    "                                 'mid', \n",
    "                                 'ask3', 'ask4', 'ask5', \n",
    "                                 'bid3', 'bid4', 'bid5'])"
   ]
  },
  {
   "cell_type": "code",
   "execution_count": 44,
   "metadata": {},
   "outputs": [],
   "source": [
    "cols_to_norm = ['last_price', 'bid1', 'bid2', 'ask1', 'ask2']\n",
    "df_ex_1[cols_to_norm] = df_ex_1[cols_to_norm].apply(lambda x: (x - x.min()) / (x.max() - x.min()))"
   ]
  },
  {
   "cell_type": "code",
   "execution_count": 45,
   "metadata": {},
   "outputs": [],
   "source": [
    "X_train = np.asarray(df_ex_1.iloc[:, 0:13])\n",
    "y_train = np.asarray(df_ex_1['y'])"
   ]
  },
  {
   "cell_type": "code",
   "execution_count": 46,
   "metadata": {},
   "outputs": [
    {
     "name": "stdout",
     "output_type": "stream",
     "text": [
      "\n",
      "K-fold cross-validation results: \n",
      "RandomForestClassifier average accuracy: 0.643 (+/-0.000)\n",
      "RandomForestClassifier average log_loss: 0.644 (+/-0.002)\n",
      "RandomForestClassifier average auc: 0.598 (+/-0.015)\n"
     ]
    }
   ],
   "source": [
    "scoring = {'accuracy': 'accuracy', 'log_loss': 'neg_log_loss', 'auc': 'roc_auc'}\n",
    "\n",
    "clf_test = RandomForestClassifier(max_depth=2, min_samples_split=2, \n",
    "                                  random_state=1, n_estimators=10, \n",
    "                                  max_features='sqrt')\n",
    "\n",
    "results = cross_validate(clf_test, X_train, y_train, cv=5, scoring=list(scoring.values()), \n",
    "                         return_train_score=False)\n",
    "    \n",
    "print('\\nK-fold cross-validation results: ')\n",
    "for sc in range(len(scoring)):\n",
    "    print(clf_test.__class__.__name__+\" average %s: %.3f (+/-%.3f)\" % (list(scoring.keys())[sc], -results['test_%s' % list(scoring.values())[sc]].mean()\n",
    "    if list(scoring.values())[sc]=='neg_log_loss' \n",
    "    else results['test_%s' % list(scoring.values())[sc]].mean(), \n",
    "        results['test_%s' % list(scoring.values())[sc]].std()))"
   ]
  },
  {
   "cell_type": "markdown",
   "metadata": {},
   "source": [
    "#### Test 2: Drop all bid[3-5][vol], ask[3-5][vol], id, mid, transaction_qty, d_open_interest"
   ]
  },
  {
   "cell_type": "code",
   "execution_count": 47,
   "metadata": {},
   "outputs": [],
   "source": [
    "df_ex_2 = df_train.drop(columns=['id', \n",
    "                                 'bid3vol', 'bid4vol', 'bid5vol', \n",
    "                                 'ask3vol', 'ask4vol', 'ask5vol', \n",
    "                                 'mid', \n",
    "                                 'transacted_qty', 'd_open_interest', \n",
    "                                 'ask3', 'ask4', 'ask5', \n",
    "                                 'bid3', 'bid4', 'bid5'])"
   ]
  },
  {
   "cell_type": "code",
   "execution_count": 48,
   "metadata": {},
   "outputs": [],
   "source": [
    "cols_to_norm = ['last_price', 'bid1', 'bid2', 'ask1', 'ask2']\n",
    "df_ex_2[cols_to_norm] = df_ex_2[cols_to_norm].apply(lambda x: (x - x.min()) / (x.max() - x.min()))"
   ]
  },
  {
   "cell_type": "code",
   "execution_count": 49,
   "metadata": {},
   "outputs": [],
   "source": [
    "X_train = np.asarray(df_ex_2.iloc[:, 0:11])\n",
    "y_train = np.asarray(df_ex_2['y'])"
   ]
  },
  {
   "cell_type": "code",
   "execution_count": 50,
   "metadata": {},
   "outputs": [
    {
     "name": "stdout",
     "output_type": "stream",
     "text": [
      "\n",
      "K-fold cross-validation results: \n",
      "RandomForestClassifier average accuracy: 0.643 (+/-0.000)\n",
      "RandomForestClassifier average log_loss: 0.635 (+/-0.001)\n",
      "RandomForestClassifier average auc: 0.626 (+/-0.006)\n"
     ]
    }
   ],
   "source": [
    "scoring = {'accuracy': 'accuracy', 'log_loss': 'neg_log_loss', 'auc': 'roc_auc'}\n",
    "\n",
    "clf_test = RandomForestClassifier(max_depth=2, min_samples_split=2, \n",
    "                                  random_state=1, n_estimators=10, \n",
    "                                  max_features='sqrt')\n",
    "\n",
    "results = cross_validate(clf_test, X_train, y_train, cv=5, scoring=list(scoring.values()), \n",
    "                         return_train_score=False)\n",
    "    \n",
    "print('\\nK-fold cross-validation results: ')\n",
    "for sc in range(len(scoring)):\n",
    "    print(clf_test.__class__.__name__+\" average %s: %.3f (+/-%.3f)\" % (list(scoring.keys())[sc], -results['test_%s' % list(scoring.values())[sc]].mean()\n",
    "    if list(scoring.values())[sc]=='neg_log_loss' \n",
    "    else results['test_%s' % list(scoring.values())[sc]].mean(), \n",
    "        results['test_%s' % list(scoring.values())[sc]].std()))"
   ]
  },
  {
   "cell_type": "markdown",
   "metadata": {},
   "source": [
    "#### Test 3: Drop all bid[3-5][vol], ask[3-5][vol], id, mid, transaction_qty, d_open_interest, last_price"
   ]
  },
  {
   "cell_type": "code",
   "execution_count": 51,
   "metadata": {},
   "outputs": [],
   "source": [
    "df_ex_3 = df_train.drop(columns=['id', \n",
    "                                 'bid3vol', 'bid4vol', 'bid5vol', \n",
    "                                 'ask3vol', 'ask4vol', 'ask5vol', \n",
    "                                 'mid', 'last_price', \n",
    "                                 'transacted_qty', 'd_open_interest', \n",
    "                                 'ask3', 'ask4', 'ask5', \n",
    "                                 'bid3', 'bid4', 'bid5'])"
   ]
  },
  {
   "cell_type": "code",
   "execution_count": 52,
   "metadata": {},
   "outputs": [],
   "source": [
    "cols_to_norm = ['bid1', 'bid2', 'ask1', 'ask2']\n",
    "df_ex_3[cols_to_norm] = df_ex_3[cols_to_norm].apply(lambda x: (x - x.min()) / (x.max() - x.min()))"
   ]
  },
  {
   "cell_type": "code",
   "execution_count": 53,
   "metadata": {},
   "outputs": [],
   "source": [
    "X_train = np.asarray(df_ex_3.iloc[:, 0:10])\n",
    "y_train = np.asarray(df_ex_3['y'])"
   ]
  },
  {
   "cell_type": "code",
   "execution_count": 54,
   "metadata": {},
   "outputs": [
    {
     "name": "stdout",
     "output_type": "stream",
     "text": [
      "\n",
      "K-fold cross-validation results: \n",
      "RandomForestClassifier average accuracy: 0.643 (+/-0.000)\n",
      "RandomForestClassifier average log_loss: 0.636 (+/-0.001)\n",
      "RandomForestClassifier average auc: 0.623 (+/-0.007)\n"
     ]
    }
   ],
   "source": [
    "scoring = {'accuracy': 'accuracy', 'log_loss': 'neg_log_loss', 'auc': 'roc_auc'}\n",
    "\n",
    "clf_test = RandomForestClassifier(max_depth=2, min_samples_split=2, \n",
    "                                  random_state=1, n_estimators=10, \n",
    "                                  max_features='sqrt')\n",
    "\n",
    "results = cross_validate(clf_test, X_train, y_train, cv=5, scoring=list(scoring.values()), \n",
    "                         return_train_score=False)\n",
    "    \n",
    "print('\\nK-fold cross-validation results: ')\n",
    "for sc in range(len(scoring)):\n",
    "    print(clf_test.__class__.__name__+\" average %s: %.3f (+/-%.3f)\" % (list(scoring.keys())[sc], -results['test_%s' % list(scoring.values())[sc]].mean()\n",
    "    if list(scoring.values())[sc]=='neg_log_loss' \n",
    "    else results['test_%s' % list(scoring.values())[sc]].mean(), \n",
    "        results['test_%s' % list(scoring.values())[sc]].std()))"
   ]
  },
  {
   "cell_type": "markdown",
   "metadata": {},
   "source": [
    "#### Test 4: Drop all bid[3-5][vol], ask[3-5][vol], mid, transaction_qty, d_open_interest"
   ]
  },
  {
   "cell_type": "code",
   "execution_count": 56,
   "metadata": {},
   "outputs": [],
   "source": [
    "df_ex_4 = df_train.drop(columns=['bid3vol', 'bid4vol', 'bid5vol', \n",
    "                                 'ask3vol', 'ask4vol', 'ask5vol', \n",
    "                                 'mid',\n",
    "                                 'transacted_qty', 'd_open_interest', \n",
    "                                 'ask3', 'ask4', 'ask5', \n",
    "                                 'bid3', 'bid4', 'bid5'])"
   ]
  },
  {
   "cell_type": "code",
   "execution_count": 57,
   "metadata": {},
   "outputs": [],
   "source": [
    "cols_to_norm = ['last_price', 'bid1', 'bid2', 'ask1', 'ask2']\n",
    "df_ex_4[cols_to_norm] = df_ex_4[cols_to_norm].apply(lambda x: (x - x.min()) / (x.max() - x.min()))"
   ]
  },
  {
   "cell_type": "code",
   "execution_count": 62,
   "metadata": {},
   "outputs": [],
   "source": [
    "X_train = np.asarray(df_ex_4.iloc[:, 0:12])\n",
    "y_train = np.asarray(df_ex_4['y'])"
   ]
  },
  {
   "cell_type": "code",
   "execution_count": 63,
   "metadata": {},
   "outputs": [
    {
     "name": "stdout",
     "output_type": "stream",
     "text": [
      "\n",
      "K-fold cross-validation results: \n",
      "RandomForestClassifier average accuracy: 0.586 (+/-0.114)\n",
      "RandomForestClassifier average log_loss: 0.664 (+/-0.054)\n",
      "RandomForestClassifier average auc: 0.619 (+/-0.014)\n"
     ]
    }
   ],
   "source": [
    "# don't include ID\n",
    "\n",
    "scoring = {'accuracy': 'accuracy', 'log_loss': 'neg_log_loss', 'auc': 'roc_auc'}\n",
    "\n",
    "clf_test = RandomForestClassifier(max_depth=2, min_samples_split=2, \n",
    "                                  random_state=1, n_estimators=10, \n",
    "                                  max_features='sqrt')\n",
    "\n",
    "results = cross_validate(clf_test, X_train, y_train, cv=5, scoring=list(scoring.values()), \n",
    "                         return_train_score=False)\n",
    "    \n",
    "print('\\nK-fold cross-validation results: ')\n",
    "for sc in range(len(scoring)):\n",
    "    print(clf_test.__class__.__name__+\" average %s: %.3f (+/-%.3f)\" % (list(scoring.keys())[sc], -results['test_%s' % list(scoring.values())[sc]].mean()\n",
    "    if list(scoring.values())[sc]=='neg_log_loss' \n",
    "    else results['test_%s' % list(scoring.values())[sc]].mean(), \n",
    "        results['test_%s' % list(scoring.values())[sc]].std()))"
   ]
  },
  {
   "cell_type": "markdown",
   "metadata": {},
   "source": [
    "#### Test 5: Drop all bid[4-5][vol], ask[4-5][vol], id, mid, transaction_qty, d_open_interest"
   ]
  },
  {
   "cell_type": "code",
   "execution_count": 64,
   "metadata": {},
   "outputs": [],
   "source": [
    "df_ex_5 = df_train.drop(columns=['bid4vol', 'bid5vol', \n",
    "                                 'ask4vol', 'ask5vol', \n",
    "                                 'mid', 'id'\n",
    "                                 'transacted_qty', 'd_open_interest', \n",
    "                                 'ask4', 'ask5', \n",
    "                                 'bid4', 'bid5'])"
   ]
  },
  {
   "cell_type": "code",
   "execution_count": 65,
   "metadata": {},
   "outputs": [],
   "source": [
    "cols_to_norm = ['last_price', 'bid1', 'bid2', 'bid3', 'ask1', 'ask2', 'ask3']\n",
    "df_ex_5[cols_to_norm] = df_ex_5[cols_to_norm].apply(lambda x: (x - x.min()) / (x.max() - x.min()))"
   ]
  },
  {
   "cell_type": "code",
   "execution_count": 70,
   "metadata": {},
   "outputs": [],
   "source": [
    "X_train = np.asarray(df_ex_5.iloc[:, 0:16])\n",
    "y_train = np.asarray(df_ex_5['y'])"
   ]
  },
  {
   "cell_type": "code",
   "execution_count": 71,
   "metadata": {},
   "outputs": [
    {
     "name": "stdout",
     "output_type": "stream",
     "text": [
      "\n",
      "K-fold cross-validation results: \n",
      "RandomForestClassifier average accuracy: 0.586 (+/-0.114)\n",
      "RandomForestClassifier average log_loss: 0.671 (+/-0.070)\n",
      "RandomForestClassifier average auc: 0.603 (+/-0.048)\n"
     ]
    }
   ],
   "source": [
    "# bid/ask should be kept at smaller than 2\n",
    "\n",
    "scoring = {'accuracy': 'accuracy', 'log_loss': 'neg_log_loss', 'auc': 'roc_auc'}\n",
    "\n",
    "clf_test = RandomForestClassifier(max_depth=2, min_samples_split=2, \n",
    "                                  random_state=1, n_estimators=10, \n",
    "                                  max_features='sqrt')\n",
    "\n",
    "results = cross_validate(clf_test, X_train, y_train, cv=5, scoring=list(scoring.values()), \n",
    "                         return_train_score=False)\n",
    "    \n",
    "print('\\nK-fold cross-validation results: ')\n",
    "for sc in range(len(scoring)):\n",
    "    print(clf_test.__class__.__name__+\" average %s: %.3f (+/-%.3f)\" % (list(scoring.keys())[sc], -results['test_%s' % list(scoring.values())[sc]].mean()\n",
    "    if list(scoring.values())[sc]=='neg_log_loss' \n",
    "    else results['test_%s' % list(scoring.values())[sc]].mean(), \n",
    "        results['test_%s' % list(scoring.values())[sc]].std()))"
   ]
  },
  {
   "cell_type": "code",
   "execution_count": null,
   "metadata": {},
   "outputs": [],
   "source": []
  },
  {
   "cell_type": "code",
   "execution_count": 87,
   "metadata": {},
   "outputs": [],
   "source": [
    "df_train_final = df_train.drop(columns=['id', \n",
    "                                 'bid3vol', 'bid4vol', 'bid5vol', \n",
    "                                 'ask3vol', 'ask4vol', 'ask5vol', \n",
    "                                 'mid', \n",
    "                                 'transacted_qty', 'd_open_interest', \n",
    "                                 'ask3', 'ask4', 'ask5', \n",
    "                                 'bid3', 'bid4', 'bid5'])"
   ]
  },
  {
   "cell_type": "code",
   "execution_count": 88,
   "metadata": {},
   "outputs": [],
   "source": [
    "X_train_final = np.asarray(df_train_final.iloc[:, 0:11])\n",
    "y_train_final = np.asarray(df_train_final['y'])"
   ]
  },
  {
   "cell_type": "code",
   "execution_count": 94,
   "metadata": {},
   "outputs": [],
   "source": [
    "nan_values = {'opened_position_qty ': (df_test['transacted_qty'] + df_test['d_open_interest']) / 2 , \n",
    "              'closed_position_qty': (df_test['transacted_qty'] - df_test['d_open_interest']) / 2}\n",
    "df_test_final = df_test.fillna(value=nan_values)\n",
    "\n",
    "df_test_final = df_test_final.drop(columns=['id', \n",
    "                                 'bid3vol', 'bid4vol', 'bid5vol', \n",
    "                                 'ask3vol', 'ask4vol', 'ask5vol', \n",
    "                                 'mid', \n",
    "                                 'transacted_qty', 'd_open_interest', \n",
    "                                 'ask3', 'ask4', 'ask5', \n",
    "                                 'bid3', 'bid4', 'bid5'])"
   ]
  },
  {
   "cell_type": "code",
   "execution_count": 95,
   "metadata": {},
   "outputs": [],
   "source": [
    "cols_to_norm = ['last_price', 'bid1', 'bid2', 'ask1', 'ask2']\n",
    "df_test_final[cols_to_norm] = df_test_final[cols_to_norm].apply(lambda x: (x - x.min()) / (x.max() - x.min()))"
   ]
  },
  {
   "cell_type": "code",
   "execution_count": 96,
   "metadata": {},
   "outputs": [],
   "source": [
    "X_test = np.asarray(df_test_final.iloc[:, 0:11])"
   ]
  },
  {
   "cell_type": "code",
   "execution_count": 97,
   "metadata": {},
   "outputs": [
    {
     "data": {
      "text/plain": [
       "RandomForestClassifier(bootstrap=True, class_weight=None, criterion='gini',\n",
       "                       max_depth=2, max_features='sqrt', max_leaf_nodes=None,\n",
       "                       min_impurity_decrease=0.0, min_impurity_split=None,\n",
       "                       min_samples_leaf=1, min_samples_split=2,\n",
       "                       min_weight_fraction_leaf=0.0, n_estimators=10,\n",
       "                       n_jobs=None, oob_score=False, random_state=1, verbose=0,\n",
       "                       warm_start=False)"
      ]
     },
     "execution_count": 97,
     "metadata": {},
     "output_type": "execute_result"
    }
   ],
   "source": [
    "clf_final = RandomForestClassifier(max_depth=2, min_samples_split=2, \n",
    "                                  random_state=1, n_estimators=10, \n",
    "                                  max_features='sqrt')\n",
    "clf_final.fit(X_train_final, y_train_final)"
   ]
  },
  {
   "cell_type": "code",
   "execution_count": 99,
   "metadata": {},
   "outputs": [
    {
     "data": {
      "text/html": [
       "<div>\n",
       "<style scoped>\n",
       "    .dataframe tbody tr th:only-of-type {\n",
       "        vertical-align: middle;\n",
       "    }\n",
       "\n",
       "    .dataframe tbody tr th {\n",
       "        vertical-align: top;\n",
       "    }\n",
       "\n",
       "    .dataframe thead th {\n",
       "        text-align: right;\n",
       "    }\n",
       "</style>\n",
       "<table border=\"1\" class=\"dataframe\">\n",
       "  <thead>\n",
       "    <tr style=\"text-align: right;\">\n",
       "      <th></th>\n",
       "      <th>Predicted</th>\n",
       "    </tr>\n",
       "    <tr>\n",
       "      <th>id</th>\n",
       "      <th></th>\n",
       "    </tr>\n",
       "  </thead>\n",
       "  <tbody>\n",
       "    <tr>\n",
       "      <td>592380</td>\n",
       "      <td>0.458917</td>\n",
       "    </tr>\n",
       "    <tr>\n",
       "      <td>592381</td>\n",
       "      <td>0.281462</td>\n",
       "    </tr>\n",
       "    <tr>\n",
       "      <td>592382</td>\n",
       "      <td>0.341447</td>\n",
       "    </tr>\n",
       "    <tr>\n",
       "      <td>592383</td>\n",
       "      <td>0.455875</td>\n",
       "    </tr>\n",
       "    <tr>\n",
       "      <td>592384</td>\n",
       "      <td>0.289943</td>\n",
       "    </tr>\n",
       "    <tr>\n",
       "      <td>...</td>\n",
       "      <td>...</td>\n",
       "    </tr>\n",
       "    <tr>\n",
       "      <td>784234</td>\n",
       "      <td>0.363996</td>\n",
       "    </tr>\n",
       "    <tr>\n",
       "      <td>784235</td>\n",
       "      <td>0.368065</td>\n",
       "    </tr>\n",
       "    <tr>\n",
       "      <td>784236</td>\n",
       "      <td>0.363996</td>\n",
       "    </tr>\n",
       "    <tr>\n",
       "      <td>784237</td>\n",
       "      <td>0.368065</td>\n",
       "    </tr>\n",
       "    <tr>\n",
       "      <td>784238</td>\n",
       "      <td>0.448142</td>\n",
       "    </tr>\n",
       "  </tbody>\n",
       "</table>\n",
       "<p>191859 rows × 1 columns</p>\n",
       "</div>"
      ],
      "text/plain": [
       "        Predicted\n",
       "id               \n",
       "592380   0.458917\n",
       "592381   0.281462\n",
       "592382   0.341447\n",
       "592383   0.455875\n",
       "592384   0.289943\n",
       "...           ...\n",
       "784234   0.363996\n",
       "784235   0.368065\n",
       "784236   0.363996\n",
       "784237   0.368065\n",
       "784238   0.448142\n",
       "\n",
       "[191859 rows x 1 columns]"
      ]
     },
     "execution_count": 99,
     "metadata": {},
     "output_type": "execute_result"
    }
   ],
   "source": [
    "test_pred = clf_final.predict_proba(X_test)[:, 1]\n",
    "sample_id = np.asarray(df_test['id'])\n",
    "predictions = {'id': sample_id, 'Predicted': test_pred}\n",
    "df_output = pd.DataFrame(predictions, columns=['id', 'Predicted'])\n",
    "df_output.set_index('id')"
   ]
  },
  {
   "cell_type": "code",
   "execution_count": 100,
   "metadata": {},
   "outputs": [],
   "source": [
    "df_output.to_csv('prediction/betty_rf_2.csv', index=None)"
   ]
  },
  {
   "cell_type": "code",
   "execution_count": null,
   "metadata": {},
   "outputs": [],
   "source": []
  }
 ],
 "metadata": {
  "kernelspec": {
   "display_name": "Python 3",
   "language": "python",
   "name": "python3"
  },
  "language_info": {
   "codemirror_mode": {
    "name": "ipython",
    "version": 3
   },
   "file_extension": ".py",
   "mimetype": "text/x-python",
   "name": "python",
   "nbconvert_exporter": "python",
   "pygments_lexer": "ipython3",
   "version": "3.7.4"
  }
 },
 "nbformat": 4,
 "nbformat_minor": 4
}

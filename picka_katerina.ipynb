{
 "cells": [
  {
   "cell_type": "code",
   "execution_count": 1,
   "metadata": {},
   "outputs": [],
   "source": [
    "import pandas as pd \n",
    "import numpy as np\n",
    "\n",
    "df = pd.read_csv('data/train.csv') "
   ]
  },
  {
   "cell_type": "code",
   "execution_count": 2,
   "metadata": {},
   "outputs": [],
   "source": [
    "tst = pd.read_csv('data/test.csv')"
   ]
  },
  {
   "cell_type": "code",
   "execution_count": 3,
   "metadata": {
    "scrolled": true
   },
   "outputs": [
    {
     "name": "stdout",
     "output_type": "stream",
     "text": [
      "<class 'pandas.core.frame.DataFrame'>\n",
      "RangeIndex: 191859 entries, 0 to 191858\n",
      "Data columns (total 27 columns):\n",
      "id                      191859 non-null int64\n",
      "last_price              191859 non-null float64\n",
      "mid                     191859 non-null float64\n",
      "opened_position_qty     138203 non-null float64\n",
      "closed_position_qty     138203 non-null float64\n",
      "transacted_qty          191859 non-null float64\n",
      "d_open_interest         191859 non-null int64\n",
      "bid1                    191859 non-null float64\n",
      "bid2                    191859 non-null float64\n",
      "bid3                    191859 non-null float64\n",
      "bid4                    191859 non-null float64\n",
      "bid5                    191859 non-null float64\n",
      "ask1                    191859 non-null float64\n",
      "ask2                    191859 non-null float64\n",
      "ask3                    191859 non-null float64\n",
      "ask4                    191859 non-null float64\n",
      "ask5                    191859 non-null float64\n",
      "bid1vol                 191859 non-null int64\n",
      "bid2vol                 191859 non-null int64\n",
      "bid3vol                 191859 non-null int64\n",
      "bid4vol                 191859 non-null int64\n",
      "bid5vol                 191859 non-null int64\n",
      "ask1vol                 191859 non-null int64\n",
      "ask2vol                 191859 non-null int64\n",
      "ask3vol                 191859 non-null int64\n",
      "ask4vol                 191859 non-null int64\n",
      "ask5vol                 191859 non-null int64\n",
      "dtypes: float64(15), int64(12)\n",
      "memory usage: 39.5 MB\n"
     ]
    }
   ],
   "source": [
    "tst.info()"
   ]
  },
  {
   "cell_type": "code",
   "execution_count": 4,
   "metadata": {},
   "outputs": [
    {
     "data": {
      "text/html": [
       "<div>\n",
       "<style scoped>\n",
       "    .dataframe tbody tr th:only-of-type {\n",
       "        vertical-align: middle;\n",
       "    }\n",
       "\n",
       "    .dataframe tbody tr th {\n",
       "        vertical-align: top;\n",
       "    }\n",
       "\n",
       "    .dataframe thead th {\n",
       "        text-align: right;\n",
       "    }\n",
       "</style>\n",
       "<table border=\"1\" class=\"dataframe\">\n",
       "  <thead>\n",
       "    <tr style=\"text-align: right;\">\n",
       "      <th></th>\n",
       "      <th>id</th>\n",
       "      <th>last_price</th>\n",
       "      <th>mid</th>\n",
       "      <th>opened_position_qty</th>\n",
       "      <th>closed_position_qty</th>\n",
       "      <th>transacted_qty</th>\n",
       "      <th>d_open_interest</th>\n",
       "      <th>bid1</th>\n",
       "      <th>bid2</th>\n",
       "      <th>bid3</th>\n",
       "      <th>...</th>\n",
       "      <th>bid1vol</th>\n",
       "      <th>bid2vol</th>\n",
       "      <th>bid3vol</th>\n",
       "      <th>bid4vol</th>\n",
       "      <th>bid5vol</th>\n",
       "      <th>ask1vol</th>\n",
       "      <th>ask2vol</th>\n",
       "      <th>ask3vol</th>\n",
       "      <th>ask4vol</th>\n",
       "      <th>ask5vol</th>\n",
       "    </tr>\n",
       "  </thead>\n",
       "  <tbody>\n",
       "    <tr>\n",
       "      <th>0</th>\n",
       "      <td>592380</td>\n",
       "      <td>5178.4</td>\n",
       "      <td>5178.3</td>\n",
       "      <td>1.0</td>\n",
       "      <td>11.0</td>\n",
       "      <td>12.0</td>\n",
       "      <td>-10</td>\n",
       "      <td>5178.2</td>\n",
       "      <td>5178.0</td>\n",
       "      <td>5177.8</td>\n",
       "      <td>...</td>\n",
       "      <td>3</td>\n",
       "      <td>16</td>\n",
       "      <td>3</td>\n",
       "      <td>1</td>\n",
       "      <td>1</td>\n",
       "      <td>1</td>\n",
       "      <td>4</td>\n",
       "      <td>1</td>\n",
       "      <td>5</td>\n",
       "      <td>2</td>\n",
       "    </tr>\n",
       "    <tr>\n",
       "      <th>1</th>\n",
       "      <td>592381</td>\n",
       "      <td>5133.0</td>\n",
       "      <td>5132.9</td>\n",
       "      <td>1.0</td>\n",
       "      <td>0.0</td>\n",
       "      <td>1.0</td>\n",
       "      <td>1</td>\n",
       "      <td>5132.8</td>\n",
       "      <td>5132.6</td>\n",
       "      <td>5132.4</td>\n",
       "      <td>...</td>\n",
       "      <td>1</td>\n",
       "      <td>2</td>\n",
       "      <td>2</td>\n",
       "      <td>1</td>\n",
       "      <td>10</td>\n",
       "      <td>4</td>\n",
       "      <td>8</td>\n",
       "      <td>1</td>\n",
       "      <td>1</td>\n",
       "      <td>1</td>\n",
       "    </tr>\n",
       "    <tr>\n",
       "      <th>2</th>\n",
       "      <td>592382</td>\n",
       "      <td>5177.4</td>\n",
       "      <td>5178.0</td>\n",
       "      <td>2.0</td>\n",
       "      <td>0.0</td>\n",
       "      <td>2.0</td>\n",
       "      <td>2</td>\n",
       "      <td>5177.2</td>\n",
       "      <td>5176.8</td>\n",
       "      <td>5176.6</td>\n",
       "      <td>...</td>\n",
       "      <td>8</td>\n",
       "      <td>18</td>\n",
       "      <td>1</td>\n",
       "      <td>1</td>\n",
       "      <td>6</td>\n",
       "      <td>7</td>\n",
       "      <td>4</td>\n",
       "      <td>1</td>\n",
       "      <td>2</td>\n",
       "      <td>5</td>\n",
       "    </tr>\n",
       "    <tr>\n",
       "      <th>3</th>\n",
       "      <td>592383</td>\n",
       "      <td>5093.6</td>\n",
       "      <td>5093.9</td>\n",
       "      <td>0.0</td>\n",
       "      <td>2.0</td>\n",
       "      <td>2.0</td>\n",
       "      <td>-1</td>\n",
       "      <td>5093.2</td>\n",
       "      <td>5093.0</td>\n",
       "      <td>5092.8</td>\n",
       "      <td>...</td>\n",
       "      <td>8</td>\n",
       "      <td>5</td>\n",
       "      <td>4</td>\n",
       "      <td>3</td>\n",
       "      <td>1</td>\n",
       "      <td>1</td>\n",
       "      <td>1</td>\n",
       "      <td>11</td>\n",
       "      <td>6</td>\n",
       "      <td>2</td>\n",
       "    </tr>\n",
       "    <tr>\n",
       "      <th>4</th>\n",
       "      <td>592384</td>\n",
       "      <td>5189.2</td>\n",
       "      <td>5189.2</td>\n",
       "      <td>NaN</td>\n",
       "      <td>NaN</td>\n",
       "      <td>0.0</td>\n",
       "      <td>0</td>\n",
       "      <td>5188.8</td>\n",
       "      <td>5188.6</td>\n",
       "      <td>5188.4</td>\n",
       "      <td>...</td>\n",
       "      <td>1</td>\n",
       "      <td>5</td>\n",
       "      <td>1</td>\n",
       "      <td>3</td>\n",
       "      <td>3</td>\n",
       "      <td>3</td>\n",
       "      <td>2</td>\n",
       "      <td>1</td>\n",
       "      <td>3</td>\n",
       "      <td>4</td>\n",
       "    </tr>\n",
       "  </tbody>\n",
       "</table>\n",
       "<p>5 rows × 27 columns</p>\n",
       "</div>"
      ],
      "text/plain": [
       "       id  last_price     mid  opened_position_qty   closed_position_qty  \\\n",
       "0  592380      5178.4  5178.3                   1.0                 11.0   \n",
       "1  592381      5133.0  5132.9                   1.0                  0.0   \n",
       "2  592382      5177.4  5178.0                   2.0                  0.0   \n",
       "3  592383      5093.6  5093.9                   0.0                  2.0   \n",
       "4  592384      5189.2  5189.2                   NaN                  NaN   \n",
       "\n",
       "   transacted_qty  d_open_interest    bid1    bid2    bid3   ...     bid1vol  \\\n",
       "0            12.0              -10  5178.2  5178.0  5177.8   ...           3   \n",
       "1             1.0                1  5132.8  5132.6  5132.4   ...           1   \n",
       "2             2.0                2  5177.2  5176.8  5176.6   ...           8   \n",
       "3             2.0               -1  5093.2  5093.0  5092.8   ...           8   \n",
       "4             0.0                0  5188.8  5188.6  5188.4   ...           1   \n",
       "\n",
       "   bid2vol  bid3vol  bid4vol  bid5vol  ask1vol  ask2vol  ask3vol  ask4vol  \\\n",
       "0       16        3        1        1        1        4        1        5   \n",
       "1        2        2        1       10        4        8        1        1   \n",
       "2       18        1        1        6        7        4        1        2   \n",
       "3        5        4        3        1        1        1       11        6   \n",
       "4        5        1        3        3        3        2        1        3   \n",
       "\n",
       "   ask5vol  \n",
       "0        2  \n",
       "1        1  \n",
       "2        5  \n",
       "3        2  \n",
       "4        4  \n",
       "\n",
       "[5 rows x 27 columns]"
      ]
     },
     "execution_count": 4,
     "metadata": {},
     "output_type": "execute_result"
    }
   ],
   "source": [
    "tst.head()"
   ]
  },
  {
   "cell_type": "code",
   "execution_count": null,
   "metadata": {},
   "outputs": [],
   "source": [
    "# we notice the only columns with NaN values are opened_position_qty  and closed_position_qty\n",
    "# we need to either decide what to do with those or throw them away, since they highly correlate with transacted_qty \n",
    "# transacted_qty = opened_position_qty + closed_position_qty"
   ]
  },
  {
   "cell_type": "code",
   "execution_count": 5,
   "metadata": {},
   "outputs": [
    {
     "name": "stdout",
     "output_type": "stream",
     "text": [
      "<class 'pandas.core.frame.DataFrame'>\n",
      "RangeIndex: 592380 entries, 0 to 592379\n",
      "Data columns (total 28 columns):\n",
      "id                      592380 non-null int64\n",
      "last_price              592380 non-null float64\n",
      "mid                     592380 non-null float64\n",
      "opened_position_qty     419920 non-null float64\n",
      "closed_position_qty     419920 non-null float64\n",
      "transacted_qty          592380 non-null float64\n",
      "d_open_interest         592380 non-null int64\n",
      "bid1                    592380 non-null float64\n",
      "bid2                    592380 non-null float64\n",
      "bid3                    592380 non-null float64\n",
      "bid4                    592380 non-null float64\n",
      "bid5                    592380 non-null float64\n",
      "ask1                    592380 non-null float64\n",
      "ask2                    592380 non-null float64\n",
      "ask3                    592380 non-null float64\n",
      "ask4                    592380 non-null float64\n",
      "ask5                    592380 non-null float64\n",
      "bid1vol                 592380 non-null int64\n",
      "bid2vol                 592380 non-null int64\n",
      "bid3vol                 592380 non-null int64\n",
      "bid4vol                 592380 non-null int64\n",
      "bid5vol                 592380 non-null int64\n",
      "ask1vol                 592380 non-null int64\n",
      "ask2vol                 592380 non-null int64\n",
      "ask3vol                 592380 non-null int64\n",
      "ask4vol                 592380 non-null int64\n",
      "ask5vol                 592380 non-null int64\n",
      "y                       592380 non-null int64\n",
      "dtypes: float64(15), int64(13)\n",
      "memory usage: 126.5 MB\n"
     ]
    }
   ],
   "source": [
    "df.info()"
   ]
  },
  {
   "cell_type": "code",
   "execution_count": 7,
   "metadata": {},
   "outputs": [
    {
     "data": {
      "text/plain": [
       "id                           0\n",
       "last_price                   0\n",
       "mid                          0\n",
       "opened_position_qty     172460\n",
       "closed_position_qty     172460\n",
       "transacted_qty               0\n",
       "d_open_interest              0\n",
       "bid1                         0\n",
       "bid2                         0\n",
       "bid3                         0\n",
       "bid4                         0\n",
       "bid5                         0\n",
       "ask1                         0\n",
       "ask2                         0\n",
       "ask3                         0\n",
       "ask4                         0\n",
       "ask5                         0\n",
       "bid1vol                      0\n",
       "bid2vol                      0\n",
       "bid3vol                      0\n",
       "bid4vol                      0\n",
       "bid5vol                      0\n",
       "ask1vol                      0\n",
       "ask2vol                      0\n",
       "ask3vol                      0\n",
       "ask4vol                      0\n",
       "ask5vol                      0\n",
       "y                            0\n",
       "dtype: int64"
      ]
     },
     "execution_count": 7,
     "metadata": {},
     "output_type": "execute_result"
    }
   ],
   "source": [
    "count_nan = len(df) - df.count()\n",
    "count_nan"
   ]
  },
  {
   "cell_type": "code",
   "execution_count": 8,
   "metadata": {
    "scrolled": true
   },
   "outputs": [
    {
     "name": "stdout",
     "output_type": "stream",
     "text": [
      "count    592380.000000\n",
      "mean       3965.639532\n",
      "std          81.801597\n",
      "min        3812.000000\n",
      "25%        3896.400000\n",
      "50%        3983.800000\n",
      "75%        4039.600000\n",
      "max        4115.800000\n",
      "Name: last_price, dtype: float64\n"
     ]
    }
   ],
   "source": [
    "print(df['last_price'].describe())"
   ]
  },
  {
   "cell_type": "code",
   "execution_count": 9,
   "metadata": {},
   "outputs": [
    {
     "name": "stdout",
     "output_type": "stream",
     "text": [
      "count    592380.000000\n",
      "mean       3965.639078\n",
      "std          81.801148\n",
      "min        3812.100000\n",
      "25%        3896.400000\n",
      "50%        3983.700000\n",
      "75%        4039.500000\n",
      "max        4116.000000\n",
      "Name: mid, dtype: float64\n"
     ]
    }
   ],
   "source": [
    "print(df['mid'].describe())"
   ]
  },
  {
   "cell_type": "code",
   "execution_count": 11,
   "metadata": {},
   "outputs": [],
   "source": [
    "y = df.y"
   ]
  },
  {
   "cell_type": "code",
   "execution_count": 12,
   "metadata": {},
   "outputs": [
    {
     "data": {
      "text/plain": [
       "0    380925\n",
       "1    211455\n",
       "Name: y, dtype: int64"
      ]
     },
     "execution_count": 12,
     "metadata": {},
     "output_type": "execute_result"
    }
   ],
   "source": [
    "y.value_counts()"
   ]
  },
  {
   "cell_type": "code",
   "execution_count": 14,
   "metadata": {},
   "outputs": [
    {
     "data": {
      "text/plain": [
       "array([[<matplotlib.axes._subplots.AxesSubplot object at 0x11fa2c470>,\n",
       "        <matplotlib.axes._subplots.AxesSubplot object at 0x11faad908>,\n",
       "        <matplotlib.axes._subplots.AxesSubplot object at 0x11fad7e80>,\n",
       "        <matplotlib.axes._subplots.AxesSubplot object at 0x11fb05438>,\n",
       "        <matplotlib.axes._subplots.AxesSubplot object at 0x11fb2d9b0>],\n",
       "       [<matplotlib.axes._subplots.AxesSubplot object at 0x11fb56f28>,\n",
       "        <matplotlib.axes._subplots.AxesSubplot object at 0x11fb864e0>,\n",
       "        <matplotlib.axes._subplots.AxesSubplot object at 0x11fbafa90>,\n",
       "        <matplotlib.axes._subplots.AxesSubplot object at 0x11fbafac8>,\n",
       "        <matplotlib.axes._subplots.AxesSubplot object at 0x11fc05588>],\n",
       "       [<matplotlib.axes._subplots.AxesSubplot object at 0x11fc2fb00>,\n",
       "        <matplotlib.axes._subplots.AxesSubplot object at 0x11fc600b8>,\n",
       "        <matplotlib.axes._subplots.AxesSubplot object at 0x11fc88630>,\n",
       "        <matplotlib.axes._subplots.AxesSubplot object at 0x11fcaeba8>,\n",
       "        <matplotlib.axes._subplots.AxesSubplot object at 0x11fcdd160>],\n",
       "       [<matplotlib.axes._subplots.AxesSubplot object at 0x11fd056d8>,\n",
       "        <matplotlib.axes._subplots.AxesSubplot object at 0x11fd2fc50>,\n",
       "        <matplotlib.axes._subplots.AxesSubplot object at 0x11fd5d208>,\n",
       "        <matplotlib.axes._subplots.AxesSubplot object at 0x11fd86780>,\n",
       "        <matplotlib.axes._subplots.AxesSubplot object at 0x11fdaccf8>],\n",
       "       [<matplotlib.axes._subplots.AxesSubplot object at 0x11fddc2b0>,\n",
       "        <matplotlib.axes._subplots.AxesSubplot object at 0x11fe02828>,\n",
       "        <matplotlib.axes._subplots.AxesSubplot object at 0x11fe2ada0>,\n",
       "        <matplotlib.axes._subplots.AxesSubplot object at 0x11fe5c358>,\n",
       "        <matplotlib.axes._subplots.AxesSubplot object at 0x11fe848d0>],\n",
       "       [<matplotlib.axes._subplots.AxesSubplot object at 0x11feabe48>,\n",
       "        <matplotlib.axes._subplots.AxesSubplot object at 0x11fedd400>,\n",
       "        <matplotlib.axes._subplots.AxesSubplot object at 0x11ff02978>,\n",
       "        <matplotlib.axes._subplots.AxesSubplot object at 0x11ff29ef0>,\n",
       "        <matplotlib.axes._subplots.AxesSubplot object at 0x11ff5a4a8>]],\n",
       "      dtype=object)"
      ]
     },
     "execution_count": 14,
     "metadata": {},
     "output_type": "execute_result"
    }
   ],
   "source": [
    "import matplotlib.pyplot as plt\n",
    "# %matplotlib inline\n",
    "import seaborn as sns\n",
    "df.hist(figsize=(16, 20), bins=50, xlabelsize=8, ylabelsize=8)"
   ]
  },
  {
   "cell_type": "code",
   "execution_count": 15,
   "metadata": {
    "scrolled": true
   },
   "outputs": [
    {
     "data": {
      "text/plain": [
       "last_price              0.019276\n",
       "mid                     0.018940\n",
       "opened_position_qty     0.032599\n",
       "closed_position_qty     0.046323\n",
       "transacted_qty          0.056453\n",
       "d_open_interest        -0.015503\n",
       "bid1                    0.018901\n",
       "bid2                    0.018984\n",
       "bid3                    0.018990\n",
       "bid4                    0.018991\n",
       "bid5                    0.018989\n",
       "ask1                    0.018978\n",
       "ask2                    0.019092\n",
       "ask3                    0.019109\n",
       "ask4                    0.019119\n",
       "ask5                    0.019128\n",
       "bid1vol                 0.086308\n",
       "bid2vol                 0.029456\n",
       "bid3vol                 0.009437\n",
       "bid4vol                 0.007519\n",
       "bid5vol                 0.003877\n",
       "ask1vol                -0.126212\n",
       "ask2vol                -0.025560\n",
       "ask3vol                -0.008274\n",
       "ask4vol                -0.007621\n",
       "ask5vol                -0.009476\n",
       "Name: y, dtype: float64"
      ]
     },
     "execution_count": 15,
     "metadata": {},
     "output_type": "execute_result"
    }
   ],
   "source": [
    "df_corr = df.corr()['y'][1:-1]\n",
    "df_corr\n",
    "\n",
    "\n",
    "# we see that strongest correlation is w/  bid1vol, makes sense, strongest negative w/  ask1vol \n",
    "# so like the more buyers less seleers - higher prob"
   ]
  },
  {
   "cell_type": "code",
   "execution_count": 16,
   "metadata": {},
   "outputs": [
    {
     "name": "stdout",
     "output_type": "stream",
     "text": [
      "There is 20 strongly correlated values with SalePrice:\n",
      "bid1vol                 0.086308\n",
      "transacted_qty          0.056453\n",
      "closed_position_qty     0.046323\n",
      "opened_position_qty     0.032599\n",
      "bid2vol                 0.029456\n",
      "last_price              0.019276\n",
      "ask5                    0.019128\n",
      "ask4                    0.019119\n",
      "ask3                    0.019109\n",
      "ask2                    0.019092\n",
      "bid4                    0.018991\n",
      "bid3                    0.018990\n",
      "bid5                    0.018989\n",
      "bid2                    0.018984\n",
      "ask1                    0.018978\n",
      "mid                     0.018940\n",
      "bid1                    0.018901\n",
      "d_open_interest        -0.015503\n",
      "ask2vol                -0.025560\n",
      "ask1vol                -0.126212\n",
      "Name: y, dtype: float64\n"
     ]
    }
   ],
   "source": [
    "golden_features_list = df_corr[abs(df_corr) > 0.012].sort_values(ascending=False)\n",
    "print(\"There is {} strongly correlated values with SalePrice:\\n{}\".format(len(golden_features_list), golden_features_list))"
   ]
  },
  {
   "cell_type": "code",
   "execution_count": 17,
   "metadata": {},
   "outputs": [
    {
     "data": {
      "image/png": "[encoded data removed]",
      "text/plain": [
       "<Figure size 864x720 with 2 Axes>"
      ]
     },
     "metadata": {
      "needs_background": "light"
     },
     "output_type": "display_data"
    }
   ],
   "source": [
    "corr = df.drop('id', axis=1).corr() # We already examined SalePrice correlations\n",
    "plt.figure(figsize=(12, 10))\n",
    "\n",
    "sns.heatmap(corr[(corr >= 0.1) | (corr <= -0.1)], \n",
    "            cmap='viridis', vmax=1.0, vmin=-1.0, linewidths=0.1,\n",
    "            annot=True, annot_kws={\"size\": 8}, square=True);"
   ]
  },
  {
   "cell_type": "code",
   "execution_count": 18,
   "metadata": {
    "scrolled": true
   },
   "outputs": [
    {
     "data": {
      "text/plain": [
       "Index(['id', 'last_price', 'mid', 'opened_position_qty ',\n",
       "       'closed_position_qty', 'transacted_qty', 'd_open_interest', 'bid1',\n",
       "       'bid2', 'bid3', 'bid4', 'bid5', 'ask1', 'ask2', 'ask3', 'ask4', 'ask5',\n",
       "       'bid1vol', 'bid2vol', 'bid3vol', 'bid4vol', 'bid5vol', 'ask1vol',\n",
       "       'ask2vol', 'ask3vol', 'ask4vol', 'ask5vol', 'y'],\n",
       "      dtype='object')"
      ]
     },
     "execution_count": 18,
     "metadata": {},
     "output_type": "execute_result"
    }
   ],
   "source": [
    "df.columns"
   ]
  },
  {
   "cell_type": "code",
   "execution_count": 59,
   "metadata": {
    "scrolled": true
   },
   "outputs": [],
   "source": [
    "df = df.assign(value = lambda x: x.bid1vol / x.ask1vol)\n",
    "df = df.assign(sm = lambda x: (x.bid1vol+x.bid2vol+x.bid3vol+x.bid4vol+x.bid5vol) / (x.ask1vol+x.ask2vol+x.ask3vol+x.ask4vol+x.ask5vol))\n",
    "\n",
    "# indicator - difference between the price of most recent order and average of best bid and best ask (mid)\n",
    "df = df.assign(diff_price = lambda x: (x.last_price) - (x.mid))\n",
    "# indicator - difference between best bid price and best ask price\n",
    "df = df.assign(diff_best_bid_ask = lambda x: (x.bid1) - (x.ask1))\n",
    "\n",
    "# I have an impression that an important metric is how many people bid relative to how many ask. \n",
    "# The table says bid1 and ask1 are 'the best', idk if its important, but i compared people who bid/asked those \n",
    "# and people who bid/asked overall, those are columns 'value' and 'sm'\n",
    "\n",
    "\n",
    "#train_data = df[['transacted_qty', 'bid1vol', 'bid2vol', 'd_open_interest',  'ask1vol', 'ask2vol', 'value', 'sm']]\n",
    "#train_data\n"
   ]
  },
  {
   "cell_type": "markdown",
   "metadata": {},
   "source": [
    "## Try Logistic Regression\n",
    "Let us use RFE and RFECV to find optimal number of features and optimal feature selection for logistic regression"
   ]
  },
  {
   "cell_type": "code",
   "execution_count": 66,
   "metadata": {},
   "outputs": [
    {
     "name": "stdout",
     "output_type": "stream",
     "text": [
      "Selected features: ['last_price', 'mid', 'transacted_qty', 'bid1', 'ask1', 'ask5', 'ask1vol', 'value', 'sm', 'diff_price', 'diff_best_bid_ask']\n"
     ]
    }
   ],
   "source": [
    "from sklearn.linear_model import LogisticRegression\n",
    "from sklearn.feature_selection import RFE\n",
    "\n",
    "from sklearn.linear_model import LogisticRegressionCV\n",
    "\n",
    "cols = ['last_price', 'mid', 'transacted_qty', 'd_open_interest', 'bid1',\n",
    "       'bid2', 'bid3', 'bid4', 'bid5', 'ask1', 'ask2', 'ask3', 'ask4', 'ask5',\n",
    "       'bid1vol', 'bid2vol', 'bid3vol', 'bid4vol', 'bid5vol', 'ask1vol',\n",
    "       'ask2vol', 'ask3vol', 'ask4vol', 'ask5vol', 'value',\n",
    "       'sm', 'diff_price', 'diff_best_bid_ask']\n",
    "X = df[cols]\n",
    "y = df.y\n",
    "# Build a logreg and compute the feature importances\n",
    "#model = LogisticRegressionCV(cv=5, random_state=0, solver='lbfgs', max_iter=300)\n",
    "# create the RFE model and select 8 attributes\n",
    "model = LogisticRegression(random_state=0, solver='lbfgs', max_iter=300)\n",
    "rfe = RFE(model, 11)\n",
    "rfe = rfe.fit(X, y)\n",
    "# summarize the selection of the attributes\n",
    "print('Selected features: %s' % list(X.columns[rfe.support_]))"
   ]
  },
  {
   "cell_type": "code",
   "execution_count": null,
   "metadata": {},
   "outputs": [],
   "source": []
  },
  {
   "cell_type": "code",
   "execution_count": null,
   "metadata": {},
   "outputs": [],
   "source": []
  },
  {
   "cell_type": "code",
   "execution_count": null,
   "metadata": {},
   "outputs": [],
   "source": [
    "# we see that the new features 'value' and 'sm' work pretty ok"
   ]
  },
  {
   "cell_type": "code",
   "execution_count": 65,
   "metadata": {},
   "outputs": [
    {
     "name": "stderr",
     "output_type": "stream",
     "text": [
      "/Users/katerina/anaconda3/lib/python3.7/site-packages/sklearn/linear_model/logistic.py:758: ConvergenceWarning: lbfgs failed to converge. Increase the number of iterations.\n",
      "  \"of iterations.\", ConvergenceWarning)\n",
      "/Users/katerina/anaconda3/lib/python3.7/site-packages/sklearn/linear_model/logistic.py:758: ConvergenceWarning: lbfgs failed to converge. Increase the number of iterations.\n",
      "  \"of iterations.\", ConvergenceWarning)\n",
      "/Users/katerina/anaconda3/lib/python3.7/site-packages/sklearn/linear_model/logistic.py:758: ConvergenceWarning: lbfgs failed to converge. Increase the number of iterations.\n",
      "  \"of iterations.\", ConvergenceWarning)\n",
      "/Users/katerina/anaconda3/lib/python3.7/site-packages/sklearn/linear_model/logistic.py:758: ConvergenceWarning: lbfgs failed to converge. Increase the number of iterations.\n",
      "  \"of iterations.\", ConvergenceWarning)\n",
      "/Users/katerina/anaconda3/lib/python3.7/site-packages/sklearn/linear_model/logistic.py:758: ConvergenceWarning: lbfgs failed to converge. Increase the number of iterations.\n",
      "  \"of iterations.\", ConvergenceWarning)\n"
     ]
    },
    {
     "name": "stdout",
     "output_type": "stream",
     "text": [
      "Optimal number of features: 5\n",
      "Selected features: ['last_price', 'bid1', 'value', 'sm', 'diff_price']\n"
     ]
    },
    {
     "data": {
      "image/png": "[encoded data removed]",
      "text/plain": [
       "<Figure size 720x432 with 1 Axes>"
      ]
     },
     "metadata": {
      "needs_background": "light"
     },
     "output_type": "display_data"
    }
   ],
   "source": [
    "from sklearn.feature_selection import RFECV\n",
    "# Create the RFE object and compute a cross-validated score.\n",
    "# The \"accuracy\" scoring is proportional to the number of correct classifications\n",
    "rfecv = RFECV(estimator=LogisticRegression(random_state=0, solver='lbfgs', max_iter=300), step=1, cv=10, scoring='accuracy')\n",
    "rfecv.fit(X, y)\n",
    "\n",
    "print(\"Optimal number of features: %d\" % rfecv.n_features_)\n",
    "print('Selected features: %s' % list(X.columns[rfecv.support_]))\n",
    "\n",
    "# Plot number of features VS. cross-validation scores\n",
    "plt.figure(figsize=(10,6))\n",
    "plt.xlabel(\"Number of features selected\")\n",
    "plt.ylabel(\"Cross validation score (nb of correct classifications)\")\n",
    "plt.plot(range(1, len(rfecv.grid_scores_) + 1), rfecv.grid_scores_)\n",
    "plt.show()"
   ]
  },
  {
   "cell_type": "code",
   "execution_count": null,
   "metadata": {},
   "outputs": [],
   "source": [
    "# Optimal number of features: 8\n",
    "# Selected features: ['last_price', 'transacted_qty', 'd_open_interest', 'bid1', 'bid2vol', 'ask1vol', 'value', 'sm']"
   ]
  },
  {
   "cell_type": "code",
   "execution_count": 80,
   "metadata": {},
   "outputs": [],
   "source": [
    "from sklearn.linear_model import LogisticRegression\n",
    "from sklearn.feature_selection import RFE\n",
    "\n",
    "cols_sel_2 = ['last_price', 'mid', 'transacted_qty', 'bid1', 'ask1', 'ask5', 'ask1vol', 'value', 'sm', 'diff_price', 'diff_best_bid_ask']\n",
    "cols = ['last_price', 'transacted_qty', 'd_open_interest', 'bid1', 'bid2vol', 'ask1vol', 'value', 'sm']\n",
    "cols_sel_new = ['last_price', 'transacted_qty', 'd_open_interest', 'diff_price', 'bid2vol', 'ask1vol', 'value', 'sm', 'diff_best_bid_ask']\n",
    "\n",
    "\n",
    "X = df[cols_sel_new]\n",
    "y = df.y"
   ]
  },
  {
   "cell_type": "code",
   "execution_count": 7,
   "metadata": {},
   "outputs": [],
   "source": [
    "from sklearn.model_selection import train_test_split, cross_val_score\n",
    "from sklearn.metrics import accuracy_score, classification_report, precision_score, recall_score \n",
    "from sklearn.metrics import confusion_matrix, precision_recall_curve, roc_curve, auc, log_loss\n",
    "\n"
   ]
  },
  {
   "cell_type": "code",
   "execution_count": 81,
   "metadata": {},
   "outputs": [
    {
     "data": {
      "text/plain": [
       "LogisticRegression(C=1.0, class_weight=None, dual=False, fit_intercept=True,\n",
       "          intercept_scaling=1, max_iter=300, multi_class='warn',\n",
       "          n_jobs=None, penalty='l2', random_state=0, solver='lbfgs',\n",
       "          tol=0.0001, verbose=0, warm_start=False)"
      ]
     },
     "execution_count": 81,
     "metadata": {},
     "output_type": "execute_result"
    }
   ],
   "source": [
    "logreg = LogisticRegression(random_state=0, solver='lbfgs', max_iter=300)\n",
    "logreg.fit(X, y)\n",
    "\n"
   ]
  },
  {
   "cell_type": "code",
   "execution_count": 84,
   "metadata": {},
   "outputs": [
    {
     "data": {
      "text/plain": [
       "array([0.48598936, 0.26971647, 0.19357957, ..., 0.44717976, 0.33349774,\n",
       "       0.29108007])"
      ]
     },
     "execution_count": 84,
     "metadata": {},
     "output_type": "execute_result"
    }
   ],
   "source": [
    "tst = tst.assign(value = lambda x: x.bid1vol / x.ask1vol)\n",
    "tst = tst.assign(sm = lambda x: (x.bid1vol+x.bid2vol+x.bid3vol+x.bid4vol+x.bid5vol) / (x.ask1vol+x.ask2vol+x.ask3vol+x.ask4vol+x.ask5vol))\n",
    "# indicator - difference between the price of most recent order and average of best bid and best ask (mid)\n",
    "tst = tst.assign(diff_price = lambda x: (x.last_price) - (x.mid))\n",
    "# indicator - difference between best bid price and best ask price\n",
    "tst = tst.assign(diff_best_bid_ask = lambda x: (x.bid1) - (x.ask1))\n",
    "\n",
    "\n",
    "\n",
    "\n",
    "cols1 = ['last_price', 'transacted_qty', 'd_open_interest', 'bid1', 'bid2vol', 'ask1vol', 'value', 'sm']\n",
    "cols = ['last_price', 'transacted_qty', 'd_open_interest', 'diff_price', 'bid2vol', 'ask1vol', 'value', 'sm', 'diff_best_bid_ask']\n",
    "cols_sel_new = ['last_price', 'transacted_qty', 'd_open_interest', 'diff_price', 'bid2vol', 'ask1vol', 'value', 'sm', 'diff_best_bid_ask']\n",
    "\n",
    "\n",
    "\n",
    "X_test = tst[cols_sel_new]\n",
    "y_pred = logreg.predict(X_test)\n",
    "y_pred_proba = logreg.predict_proba(X_test)[:, 1]\n",
    "y_pred_proba"
   ]
  },
  {
   "cell_type": "code",
   "execution_count": 85,
   "metadata": {},
   "outputs": [],
   "source": [
    "ydf = pd.DataFrame(y_pred_proba)"
   ]
  },
  {
   "cell_type": "code",
   "execution_count": 86,
   "metadata": {},
   "outputs": [],
   "source": [
    "res = pd.concat([tst['id'], ydf], axis = 1, keys=['id', '0'])"
   ]
  },
  {
   "cell_type": "code",
   "execution_count": 87,
   "metadata": {},
   "outputs": [],
   "source": [
    "pd.DataFrame(res).to_csv(\"data/proba.csv\", index=None)"
   ]
  },
  {
   "cell_type": "code",
   "execution_count": 95,
   "metadata": {
    "scrolled": false
   },
   "outputs": [
    {
     "name": "stdout",
     "output_type": "stream",
     "text": [
      "K-fold cross-validation results:\n",
      "LogisticRegressionCV average accuracy: 0.649 (+/-0.001)\n",
      "LogisticRegressionCV average log_loss: 0.630 (+/-0.002)\n",
      "LogisticRegressionCV average auc: 0.640 (+/-0.006)\n"
     ]
    }
   ],
   "source": [
    "from sklearn.model_selection import cross_validate\n",
    "\n",
    "scoring = {'accuracy': 'accuracy', 'log_loss': 'neg_log_loss', 'auc': 'roc_auc'}\n",
    "\n",
    "\n",
    "modelCV = LogisticRegressionCV(cv=5, random_state=0, solver='lbfgs', max_iter=300)\n",
    "# modelCV = LogisticRegression(random_state=0, solver='lbfgs', max_iter=300)\n",
    "\n",
    "\n",
    "## tried a bunch of feature selection\n",
    "cols_sel_3 = ['last_price', 'bid1', 'value', 'sm', 'diff_price']\n",
    "cols_sel_2 = ['last_price', 'mid', 'transacted_qty', 'bid1', 'ask1', 'ask5', 'ask1vol', 'value', 'sm', 'diff_price', 'diff_best_bid_ask']\n",
    "\n",
    "cols1 = ['last_price', 'mid', 'transacted_qty', 'd_open_interest', 'bid1',\n",
    "       'bid2', 'bid3', 'bid4', 'bid5', 'ask1', 'ask2', 'ask3', 'ask4', 'ask5',\n",
    "       'bid1vol', 'bid2vol', 'bid3vol', 'bid4vol', 'bid5vol', 'ask1vol',\n",
    "       'ask2vol', 'ask3vol', 'ask4vol', 'ask5vol', 'value',\n",
    "       'sm']\n",
    "cols = ['last_price', 'transacted_qty', 'd_open_interest', 'diff_price', 'bid2vol', 'ask1vol', 'value', 'sm', 'diff_best_bid_ask']\n",
    "\n",
    "cols_maya = ['last_price', 'mid', 'transacted_qty', 'd_open_interest', 'bid1', 'ask1',\n",
    "       'bid1vol', 'bid2vol', 'bid3vol', 'bid4vol', 'bid5vol', 'ask1vol',\n",
    "       'ask2vol', 'ask3vol', 'ask4vol', 'ask5vol']\n",
    "X = df[cols]\n",
    "results = cross_validate(modelCV, X, y, cv=5, scoring=list(scoring.values()), \n",
    "                         return_train_score=False)\n",
    "\n",
    "print('K-fold cross-validation results:')\n",
    "for sc in range(len(scoring)):\n",
    "    print(modelCV.__class__.__name__+\" average %s: %.3f (+/-%.3f)\" % (list(scoring.keys())[sc], -results['test_%s' % list(scoring.values())[sc]].mean()\n",
    "                               if list(scoring.values())[sc]=='neg_log_loss' \n",
    "                               else results['test_%s' % list(scoring.values())[sc]].mean(), \n",
    "                               results['test_%s' % list(scoring.values())[sc]].std()))"
   ]
  },
  {
   "cell_type": "code",
   "execution_count": null,
   "metadata": {},
   "outputs": [],
   "source": []
  },
  {
   "cell_type": "code",
   "execution_count": null,
   "metadata": {},
   "outputs": [],
   "source": []
  },
  {
   "cell_type": "code",
   "execution_count": null,
   "metadata": {},
   "outputs": [],
   "source": []
  },
  {
   "cell_type": "markdown",
   "metadata": {},
   "source": [
    "# try forest"
   ]
  },
  {
   "cell_type": "code",
   "execution_count": 101,
   "metadata": {},
   "outputs": [
    {
     "name": "stdout",
     "output_type": "stream",
     "text": [
      "\n",
      "K-fold cross-validation results: \n",
      "RandomForestClassifier average accuracy: 0.658 (+/-0.002)\n",
      "RandomForestClassifier average log_loss: 0.618 (+/-0.003)\n",
      "RandomForestClassifier average auc: 0.653 (+/-0.007)\n"
     ]
    }
   ],
   "source": [
    "scoring = {'accuracy': 'accuracy', 'log_loss': 'neg_log_loss', 'auc': 'roc_auc'}\n",
    "\n",
    "cols = ['last_price', 'transacted_qty', 'd_open_interest', 'diff_price', 'bid2vol', 'ask1vol', 'value', 'sm', 'diff_best_bid_ask']\n",
    "\n",
    "cols1 = ['transacted_qty', 'd_open_interest', 'diff_price', 'bid2vol', 'ask1vol', 'value', 'sm', 'diff_best_bid_ask']\n",
    "\n",
    "X = df[cols]\n",
    "\n",
    "\n",
    "clf_test = RandomForestClassifier(max_depth=5, min_samples_split=2, \n",
    "                                  random_state=0, n_estimators=10, \n",
    "                                  max_features='sqrt', criterion='gini')\n",
    "\n",
    "results = cross_validate(clf_test, X, y, cv=5, scoring=list(scoring.values()), \n",
    "                         return_train_score=False)\n",
    "    \n",
    "print('\\nK-fold cross-validation results: ')\n",
    "for sc in range(len(scoring)):\n",
    "    print(clf_test.__class__.__name__+\" average %s: %.3f (+/-%.3f)\" % (list(scoring.keys())[sc], -results['test_%s' % list(scoring.values())[sc]].mean()\n",
    "    if list(scoring.values())[sc]=='neg_log_loss' \n",
    "    else results['test_%s' % list(scoring.values())[sc]].mean(), \n",
    "        results['test_%s' % list(scoring.values())[sc]].std()))"
   ]
  },
  {
   "cell_type": "code",
   "execution_count": 104,
   "metadata": {},
   "outputs": [],
   "source": [
    "clf_test.fit(X,y)\n",
    "\n",
    "X_test = tst[cols]\n",
    "y_pred = clf_test.predict(X_test)\n",
    "y_pred_proba = clf_test.predict_proba(X_test)[:, 1]"
   ]
  },
  {
   "cell_type": "code",
   "execution_count": 105,
   "metadata": {},
   "outputs": [],
   "source": [
    "ydf = pd.DataFrame(y_pred_proba)\n",
    "res = pd.concat([tst['id'], ydf], axis = 1, keys=['id', '0'])\n",
    "pd.DataFrame(res).to_csv(\"data/proba.csv\", index=None)"
   ]
  },
  {
   "cell_type": "code",
   "execution_count": null,
   "metadata": {},
   "outputs": [],
   "source": [
    "# RandomForestClassifier average auc: 0.653 (+/-0.007)"
   ]
  },
  {
   "cell_type": "code",
   "execution_count": 99,
   "metadata": {},
   "outputs": [
    {
     "data": {
      "text/plain": [
       "value                0.484463\n",
       "ask1vol              0.212730\n",
       "diff_price           0.197884\n",
       "transacted_qty       0.041327\n",
       "diff_best_bid_ask    0.034090\n",
       "sm                   0.015370\n",
       "d_open_interest      0.011431\n",
       "bid2vol              0.002080\n",
       "last_price           0.000624\n",
       "dtype: float64"
      ]
     },
     "execution_count": 99,
     "metadata": {},
     "output_type": "execute_result"
    }
   ],
   "source": [
    "cols = ['last_price', 'transacted_qty', 'd_open_interest', 'diff_price', 'bid2vol', 'ask1vol', 'value', 'sm', 'diff_best_bid_ask']\n",
    "\n",
    "\n",
    "clf_test.fit(X,y)\n",
    "clf_test.feature_importances_\n",
    "feature_imp = pd.Series(clf_test.feature_importances_,index=cols).sort_values(ascending=False)\n",
    "feature_imp"
   ]
  },
  {
   "cell_type": "code",
   "execution_count": null,
   "metadata": {},
   "outputs": [],
   "source": []
  },
  {
   "cell_type": "code",
   "execution_count": null,
   "metadata": {},
   "outputs": [],
   "source": [
    "# try automated feature seletion thing RFECV"
   ]
  },
  {
   "cell_type": "code",
   "execution_count": 126,
   "metadata": {},
   "outputs": [
    {
     "name": "stdout",
     "output_type": "stream",
     "text": [
      "Optimal number of features: 7\n",
      "Selected features: ['transacted_qty', 'bid1vol', 'ask1vol', 'value', 'sm', 'diff_price', 'diff_best_bid_ask']\n"
     ]
    },
    {
     "data": {
      "image/png": "[encoded data removed]",
      "text/plain": [
       "<Figure size 720x432 with 1 Axes>"
      ]
     },
     "metadata": {
      "needs_background": "light"
     },
     "output_type": "display_data"
    }
   ],
   "source": [
    "from sklearn.feature_selection import RFECV\n",
    "# Create the RFE object and compute a cross-validated score.\n",
    "# The \"accuracy\" scoring is proportional to the number of correct classifications\n",
    "\n",
    "all_cols = ['last_price', 'mid', 'transacted_qty', 'd_open_interest', \n",
    "       'bid1vol', 'bid2vol', 'bid3vol', 'bid4vol', 'bid5vol', 'ask1vol',\n",
    "       'ask2vol', 'ask3vol', 'ask4vol', 'ask5vol', 'value',\n",
    "       'sm', 'diff_price', 'diff_best_bid_ask']\n",
    "\n",
    "X = df[all_cols]\n",
    "clf_test = RandomForestClassifier(max_depth=10, min_samples_split=2, \n",
    "                                  random_state=0, n_estimators=30, \n",
    "                                  max_features='sqrt', criterion='gini')\n",
    "\n",
    "\n",
    "rfecv = RFECV(estimator=clf_test, step=1, cv=10, scoring='roc_auc')\n",
    "rfecv.fit(X, y)\n",
    "\n",
    "print(\"Optimal number of features: %d\" % rfecv.n_features_)\n",
    "print('Selected features: %s' % list(X.columns[rfecv.support_]))\n",
    "\n",
    "# Plot number of features VS. cross-validation scores\n",
    "plt.figure(figsize=(10,6))\n",
    "plt.xlabel(\"Number of features selected\")\n",
    "plt.ylabel(\"Cross validation score (nb of correct classifications)\")\n",
    "plt.plot(range(1, len(rfecv.grid_scores_) + 1), rfecv.grid_scores_)\n",
    "plt.show()"
   ]
  },
  {
   "cell_type": "code",
   "execution_count": 127,
   "metadata": {},
   "outputs": [],
   "source": [
    "#Optimal number of features: 7\n",
    "#Selected features: ['transacted_qty', 'bid1vol', 'ask1vol', 'value', 'sm', 'diff_price', 'diff_best_bid_ask']"
   ]
  },
  {
   "cell_type": "code",
   "execution_count": 123,
   "metadata": {},
   "outputs": [
    {
     "name": "stdout",
     "output_type": "stream",
     "text": [
      "\n",
      "K-fold cross-validation results: \n",
      "RandomForestClassifier average accuracy: 0.661 (+/-0.003)\n",
      "RandomForestClassifier average log_loss: 0.613 (+/-0.003)\n",
      "RandomForestClassifier average auc: 0.661 (+/-0.007)\n"
     ]
    }
   ],
   "source": [
    "# try with these features\n",
    "cols = ['last_price', 'transacted_qty', 'd_open_interest', 'diff_price', 'bid2vol', 'ask1vol', 'value', 'sm', 'diff_best_bid_ask']\n",
    "cols_opt = ['transacted_qty', 'bid1vol', 'ask1vol', 'value', 'diff_price', 'diff_best_bid_ask', 'sm']\n",
    "X = df[cols_opt]\n",
    "\n",
    "\n",
    "clf_test = RandomForestClassifier(max_depth=10, min_samples_split=2, \n",
    "                                  random_state=0, n_estimators=25, \n",
    "                                  max_features='sqrt', criterion='gini')\n",
    "\n",
    "results = cross_validate(clf_test, X, y, cv=5, scoring=list(scoring.values()), \n",
    "                         return_train_score=False)\n",
    "    \n",
    "print('\\nK-fold cross-validation results: ')\n",
    "for sc in range(len(scoring)):\n",
    "    print(clf_test.__class__.__name__+\" average %s: %.3f (+/-%.3f)\" % (list(scoring.keys())[sc], -results['test_%s' % list(scoring.values())[sc]].mean()\n",
    "    if list(scoring.values())[sc]=='neg_log_loss' \n",
    "    else results['test_%s' % list(scoring.values())[sc]].mean(), \n",
    "        results['test_%s' % list(scoring.values())[sc]].std()))"
   ]
  },
  {
   "cell_type": "code",
   "execution_count": null,
   "metadata": {},
   "outputs": [],
   "source": []
  },
  {
   "cell_type": "code",
   "execution_count": 125,
   "metadata": {},
   "outputs": [],
   "source": [
    "cols_opt = ['transacted_qty', 'bid1vol', 'ask1vol', 'value', 'diff_price', 'diff_best_bid_ask', 'sm']\n",
    "X = df[cols_opt]\n",
    "\n",
    "\n",
    "clf_test = RandomForestClassifier(max_depth=10, min_samples_split=2, \n",
    "                                  random_state=0, n_estimators=25, \n",
    "                                  max_features='sqrt', criterion='gini')\n",
    "\n",
    "clf_test.fit(X,y)\n",
    "\n",
    "X_test = tst[cols_opt]\n",
    "y_pred = clf_test.predict(X_test)\n",
    "y_pred_proba = clf_test.predict_proba(X_test)[:, 1]\n",
    "ydf = pd.DataFrame(y_pred_proba)\n",
    "res = pd.concat([tst['id'], ydf], axis = 1, keys=['id', 'Predicted'])\n",
    "pd.DataFrame(res).to_csv(\"data/proba.csv\", index=None)"
   ]
  },
  {
   "cell_type": "code",
   "execution_count": null,
   "metadata": {},
   "outputs": [],
   "source": []
  },
  {
   "cell_type": "code",
   "execution_count": null,
   "metadata": {},
   "outputs": [],
   "source": []
  },
  {
   "cell_type": "code",
   "execution_count": null,
   "metadata": {},
   "outputs": [],
   "source": [
    "# RandomForestClassifier average auc: 0.653 (+/-0.008) with 10 estimators \n",
    "# RandomForestClassifier average auc: 0.660 (+/-0.007) with 15 or 20estimators\n",
    "# RandomForestClassifier average auc: 0.661 (+/-0.007) with 30 estimators\n",
    "# RandomForestClassifier average auc: 0.661 (+/-0.007) with 100 estimators\n",
    "# max depth 10, when i try 20 it makes auc worse: 0.628\n",
    "\n",
    "# we should maybe try a larger number of estimators since we fine tuned features a bit \n",
    "# but this is running so slow on my machine :c"
   ]
  },
  {
   "cell_type": "code",
   "execution_count": null,
   "metadata": {},
   "outputs": [],
   "source": []
  },
  {
   "cell_type": "code",
   "execution_count": 121,
   "metadata": {},
   "outputs": [
    {
     "name": "stdout",
     "output_type": "stream",
     "text": [
      "\n",
      "K-fold cross-validation results: \n",
      "RandomForestClassifier average accuracy: 0.661 (+/-0.003)\n",
      "RandomForestClassifier average log_loss: 0.613 (+/-0.003)\n",
      "RandomForestClassifier average auc: 0.661 (+/-0.007)\n",
      "\n",
      "K-fold cross-validation results: \n",
      "RandomForestClassifier average accuracy: 0.661 (+/-0.003)\n",
      "RandomForestClassifier average log_loss: 0.613 (+/-0.003)\n",
      "RandomForestClassifier average auc: 0.661 (+/-0.007)\n",
      "\n",
      "K-fold cross-validation results: \n",
      "RandomForestClassifier average accuracy: 0.661 (+/-0.003)\n",
      "RandomForestClassifier average log_loss: 0.613 (+/-0.003)\n",
      "RandomForestClassifier average auc: 0.661 (+/-0.007)\n",
      "\n",
      "K-fold cross-validation results: \n",
      "RandomForestClassifier average accuracy: 0.661 (+/-0.003)\n",
      "RandomForestClassifier average log_loss: 0.613 (+/-0.003)\n",
      "RandomForestClassifier average auc: 0.661 (+/-0.007)\n",
      "\n",
      "K-fold cross-validation results: \n",
      "RandomForestClassifier average accuracy: 0.661 (+/-0.003)\n",
      "RandomForestClassifier average log_loss: 0.613 (+/-0.003)\n",
      "RandomForestClassifier average auc: 0.661 (+/-0.007)\n"
     ]
    }
   ],
   "source": [
    "# try different n estimators\n",
    "\n",
    "n_estimators_lst = [25, 40, 50, 60, 80]\n",
    "for item in n_estimators_lst:\n",
    "    clf_test = RandomForestClassifier(max_depth=10, min_samples_split=2, \n",
    "                                  random_state=0, n_estimators=item, \n",
    "                                  max_features='sqrt', criterion='gini')\n",
    "\n",
    "    results = cross_validate(clf_test, X, y, cv=5, scoring=list(scoring.values()), \n",
    "                             return_train_score=False)\n",
    "\n",
    "    print('\\nK-fold cross-validation results: ')\n",
    "    for sc in range(len(scoring)):\n",
    "        print(clf_test.__class__.__name__+\" average %s: %.3f (+/-%.3f)\" % (list(scoring.keys())[sc], -results['test_%s' % list(scoring.values())[sc]].mean()\n",
    "        if list(scoring.values())[sc]=='neg_log_loss' \n",
    "        else results['test_%s' % list(scoring.values())[sc]].mean(), \n",
    "            results['test_%s' % list(scoring.values())[sc]].std()))"
   ]
  },
  {
   "cell_type": "code",
   "execution_count": 120,
   "metadata": {
    "scrolled": true
   },
   "outputs": [
    {
     "name": "stdout",
     "output_type": "stream",
     "text": [
      "\n",
      "K-fold cross-validation results: \n",
      "RandomForestClassifier average accuracy: 0.643 (+/-0.000)\n",
      "RandomForestClassifier average log_loss: 0.629 (+/-0.002)\n",
      "RandomForestClassifier average auc: 0.643 (+/-0.007)\n",
      "\n",
      "K-fold cross-validation results: \n",
      "RandomForestClassifier average accuracy: 0.653 (+/-0.001)\n",
      "RandomForestClassifier average log_loss: 0.624 (+/-0.002)\n",
      "RandomForestClassifier average auc: 0.647 (+/-0.007)\n",
      "\n",
      "K-fold cross-validation results: \n",
      "RandomForestClassifier average accuracy: 0.657 (+/-0.003)\n",
      "RandomForestClassifier average log_loss: 0.620 (+/-0.002)\n",
      "RandomForestClassifier average auc: 0.651 (+/-0.007)\n",
      "\n",
      "K-fold cross-validation results: \n",
      "RandomForestClassifier average accuracy: 0.658 (+/-0.002)\n",
      "RandomForestClassifier average log_loss: 0.618 (+/-0.003)\n",
      "RandomForestClassifier average auc: 0.654 (+/-0.007)\n",
      "\n",
      "K-fold cross-validation results: \n",
      "RandomForestClassifier average accuracy: 0.659 (+/-0.003)\n",
      "RandomForestClassifier average log_loss: 0.616 (+/-0.003)\n",
      "RandomForestClassifier average auc: 0.656 (+/-0.007)\n",
      "\n",
      "K-fold cross-validation results: \n",
      "RandomForestClassifier average accuracy: 0.660 (+/-0.003)\n",
      "RandomForestClassifier average log_loss: 0.615 (+/-0.003)\n",
      "RandomForestClassifier average auc: 0.658 (+/-0.007)\n",
      "\n",
      "K-fold cross-validation results: \n",
      "RandomForestClassifier average accuracy: 0.661 (+/-0.003)\n",
      "RandomForestClassifier average log_loss: 0.614 (+/-0.003)\n",
      "RandomForestClassifier average auc: 0.659 (+/-0.007)\n",
      "\n",
      "K-fold cross-validation results: \n",
      "RandomForestClassifier average accuracy: 0.661 (+/-0.003)\n",
      "RandomForestClassifier average log_loss: 0.614 (+/-0.003)\n",
      "RandomForestClassifier average auc: 0.660 (+/-0.007)\n"
     ]
    }
   ],
   "source": [
    "# try different max_depth\n",
    "\n",
    "max_depth_list = [2, 3, 4, 5, 6, 7, 8, 9]\n",
    "for depth in max_depth_list:\n",
    "    clf_test = RandomForestClassifier(max_depth=depth, min_samples_split=2, \n",
    "                                  random_state=0, n_estimators=30, \n",
    "                                  max_features='sqrt', criterion='gini')\n",
    "\n",
    "    results = cross_validate(clf_test, X, y, cv=5, scoring=list(scoring.values()), \n",
    "                             return_train_score=False)\n",
    "\n",
    "    print('\\nK-fold cross-validation results: ')\n",
    "    for sc in range(len(scoring)):\n",
    "        print(clf_test.__class__.__name__+\" average %s: %.3f (+/-%.3f)\" % (list(scoring.keys())[sc], -results['test_%s' % list(scoring.values())[sc]].mean()\n",
    "        if list(scoring.values())[sc]=='neg_log_loss' \n",
    "        else results['test_%s' % list(scoring.values())[sc]].mean(), \n",
    "            results['test_%s' % list(scoring.values())[sc]].std()))\n"
   ]
  },
  {
   "cell_type": "code",
   "execution_count": null,
   "metadata": {},
   "outputs": [],
   "source": []
  },
  {
   "cell_type": "code",
   "execution_count": null,
   "metadata": {},
   "outputs": [],
   "source": []
  },
  {
   "cell_type": "code",
   "execution_count": null,
   "metadata": {},
   "outputs": [],
   "source": []
  },
  {
   "cell_type": "code",
   "execution_count": null,
   "metadata": {},
   "outputs": [],
   "source": []
  },
  {
   "cell_type": "code",
   "execution_count": null,
   "metadata": {},
   "outputs": [],
   "source": []
  },
  {
   "cell_type": "code",
   "execution_count": null,
   "metadata": {},
   "outputs": [],
   "source": []
  },
  {
   "cell_type": "code",
   "execution_count": null,
   "metadata": {},
   "outputs": [],
   "source": []
  },
  {
   "cell_type": "code",
   "execution_count": null,
   "metadata": {},
   "outputs": [],
   "source": []
  },
  {
   "cell_type": "markdown",
   "metadata": {},
   "source": [
    "#### try more params with logistic, also maybe with my superficial columns i have overfitting?"
   ]
  },
  {
   "cell_type": "code",
   "execution_count": 56,
   "metadata": {},
   "outputs": [
    {
     "name": "stderr",
     "output_type": "stream",
     "text": [
      "/Users/katerina/anaconda3/lib/python3.7/site-packages/sklearn/preprocessing/data.py:323: DataConversionWarning: Data with input dtype int64, float64 were all converted to float64 by MinMaxScaler.\n",
      "  return self.partial_fit(X, y)\n"
     ]
    }
   ],
   "source": [
    "# Normalizing variables\n",
    "\n",
    "from sklearn.preprocessing import MinMaxScaler\n",
    "\n",
    "scaler = MinMaxScaler(feature_range = (0,1))\n",
    "\n",
    "scaler.fit(X)\n",
    "X = scaler.transform(X)\n",
    "X_test = scaler.transform(X_test)"
   ]
  },
  {
   "cell_type": "code",
   "execution_count": null,
   "metadata": {},
   "outputs": [],
   "source": []
  },
  {
   "cell_type": "code",
   "execution_count": null,
   "metadata": {},
   "outputs": [],
   "source": []
  },
  {
   "cell_type": "code",
   "execution_count": null,
   "metadata": {},
   "outputs": [],
   "source": []
  },
  {
   "cell_type": "code",
   "execution_count": null,
   "metadata": {},
   "outputs": [],
   "source": []
  },
  {
   "cell_type": "code",
   "execution_count": null,
   "metadata": {},
   "outputs": [],
   "source": []
  },
  {
   "cell_type": "code",
   "execution_count": null,
   "metadata": {},
   "outputs": [],
   "source": []
  },
  {
   "cell_type": "code",
   "execution_count": null,
   "metadata": {},
   "outputs": [],
   "source": []
  },
  {
   "cell_type": "markdown",
   "metadata": {},
   "source": [
    "## This is older Random Forest stuff, not relevant"
   ]
  },
  {
   "cell_type": "code",
   "execution_count": 38,
   "metadata": {},
   "outputs": [
    {
     "name": "stdout",
     "output_type": "stream",
     "text": [
      "Accuracy: 0.6623282352543975\n"
     ]
    }
   ],
   "source": [
    "from sklearn.model_selection import train_test_split\n",
    "\n",
    "\n",
    "cols = ['last_price', 'mid', 'transacted_qty', 'd_open_interest', 'bid1',\n",
    "       'bid2', 'bid3', 'bid4', 'bid5', 'ask1', 'ask2', 'ask3', 'ask4', 'ask5',\n",
    "       'bid1vol', 'bid2vol', 'bid3vol', 'bid4vol', 'bid5vol', 'ask1vol',\n",
    "       'ask2vol', 'ask3vol', 'ask4vol', 'ask5vol', 'value',\n",
    "       'sm']\n",
    "cols_selection = ['last_price', 'mid', 'transacted_qty', 'bid1', 'ask1', 'ask4', 'ask5', 'ask1vol', 'value', 'sm']\n",
    "X = df[cols]\n",
    "X_train, X_test, y_train, y_test = train_test_split(X, y, test_size=0.1)\n",
    "clf=RandomForestClassifier(n_estimators=100)\n",
    "\n",
    "#Train the model using the training sets y_pred=clf.predict(X_test)\n",
    "clf.fit(X_train,y_train)\n",
    "\n",
    "y_pred=clf.predict(X_test)\n",
    "\n",
    "from sklearn import metrics\n",
    "# Model Accuracy, how often is the classifier correct?\n",
    "print(\"Accuracy:\",metrics.accuracy_score(y_test, y_pred))\n",
    "\n"
   ]
  },
  {
   "cell_type": "code",
   "execution_count": null,
   "metadata": {},
   "outputs": [],
   "source": []
  },
  {
   "cell_type": "code",
   "execution_count": null,
   "metadata": {},
   "outputs": [],
   "source": [
    "#0.662 seems ok, lets try this?"
   ]
  },
  {
   "cell_type": "code",
   "execution_count": 40,
   "metadata": {},
   "outputs": [
    {
     "data": {
      "text/plain": [
       "RandomForestClassifier(bootstrap=True, class_weight=None, criterion='gini',\n",
       "            max_depth=None, max_features='auto', max_leaf_nodes=None,\n",
       "            min_impurity_decrease=0.0, min_impurity_split=None,\n",
       "            min_samples_leaf=1, min_samples_split=2,\n",
       "            min_weight_fraction_leaf=0.0, n_estimators=100, n_jobs=None,\n",
       "            oob_score=False, random_state=None, verbose=0,\n",
       "            warm_start=False)"
      ]
     },
     "execution_count": 40,
     "metadata": {},
     "output_type": "execute_result"
    }
   ],
   "source": [
    "clf=RandomForestClassifier(n_estimators=100)\n",
    "\n",
    "\n",
    "cols = ['last_price', 'mid', 'transacted_qty', 'd_open_interest', 'bid1',\n",
    "       'bid2', 'bid3', 'bid4', 'bid5', 'ask1', 'ask2', 'ask3', 'ask4', 'ask5',\n",
    "       'bid1vol', 'bid2vol', 'bid3vol', 'bid4vol', 'bid5vol', 'ask1vol',\n",
    "       'ask2vol', 'ask3vol', 'ask4vol', 'ask5vol', 'value',\n",
    "       'sm']\n",
    "\n",
    "X = df[cols]\n",
    "\n",
    "\n",
    "clf.fit(X,y)"
   ]
  },
  {
   "cell_type": "code",
   "execution_count": 42,
   "metadata": {},
   "outputs": [
    {
     "data": {
      "text/plain": [
       "array([0.44      , 0.32      , 0.485     , ..., 0.55666667, 0.41      ,\n",
       "       0.39      ])"
      ]
     },
     "execution_count": 42,
     "metadata": {},
     "output_type": "execute_result"
    }
   ],
   "source": [
    "tst = tst.assign(value = lambda x: x.bid1vol / x.ask1vol)\n",
    "tst = tst.assign(sm = lambda x: (x.bid1vol+x.bid2vol+x.bid3vol+x.bid4vol+x.bid5vol) / (x.ask1vol+x.ask2vol+x.ask3vol+x.ask4vol+x.ask5vol))\n",
    "\n",
    "\n",
    "X_test = tst[cols]\n",
    "y_pred = clf.predict(X_test)\n",
    "y_pred_proba = clf.predict_proba(X_test)[:, 1]\n",
    "y_pred_proba"
   ]
  },
  {
   "cell_type": "code",
   "execution_count": 43,
   "metadata": {},
   "outputs": [],
   "source": [
    "ydf = pd.DataFrame(y_pred_proba)\n",
    "res = pd.concat([tst['id'], ydf], axis = 1, keys=['id', '0'])\n",
    "pd.DataFrame(res).to_csv(\"data/proba.csv\", index=None)"
   ]
  },
  {
   "cell_type": "code",
   "execution_count": null,
   "metadata": {},
   "outputs": [],
   "source": []
  },
  {
   "cell_type": "code",
   "execution_count": null,
   "metadata": {},
   "outputs": [],
   "source": [
    "# I made a submission with this Random Forest with a lot of features, it gave very low AUC 0.54282"
   ]
  },
  {
   "cell_type": "code",
   "execution_count": null,
   "metadata": {},
   "outputs": [],
   "source": [
    "# press F"
   ]
  },
  {
   "cell_type": "code",
   "execution_count": null,
   "metadata": {},
   "outputs": [],
   "source": []
  },
  {
   "cell_type": "code",
   "execution_count": null,
   "metadata": {},
   "outputs": [],
   "source": []
  },
  {
   "cell_type": "code",
   "execution_count": 39,
   "metadata": {},
   "outputs": [
    {
     "data": {
      "text/plain": [
       "sm                 0.083989\n",
       "value              0.051514\n",
       "bid5vol            0.046017\n",
       "bid4vol            0.045784\n",
       "ask5vol            0.045661\n",
       "bid3vol            0.045642\n",
       "ask3vol            0.045089\n",
       "ask4vol            0.044851\n",
       "bid2vol            0.042336\n",
       "ask2vol            0.040589\n",
       "last_price         0.040186\n",
       "mid                0.036547\n",
       "transacted_qty     0.032980\n",
       "ask5               0.031839\n",
       "bid5               0.031673\n",
       "ask1               0.031641\n",
       "bid1               0.031279\n",
       "ask1vol            0.031219\n",
       "ask4               0.031155\n",
       "bid4               0.030997\n",
       "d_open_interest    0.030899\n",
       "ask3               0.030786\n",
       "ask2               0.030648\n",
       "bid3               0.030537\n",
       "bid2               0.030530\n",
       "bid1vol            0.025610\n",
       "dtype: float64"
      ]
     },
     "execution_count": 39,
     "metadata": {},
     "output_type": "execute_result"
    }
   ],
   "source": [
    "clf.feature_importances_\n",
    "feature_imp = pd.Series(clf.feature_importances_,index=cols).sort_values(ascending=False)\n",
    "feature_imp"
   ]
  },
  {
   "cell_type": "code",
   "execution_count": null,
   "metadata": {},
   "outputs": [],
   "source": [
    "# interesting, this is very different feature importance order than for logistic regression. \n",
    "# nevertheless with both models we see that 'sm' and 'value' features that I added rank high with feature importance"
   ]
  },
  {
   "cell_type": "code",
   "execution_count": 35,
   "metadata": {},
   "outputs": [
    {
     "name": "stdout",
     "output_type": "stream",
     "text": [
      "Accuracy: 0.6544110199534083\n"
     ]
    }
   ],
   "source": [
    "cols_selection = ['last_price', 'transacted_qty',  'bid3vol', 'bid4vol', 'bid5vol', 'ask1vol',\n",
    "      'ask3vol', 'ask4vol', 'ask5vol', 'value', 'sm']\n",
    "X = df[cols_selection]\n",
    "X_train, X_test, y_train, y_test = train_test_split(X, y, test_size=0.3)\n",
    "clf=RandomForestClassifier(n_estimators=100)\n",
    "\n",
    "clf.fit(X_train,y_train)\n",
    "\n",
    "y_pred=clf.predict(X_test)\n",
    "\n",
    "from sklearn import metrics\n",
    "# Model Accuracy, how often is the classifier correct?\n",
    "print(\"Accuracy:\",metrics.accuracy_score(y_test, y_pred))"
   ]
  },
  {
   "cell_type": "code",
   "execution_count": null,
   "metadata": {},
   "outputs": [],
   "source": [
    "# so for random forest if I select 8-12 features it gives worse accuracy than taking all the features"
   ]
  },
  {
   "cell_type": "code",
   "execution_count": null,
   "metadata": {},
   "outputs": [],
   "source": []
  },
  {
   "cell_type": "code",
   "execution_count": null,
   "metadata": {},
   "outputs": [],
   "source": []
  },
  {
   "cell_type": "code",
   "execution_count": 37,
   "metadata": {},
   "outputs": [
    {
     "name": "stderr",
     "output_type": "stream",
     "text": [
      "[Parallel(n_jobs=-1)]: Using backend LokyBackend with 4 concurrent workers.\n",
      "[Parallel(n_jobs=-1)]: Done  42 tasks      | elapsed:   32.1s\n",
      "[Parallel(n_jobs=-1)]: Done 100 out of 100 | elapsed:  1.2min finished\n",
      "[Parallel(n_jobs=4)]: Using backend ThreadingBackend with 4 concurrent workers.\n",
      "[Parallel(n_jobs=4)]: Done  42 tasks      | elapsed:    0.6s\n",
      "[Parallel(n_jobs=4)]: Done 100 out of 100 | elapsed:    1.2s finished\n",
      "[Parallel(n_jobs=4)]: Using backend ThreadingBackend with 4 concurrent workers.\n",
      "[Parallel(n_jobs=4)]: Done  42 tasks      | elapsed:    0.3s\n",
      "[Parallel(n_jobs=4)]: Done 100 out of 100 | elapsed:    0.7s finished\n",
      "[Parallel(n_jobs=4)]: Using backend ThreadingBackend with 4 concurrent workers.\n",
      "[Parallel(n_jobs=4)]: Done  42 tasks      | elapsed:    0.3s\n",
      "[Parallel(n_jobs=4)]: Done 100 out of 100 | elapsed:    0.7s finished\n",
      "[Parallel(n_jobs=-1)]: Using backend LokyBackend with 4 concurrent workers.\n",
      "[Parallel(n_jobs=-1)]: Done  42 tasks      | elapsed:   30.6s\n",
      "[Parallel(n_jobs=-1)]: Done 100 out of 100 | elapsed:  1.2min finished\n",
      "[Parallel(n_jobs=4)]: Using backend ThreadingBackend with 4 concurrent workers.\n",
      "[Parallel(n_jobs=4)]: Done  42 tasks      | elapsed:    1.1s\n",
      "[Parallel(n_jobs=4)]: Done 100 out of 100 | elapsed:    2.3s finished\n",
      "[Parallel(n_jobs=4)]: Using backend ThreadingBackend with 4 concurrent workers.\n",
      "[Parallel(n_jobs=4)]: Done  42 tasks      | elapsed:    0.6s\n",
      "[Parallel(n_jobs=4)]: Done 100 out of 100 | elapsed:    1.5s finished\n",
      "[Parallel(n_jobs=4)]: Using backend ThreadingBackend with 4 concurrent workers.\n",
      "[Parallel(n_jobs=4)]: Done  42 tasks      | elapsed:    0.6s\n",
      "[Parallel(n_jobs=4)]: Done 100 out of 100 | elapsed:    1.6s finished\n",
      "[Parallel(n_jobs=-1)]: Using backend LokyBackend with 4 concurrent workers.\n",
      "[Parallel(n_jobs=-1)]: Done  42 tasks      | elapsed:   37.7s\n",
      "[Parallel(n_jobs=-1)]: Done 100 out of 100 | elapsed:  1.3min finished\n",
      "[Parallel(n_jobs=4)]: Using backend ThreadingBackend with 4 concurrent workers.\n",
      "[Parallel(n_jobs=4)]: Done  42 tasks      | elapsed:    1.0s\n",
      "[Parallel(n_jobs=4)]: Done 100 out of 100 | elapsed:    2.0s finished\n",
      "[Parallel(n_jobs=4)]: Using backend ThreadingBackend with 4 concurrent workers.\n",
      "[Parallel(n_jobs=4)]: Done  42 tasks      | elapsed:    0.7s\n",
      "[Parallel(n_jobs=4)]: Done 100 out of 100 | elapsed:    1.5s finished\n",
      "[Parallel(n_jobs=4)]: Using backend ThreadingBackend with 4 concurrent workers.\n",
      "[Parallel(n_jobs=4)]: Done  42 tasks      | elapsed:    0.6s\n",
      "[Parallel(n_jobs=4)]: Done 100 out of 100 | elapsed:    1.3s finished\n",
      "[Parallel(n_jobs=-1)]: Using backend LokyBackend with 4 concurrent workers.\n",
      "[Parallel(n_jobs=-1)]: Done  42 tasks      | elapsed:   33.1s\n",
      "[Parallel(n_jobs=-1)]: Done 100 out of 100 | elapsed:  1.3min finished\n",
      "[Parallel(n_jobs=4)]: Using backend ThreadingBackend with 4 concurrent workers.\n",
      "[Parallel(n_jobs=4)]: Done  42 tasks      | elapsed:    0.7s\n",
      "[Parallel(n_jobs=4)]: Done 100 out of 100 | elapsed:    1.5s finished\n",
      "[Parallel(n_jobs=4)]: Using backend ThreadingBackend with 4 concurrent workers.\n",
      "[Parallel(n_jobs=4)]: Done  42 tasks      | elapsed:    0.5s\n",
      "[Parallel(n_jobs=4)]: Done 100 out of 100 | elapsed:    1.2s finished\n",
      "[Parallel(n_jobs=4)]: Using backend ThreadingBackend with 4 concurrent workers.\n",
      "[Parallel(n_jobs=4)]: Done  42 tasks      | elapsed:    0.5s\n"
     ]
    },
    {
     "name": "stdout",
     "output_type": "stream",
     "text": [
      "K-fold cross-validation results:\n",
      "RandomForestClassifier average accuracy: 0.609 (+/-0.020)\n",
      "RandomForestClassifier average log_loss: 0.663 (+/-0.011)\n",
      "RandomForestClassifier average auc: 0.585 (+/-0.011)\n"
     ]
    },
    {
     "name": "stderr",
     "output_type": "stream",
     "text": [
      "[Parallel(n_jobs=4)]: Done 100 out of 100 | elapsed:    1.1s finished\n"
     ]
    }
   ],
   "source": [
    "from sklearn.model_selection import cross_validate\n",
    "scoring = {'accuracy': 'accuracy', 'log_loss': 'neg_log_loss', 'auc': 'roc_auc'}\n",
    "\n",
    "from sklearn.ensemble import RandomForestClassifier\n",
    "\n",
    "modelCV = RandomForestClassifier(n_estimators=100, \n",
    "                               random_state=50, \n",
    "                               max_features = 'sqrt',\n",
    "                               n_jobs=-1, verbose = 1)\n",
    "\n",
    "y = df.y\n",
    "\n",
    "\n",
    "cols = ['last_price', 'mid', 'transacted_qty', 'd_open_interest', 'bid1',\n",
    "       'bid2', 'bid3', 'bid4', 'bid5', 'ask1', 'ask2', 'ask3', 'ask4', 'ask5',\n",
    "       'bid1vol', 'bid2vol', 'bid3vol', 'bid4vol', 'bid5vol', 'ask1vol',\n",
    "       'ask2vol', 'ask3vol', 'ask4vol', 'ask5vol', 'value',\n",
    "       'sm']\n",
    "cols_selected = ['last_price', 'mid', 'transacted_qty', 'bid1', 'ask1', 'ask4', 'ask5', 'ask1vol', 'value', 'sm']\n",
    "X = df[cols]\n",
    "results = cross_validate(modelCV, X, y, cv=4, scoring=list(scoring.values()), \n",
    "                         return_train_score=False)\n",
    "\n",
    "print('K-fold cross-validation results:')\n",
    "for sc in range(len(scoring)):\n",
    "    print(modelCV.__class__.__name__+\" average %s: %.3f (+/-%.3f)\" % (list(scoring.keys())[sc], -results['test_%s' % list(scoring.values())[sc]].mean()\n",
    "                               if list(scoring.values())[sc]=='neg_log_loss' \n",
    "                               else results['test_%s' % list(scoring.values())[sc]].mean(), \n",
    "                               results['test_%s' % list(scoring.values())[sc]].std()))"
   ]
  }
 ],
 "metadata": {
  "kernelspec": {
   "display_name": "Python 3",
   "language": "python",
   "name": "python3"
  },
  "language_info": {
   "codemirror_mode": {
    "name": "ipython",
    "version": 3
   },
   "file_extension": ".py",
   "mimetype": "text/x-python",
   "name": "python",
   "nbconvert_exporter": "python",
   "pygments_lexer": "ipython3",
   "version": "3.6.7"
  }
 },
 "nbformat": 4,
 "nbformat_minor": 2
}

{
 "cells": [
  {
   "cell_type": "code",
   "execution_count": 19,
   "metadata": {},
   "outputs": [],
   "source": [
    "import pandas as pd\n",
    "import matplotlib.pyplot as plt\n",
    "import numpy as np\n",
    "\n",
    "import torch\n",
    "import torch.nn as nn\n",
    "import torch.nn.functional as F\n",
    "from torchvision import datasets, transforms\n",
    "\n",
    "from sklearn.ensemble import RandomForestClassifier\n",
    "from sklearn.datasets import make_classification\n",
    "from sklearn.metrics import roc_curve, auc\n",
    "from sklearn.model_selection import cross_validate"
   ]
  },
  {
   "cell_type": "markdown",
   "metadata": {},
   "source": [
    "### RandomForest, but test with different # of features. All price-related columns normalized. "
   ]
  },
  {
   "cell_type": "code",
   "execution_count": 14,
   "metadata": {},
   "outputs": [],
   "source": [
    "# Train and test data\n",
    "df_train = pd.read_csv('data/train.csv')\n",
    "df_test = pd.read_csv('data/test.csv')"
   ]
  },
  {
   "cell_type": "markdown",
   "metadata": {},
   "source": [
    "#### TEST 1: Drop all bid[3-5][vol], ask[3-5][vol], and mid. Keep opened_position_qty and closed_position_qty; fill NaNs with mean value of column. "
   ]
  },
  {
   "cell_type": "code",
   "execution_count": 15,
   "metadata": {},
   "outputs": [],
   "source": [
    "df_ex_1 = df_train.drop(columns=['id', \n",
    "                                 'bid3vol', 'bid4vol', 'bid5vol', \n",
    "                                 'ask3vol', 'ask4vol', 'ask5vol', \n",
    "                                 'mid', \n",
    "                                 'ask3', 'ask4', 'ask5', \n",
    "                                 'bid3', 'bid4', 'bid5'])"
   ]
  },
  {
   "cell_type": "code",
   "execution_count": 24,
   "metadata": {},
   "outputs": [],
   "source": [
    "nan_values = {'opened_position_qty ': df_ex_1['opened_position_qty '].mean(), \n",
    "              'closed_position_qty': df_ex_1['closed_position_qty'].mean()}\n",
    "df_ex_1 = df_ex_1.fillna(value=nan_values)"
   ]
  },
  {
   "cell_type": "code",
   "execution_count": 27,
   "metadata": {},
   "outputs": [],
   "source": [
    "cols_to_norm = ['last_price', 'bid1', 'bid2', 'ask1', 'ask2']\n",
    "df_ex_1[cols_to_norm] = df_ex_1[cols_to_norm].apply(lambda x: (x - x.min()) / (x.max() - x.min()))"
   ]
  },
  {
   "cell_type": "code",
   "execution_count": 74,
   "metadata": {},
   "outputs": [],
   "source": [
    "X_train = np.asarray(df_ex_1.iloc[:, 0:13])\n",
    "y_train = np.asarray(df_ex_1['y'])"
   ]
  },
  {
   "cell_type": "code",
   "execution_count": 75,
   "metadata": {},
   "outputs": [
    {
     "name": "stdout",
     "output_type": "stream",
     "text": [
      "\n",
      "K-fold cross-validation results (entropy): \n",
      "RandomForestClassifier average accuracy: 0.643 (+/-0.000)\n",
      "RandomForestClassifier average log_loss: 0.644 (+/-0.002)\n",
      "RandomForestClassifier average auc: 0.598 (+/-0.015)\n"
     ]
    }
   ],
   "source": [
    "# This is very sad\n",
    "\n",
    "scoring = {'accuracy': 'accuracy', 'log_loss': 'neg_log_loss', 'auc': 'roc_auc'}\n",
    "\n",
    "clf_test = RandomForestClassifier(max_depth=2, min_samples_split=2, \n",
    "                                  random_state=1, n_estimators=10, \n",
    "                                  max_features='sqrt')\n",
    "\n",
    "results = cross_validate(clf_test, X_train, y_train, cv=5, scoring=list(scoring.values()), \n",
    "                         return_train_score=False)\n",
    "    \n",
    "print('\\nK-fold cross-validation results (entropy): ')\n",
    "for sc in range(len(scoring)):\n",
    "    print(clf_test.__class__.__name__+\" average %s: %.3f (+/-%.3f)\" % (list(scoring.keys())[sc], -results['test_%s' % list(scoring.values())[sc]].mean()\n",
    "    if list(scoring.values())[sc]=='neg_log_loss' \n",
    "    else results['test_%s' % list(scoring.values())[sc]].mean(), \n",
    "        results['test_%s' % list(scoring.values())[sc]].std()))"
   ]
  },
  {
   "cell_type": "markdown",
   "metadata": {},
   "source": [
    "#### TEST 2: Drop NOTHING. Fill NaNs with mean value of column. "
   ]
  },
  {
   "cell_type": "code",
   "execution_count": 76,
   "metadata": {},
   "outputs": [],
   "source": [
    "nan_values = {'opened_position_qty ': df_train['opened_position_qty '].mean(), \n",
    "              'closed_position_qty': df_train['closed_position_qty'].mean()}\n",
    "df_ex_2 = df_train.fillna(value=nan_values)"
   ]
  },
  {
   "cell_type": "code",
   "execution_count": 77,
   "metadata": {},
   "outputs": [],
   "source": [
    "cols_to_norm = ['last_price', 'mid', \n",
    "                'bid1', 'bid2', 'bid3', 'bid4', 'bid5', \n",
    "                'ask1', 'ask2', 'ask3', 'ask4', 'ask5']\n",
    "df_ex_2[cols_to_norm] = df_ex_2[cols_to_norm].apply(lambda x: (x - x.min()) / (x.max() - x.min()))"
   ]
  },
  {
   "cell_type": "code",
   "execution_count": 81,
   "metadata": {},
   "outputs": [],
   "source": [
    "X_train = np.asarray(df_ex_2.iloc[:, 0:27])\n",
    "y_train = np.asarray(df_ex_2['y'])"
   ]
  },
  {
   "cell_type": "code",
   "execution_count": 82,
   "metadata": {},
   "outputs": [
    {
     "name": "stdout",
     "output_type": "stream",
     "text": [
      "\n",
      "K-fold cross-validation results (entropy): \n",
      "RandomForestClassifier average accuracy: 0.597 (+/-0.092)\n",
      "RandomForestClassifier average log_loss: 0.667 (+/-0.040)\n",
      "RandomForestClassifier average auc: 0.575 (+/-0.026)\n"
     ]
    }
   ],
   "source": [
    "# also sad\n",
    "\n",
    "scoring = {'accuracy': 'accuracy', 'log_loss': 'neg_log_loss', 'auc': 'roc_auc'}\n",
    "\n",
    "clf_test = RandomForestClassifier(max_depth=2, min_samples_split=2, \n",
    "                                  random_state=1, n_estimators=10, \n",
    "                                  max_features='sqrt')\n",
    "\n",
    "results = cross_validate(clf_test, X_train, y_train, cv=5, scoring=list(scoring.values()), \n",
    "                         return_train_score=False)\n",
    "    \n",
    "print('\\nK-fold cross-validation results (entropy): ')\n",
    "for sc in range(len(scoring)):\n",
    "    print(clf_test.__class__.__name__+\" average %s: %.3f (+/-%.3f)\" % (list(scoring.keys())[sc], -results['test_%s' % list(scoring.values())[sc]].mean()\n",
    "    if list(scoring.values())[sc]=='neg_log_loss' \n",
    "    else results['test_%s' % list(scoring.values())[sc]].mean(), \n",
    "        results['test_%s' % list(scoring.values())[sc]].std()))"
   ]
  },
  {
   "cell_type": "markdown",
   "metadata": {},
   "source": [
    "#### TEST 3: Drop NOTHING. Fill NaNs with median value of column. "
   ]
  },
  {
   "cell_type": "code",
   "execution_count": 95,
   "metadata": {},
   "outputs": [],
   "source": [
    "nan_values = {'opened_position_qty ': df_train['opened_position_qty '].median(), \n",
    "              'closed_position_qty': df_train['closed_position_qty'].median()}\n",
    "df_ex_3 = df_train.fillna(value=nan_values)"
   ]
  },
  {
   "cell_type": "code",
   "execution_count": 96,
   "metadata": {},
   "outputs": [],
   "source": [
    "cols_to_norm = ['last_price', 'mid', \n",
    "                'bid1', 'bid2', 'bid3', 'bid4', 'bid5', \n",
    "                'ask1', 'ask2', 'ask3', 'ask4', 'ask5']\n",
    "df_ex_3[cols_to_norm] = df_ex_3[cols_to_norm].apply(lambda x: (x - x.min()) / (x.max() - x.min()))"
   ]
  },
  {
   "cell_type": "code",
   "execution_count": 97,
   "metadata": {},
   "outputs": [],
   "source": [
    "X_train = np.asarray(df_ex_3.iloc[:, 0:27])\n",
    "y_train = np.asarray(df_ex_3['y'])"
   ]
  },
  {
   "cell_type": "code",
   "execution_count": 98,
   "metadata": {},
   "outputs": [
    {
     "name": "stdout",
     "output_type": "stream",
     "text": [
      "\n",
      "K-fold cross-validation results (entropy): \n",
      "RandomForestClassifier average accuracy: 0.597 (+/-0.092)\n",
      "RandomForestClassifier average log_loss: 0.667 (+/-0.040)\n",
      "RandomForestClassifier average auc: 0.575 (+/-0.026)\n"
     ]
    }
   ],
   "source": [
    "# same thing, which means that actual open and close might be very far away from what we believe\n",
    "\n",
    "scoring = {'accuracy': 'accuracy', 'log_loss': 'neg_log_loss', 'auc': 'roc_auc'}\n",
    "\n",
    "clf_test = RandomForestClassifier(max_depth=2, min_samples_split=2, \n",
    "                                  random_state=1, n_estimators=10, \n",
    "                                  max_features='sqrt')\n",
    "\n",
    "results = cross_validate(clf_test, X_train, y_train, cv=5, scoring=list(scoring.values()), \n",
    "                         return_train_score=False)\n",
    "    \n",
    "print('\\nK-fold cross-validation results (entropy): ')\n",
    "for sc in range(len(scoring)):\n",
    "    print(clf_test.__class__.__name__+\" average %s: %.3f (+/-%.3f)\" % (list(scoring.keys())[sc], -results['test_%s' % list(scoring.values())[sc]].mean()\n",
    "    if list(scoring.values())[sc]=='neg_log_loss' \n",
    "    else results['test_%s' % list(scoring.values())[sc]].mean(), \n",
    "        results['test_%s' % list(scoring.values())[sc]].std()))"
   ]
  },
  {
   "cell_type": "markdown",
   "metadata": {},
   "source": [
    "#### TEST 4: Drop NOTHING. Fill NaNs with median value of column. Don't normalize. "
   ]
  },
  {
   "cell_type": "code",
   "execution_count": 92,
   "metadata": {},
   "outputs": [],
   "source": [
    "nan_values = {'opened_position_qty ': df_train['opened_position_qty '].median(), \n",
    "              'closed_position_qty': df_train['closed_position_qty'].median()}\n",
    "df_ex_4 = df_train.fillna(value=nan_values)"
   ]
  },
  {
   "cell_type": "code",
   "execution_count": 93,
   "metadata": {},
   "outputs": [],
   "source": [
    "X_train = np.asarray(df_ex_4.iloc[:, 0:27])\n",
    "y_train = np.asarray(df_ex_4['y'])"
   ]
  },
  {
   "cell_type": "code",
   "execution_count": 94,
   "metadata": {},
   "outputs": [
    {
     "name": "stdout",
     "output_type": "stream",
     "text": [
      "\n",
      "K-fold cross-validation results (entropy): \n",
      "RandomForestClassifier average accuracy: 0.597 (+/-0.092)\n",
      "RandomForestClassifier average log_loss: 0.667 (+/-0.040)\n",
      "RandomForestClassifier average auc: 0.575 (+/-0.026)\n"
     ]
    }
   ],
   "source": [
    "# normalization doesnt make a difference\n",
    "\n",
    "scoring = {'accuracy': 'accuracy', 'log_loss': 'neg_log_loss', 'auc': 'roc_auc'}\n",
    "\n",
    "clf_test = RandomForestClassifier(max_depth=2, min_samples_split=2, \n",
    "                                  random_state=1, n_estimators=10, \n",
    "                                  max_features='sqrt')\n",
    "\n",
    "results = cross_validate(clf_test, X_train, y_train, cv=5, scoring=list(scoring.values()), \n",
    "                         return_train_score=False)\n",
    "    \n",
    "print('\\nK-fold cross-validation results (entropy): ')\n",
    "for sc in range(len(scoring)):\n",
    "    print(clf_test.__class__.__name__+\" average %s: %.3f (+/-%.3f)\" % (list(scoring.keys())[sc], -results['test_%s' % list(scoring.values())[sc]].mean()\n",
    "    if list(scoring.values())[sc]=='neg_log_loss' \n",
    "    else results['test_%s' % list(scoring.values())[sc]].mean(), \n",
    "        results['test_%s' % list(scoring.values())[sc]].std()))"
   ]
  },
  {
   "cell_type": "markdown",
   "metadata": {},
   "source": [
    "#### TEST 5: Drop all bid[1-5][vol], ask[1-5][vol]. Don't keep opened_position and closed_position. Don't normalize. "
   ]
  },
  {
   "cell_type": "code",
   "execution_count": 53,
   "metadata": {},
   "outputs": [],
   "source": [
    "df_ex_5 = df_train.drop(columns=['id', 'opened_position_qty ', 'closed_position_qty',\n",
    "                                 'bid1vol', 'bid2vol', 'bid3vol', 'bid4vol', 'bid5vol', \n",
    "                                 'ask1vol', 'ask2vol', 'ask3vol', 'ask4vol', 'ask5vol', \n",
    "                                 'ask1', 'ask2', 'ask3', 'ask4', 'ask5', \n",
    "                                 'bid1', 'bid2', 'bid3', 'bid4', 'bid5'])"
   ]
  },
  {
   "cell_type": "code",
   "execution_count": 86,
   "metadata": {},
   "outputs": [],
   "source": [
    "cols_to_norm = ['last_price', 'mid']\n",
    "df_ex_5[cols_to_norm] = df_ex_5[cols_to_norm].apply(lambda x: (x - x.min()) / (x.max() - x.min()))"
   ]
  },
  {
   "cell_type": "code",
   "execution_count": 89,
   "metadata": {},
   "outputs": [],
   "source": [
    "X_train = np.asarray(df_ex_5.iloc[:, 0:4])\n",
    "y_train = np.asarray(df_ex_5['y'])"
   ]
  },
  {
   "cell_type": "code",
   "execution_count": 91,
   "metadata": {},
   "outputs": [
    {
     "name": "stdout",
     "output_type": "stream",
     "text": [
      "\n",
      "K-fold cross-validation results (entropy): \n",
      "RandomForestClassifier average accuracy: 0.638 (+/-0.013)\n",
      "RandomForestClassifier average log_loss: 0.656 (+/-0.014)\n",
      "RandomForestClassifier average auc: 0.518 (+/-0.027)\n"
     ]
    }
   ],
   "source": [
    "# yeah this is not good\n",
    "\n",
    "scoring = {'accuracy': 'accuracy', 'log_loss': 'neg_log_loss', 'auc': 'roc_auc'}\n",
    "\n",
    "clf_test = RandomForestClassifier(max_depth=2, min_samples_split=2, \n",
    "                                  random_state=1, n_estimators=10, \n",
    "                                  max_features='sqrt')\n",
    "\n",
    "results = cross_validate(clf_test, X_train, y_train, cv=8, scoring=list(scoring.values()), \n",
    "                         return_train_score=False)\n",
    "    \n",
    "print('\\nK-fold cross-validation results (entropy): ')\n",
    "for sc in range(len(scoring)):\n",
    "    print(clf_test.__class__.__name__+\" average %s: %.3f (+/-%.3f)\" % (list(scoring.keys())[sc], -results['test_%s' % list(scoring.values())[sc]].mean()\n",
    "    if list(scoring.values())[sc]=='neg_log_loss' \n",
    "    else results['test_%s' % list(scoring.values())[sc]].mean(), \n",
    "        results['test_%s' % list(scoring.values())[sc]].std()))"
   ]
  },
  {
   "cell_type": "code",
   "execution_count": null,
   "metadata": {},
   "outputs": [],
   "source": []
  }
 ],
 "metadata": {
  "kernelspec": {
   "display_name": "Python 3",
   "language": "python",
   "name": "python3"
  },
  "language_info": {
   "codemirror_mode": {
    "name": "ipython",
    "version": 3
   },
   "file_extension": ".py",
   "mimetype": "text/x-python",
   "name": "python",
   "nbconvert_exporter": "python",
   "pygments_lexer": "ipython3",
   "version": "3.7.4"
  }
 },
 "nbformat": 4,
 "nbformat_minor": 4
}

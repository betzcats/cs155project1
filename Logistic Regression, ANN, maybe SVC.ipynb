{
 "cells": [
  {
   "cell_type": "code",
   "execution_count": 5,
   "metadata": {},
   "outputs": [],
   "source": [
    "import pandas as pd\n",
    "import matplotlib.pyplot as plt\n",
    "import seaborn as sns\n",
    "from sklearn import preprocessing\n",
    "from sklearn.linear_model import LogisticRegression\n",
    "import numpy as np\n",
    "from sklearn.linear_model import LogisticRegressionCV\n",
    "from sklearn.metrics import roc_auc_score\n",
    "\n",
    "\n",
    "from sklearn.ensemble import RandomForestClassifier\n",
    "from sklearn.datasets import make_classification\n",
    "from sklearn.metrics import roc_curve, auc\n",
    "from sklearn.model_selection import cross_validate\n",
    "\n",
    "\n",
    "# Neural Network \n",
    "from sklearn.feature_selection import RFECV    # for feature selection "
   ]
  },
  {
   "cell_type": "markdown",
   "metadata": {},
   "source": [
    "# Load in training and test data"
   ]
  },
  {
   "cell_type": "code",
   "execution_count": 71,
   "metadata": {},
   "outputs": [],
   "source": [
    "df = pd.read_csv(\"data/train.csv\")\n",
    "df.columns = list(df.columns.values)\n",
    "df_test = pd.read_csv(\"data/test.csv\")\n",
    "df_test.columns = list(df_test.columns.values)"
   ]
  },
  {
   "cell_type": "markdown",
   "metadata": {},
   "source": [
    "# Adding Additional Variables\n",
    "Result: These indicator variables definitely worsen the performance of Logistic Regression. "
   ]
  },
  {
   "cell_type": "code",
   "execution_count": 51,
   "metadata": {},
   "outputs": [],
   "source": [
    "# ADD (bid volumes / ask volumes) ratio  TO TRAIN AND TEST \n",
    "# indicator - ratio of all bid volumes to all ask volumes\n",
    "df_test = df_test.assign(bid_ask_ratio_all = \\\n",
    "                        lambda x: (x.bid1vol+x.bid2vol+x.bid3vol+x.bid4vol+x.bid5vol) / \\\n",
    "                                  (x.ask1vol+x.ask2vol+x.ask3vol+x.ask4vol+x.ask5vol))\n",
    "\n",
    "# indicator - ratio of all bid volumes to all ask volumes\n",
    "df = df.assign(bid_ask_ratio_all = \\\n",
    "                        lambda x: (x.bid1vol+x.bid2vol+x.bid3vol+x.bid4vol+x.bid5vol) / \\\n",
    "                                  (x.ask1vol+x.ask2vol+x.ask3vol+x.ask4vol+x.ask5vol))\n",
    "\n",
    "\n",
    "# Add (best bid volume / best ask volume) TO TRAIN AND TEST \n",
    "# indicator - ratio of best bid (bid1) volume to best ask (ask1) volume\n",
    "\n",
    "#df_test = df_test.assign(bid_ask_ratio_best = lambda x: x.bid1vol / x.ask1vol)\n",
    "#df = df.assign(bid_ask_ratio_best = lambda x: x.bid1vol / x.ask1vol)\n",
    "\n",
    "\n",
    "# indicator - difference between the price of most recent order and average of best bid and best ask (mid)\n",
    "#df_test = df_test.assign(diff_price = lambda x: (x.last_price) - (x.mid))\n",
    "#df = df.assign(diff_price = lambda x: (x.last_price) - (x.mid))\n",
    "\n",
    "# indicator - difference between best bid price and best ask price\n",
    "#df_test = df_test.assign(diff_best_bid_ask = lambda x: (x.bid1) - (x.ask1))\n",
    "#df = df.assign(diff_best_bid_ask = lambda x: (x.bid1) - (x.ask1))\n"
   ]
  },
  {
   "cell_type": "code",
   "execution_count": 58,
   "metadata": {},
   "outputs": [],
   "source": [
    "# Let's drop [bid2, ... bid5, ask2, ... ask5] columns due to heavy correlation \n",
    "df.drop(columns=['bid1vol','bid2vol', 'bid3vol', 'bid4vol', 'bid5vol', 'ask1vol','ask2vol',\\\n",
    "                 'ask3vol', 'ask4vol', 'ask5vol'], inplace=True)\n",
    "df_test.drop(columns=['bid1vol','bid2vol', 'bid3vol', 'bid4vol', 'bid5vol', 'ask1vol','ask2vol',\\\n",
    "                 'ask3vol', 'ask4vol', 'ask5vol'], inplace=True)"
   ]
  },
  {
   "cell_type": "markdown",
   "metadata": {},
   "source": [
    "# Dropping Highly Correlated Variables "
   ]
  },
  {
   "cell_type": "code",
   "execution_count": 72,
   "metadata": {},
   "outputs": [],
   "source": [
    "\n",
    "df.drop(columns=['closed_position_qty', 'opened_position_qty '], inplace=True)\n",
    "df_test.drop(columns=['closed_position_qty', 'opened_position_qty '], inplace=True)\n",
    "\n",
    "# Let's drop [bid2, ... bid5, ask2, ... ask5] columns due to heavy correlation \n",
    "df.drop(columns=['bid2', 'bid3', 'bid4', 'bid5', 'ask2', 'ask3', \\\n",
    "                 'ask4', 'ask5'], inplace=True)\n",
    "df_test.drop(columns=['bid2', 'bid3', 'bid4', 'bid5', 'ask2', 'ask3', \\\n",
    "                 'ask4', 'ask5'], inplace=True)\n",
    "\n"
   ]
  },
  {
   "cell_type": "code",
   "execution_count": 73,
   "metadata": {},
   "outputs": [
    {
     "data": {
      "text/html": [
       "<div>\n",
       "<style scoped>\n",
       "    .dataframe tbody tr th:only-of-type {\n",
       "        vertical-align: middle;\n",
       "    }\n",
       "\n",
       "    .dataframe tbody tr th {\n",
       "        vertical-align: top;\n",
       "    }\n",
       "\n",
       "    .dataframe thead th {\n",
       "        text-align: right;\n",
       "    }\n",
       "</style>\n",
       "<table border=\"1\" class=\"dataframe\">\n",
       "  <thead>\n",
       "    <tr style=\"text-align: right;\">\n",
       "      <th></th>\n",
       "      <th>id</th>\n",
       "      <th>last_price</th>\n",
       "      <th>mid</th>\n",
       "      <th>transacted_qty</th>\n",
       "      <th>d_open_interest</th>\n",
       "      <th>bid1</th>\n",
       "      <th>ask1</th>\n",
       "      <th>bid1vol</th>\n",
       "      <th>bid2vol</th>\n",
       "      <th>bid3vol</th>\n",
       "      <th>bid4vol</th>\n",
       "      <th>bid5vol</th>\n",
       "      <th>ask1vol</th>\n",
       "      <th>ask2vol</th>\n",
       "      <th>ask3vol</th>\n",
       "      <th>ask4vol</th>\n",
       "      <th>ask5vol</th>\n",
       "      <th>y</th>\n",
       "    </tr>\n",
       "  </thead>\n",
       "  <tbody>\n",
       "    <tr>\n",
       "      <th>0</th>\n",
       "      <td>0</td>\n",
       "      <td>3842.4</td>\n",
       "      <td>3842.6</td>\n",
       "      <td>103.0</td>\n",
       "      <td>0</td>\n",
       "      <td>3842.4</td>\n",
       "      <td>3842.8</td>\n",
       "      <td>8</td>\n",
       "      <td>1</td>\n",
       "      <td>6</td>\n",
       "      <td>14</td>\n",
       "      <td>6</td>\n",
       "      <td>6</td>\n",
       "      <td>1</td>\n",
       "      <td>1</td>\n",
       "      <td>10</td>\n",
       "      <td>2</td>\n",
       "      <td>1</td>\n",
       "    </tr>\n",
       "    <tr>\n",
       "      <th>1</th>\n",
       "      <td>1</td>\n",
       "      <td>3842.8</td>\n",
       "      <td>3843.4</td>\n",
       "      <td>55.0</td>\n",
       "      <td>-43</td>\n",
       "      <td>3843.0</td>\n",
       "      <td>3843.8</td>\n",
       "      <td>7</td>\n",
       "      <td>6</td>\n",
       "      <td>11</td>\n",
       "      <td>1</td>\n",
       "      <td>6</td>\n",
       "      <td>1</td>\n",
       "      <td>4</td>\n",
       "      <td>4</td>\n",
       "      <td>1</td>\n",
       "      <td>13</td>\n",
       "      <td>0</td>\n",
       "    </tr>\n",
       "    <tr>\n",
       "      <th>2</th>\n",
       "      <td>2</td>\n",
       "      <td>3844.0</td>\n",
       "      <td>3844.3</td>\n",
       "      <td>84.0</td>\n",
       "      <td>-69</td>\n",
       "      <td>3843.8</td>\n",
       "      <td>3844.8</td>\n",
       "      <td>3</td>\n",
       "      <td>1</td>\n",
       "      <td>4</td>\n",
       "      <td>21</td>\n",
       "      <td>12</td>\n",
       "      <td>1</td>\n",
       "      <td>16</td>\n",
       "      <td>10</td>\n",
       "      <td>4</td>\n",
       "      <td>9</td>\n",
       "      <td>0</td>\n",
       "    </tr>\n",
       "    <tr>\n",
       "      <th>3</th>\n",
       "      <td>3</td>\n",
       "      <td>3843.8</td>\n",
       "      <td>3843.4</td>\n",
       "      <td>37.0</td>\n",
       "      <td>-30</td>\n",
       "      <td>3843.0</td>\n",
       "      <td>3843.8</td>\n",
       "      <td>10</td>\n",
       "      <td>13</td>\n",
       "      <td>12</td>\n",
       "      <td>2</td>\n",
       "      <td>4</td>\n",
       "      <td>2</td>\n",
       "      <td>7</td>\n",
       "      <td>1</td>\n",
       "      <td>2</td>\n",
       "      <td>11</td>\n",
       "      <td>1</td>\n",
       "    </tr>\n",
       "    <tr>\n",
       "      <th>4</th>\n",
       "      <td>4</td>\n",
       "      <td>3843.2</td>\n",
       "      <td>3843.1</td>\n",
       "      <td>41.0</td>\n",
       "      <td>-35</td>\n",
       "      <td>3842.8</td>\n",
       "      <td>3843.4</td>\n",
       "      <td>14</td>\n",
       "      <td>12</td>\n",
       "      <td>2</td>\n",
       "      <td>2</td>\n",
       "      <td>4</td>\n",
       "      <td>1</td>\n",
       "      <td>3</td>\n",
       "      <td>1</td>\n",
       "      <td>11</td>\n",
       "      <td>15</td>\n",
       "      <td>1</td>\n",
       "    </tr>\n",
       "  </tbody>\n",
       "</table>\n",
       "</div>"
      ],
      "text/plain": [
       "   id  last_price     mid  transacted_qty  d_open_interest    bid1    ask1  \\\n",
       "0   0      3842.4  3842.6           103.0                0  3842.4  3842.8   \n",
       "1   1      3842.8  3843.4            55.0              -43  3843.0  3843.8   \n",
       "2   2      3844.0  3844.3            84.0              -69  3843.8  3844.8   \n",
       "3   3      3843.8  3843.4            37.0              -30  3843.0  3843.8   \n",
       "4   4      3843.2  3843.1            41.0              -35  3842.8  3843.4   \n",
       "\n",
       "   bid1vol  bid2vol  bid3vol  bid4vol  bid5vol  ask1vol  ask2vol  ask3vol  \\\n",
       "0        8        1        6       14        6        6        1        1   \n",
       "1        7        6       11        1        6        1        4        4   \n",
       "2        3        1        4       21       12        1       16       10   \n",
       "3       10       13       12        2        4        2        7        1   \n",
       "4       14       12        2        2        4        1        3        1   \n",
       "\n",
       "   ask4vol  ask5vol  y  \n",
       "0       10        2  1  \n",
       "1        1       13  0  \n",
       "2        4        9  0  \n",
       "3        2       11  1  \n",
       "4       11       15  1  "
      ]
     },
     "execution_count": 73,
     "metadata": {},
     "output_type": "execute_result"
    }
   ],
   "source": [
    "df.head()"
   ]
  },
  {
   "cell_type": "markdown",
   "metadata": {},
   "source": [
    "# Separate data into X and y, Normalize "
   ]
  },
  {
   "cell_type": "code",
   "execution_count": 74,
   "metadata": {},
   "outputs": [],
   "source": [
    "# Separating into X and y training \n",
    "last_idx = len(df.columns) - 1\n",
    "X = df[df.columns[:-1]]\n",
    "#y_train = df[df.columns[last_idx]]\n",
    "y_train = df.y\n",
    "X = np.array(X)\n",
    "y_train = np.array(y_train)\n",
    "X_test = df_test\n",
    "X_test = np.array(X_test)\n",
    "\n",
    "# HANDLING IDs FOR TRAINING \n",
    "X_ids = X[:, 0]  # Vector of id's \n",
    "X = X[:, 1:]\n",
    "# HANDLING IDs for TEST\n",
    "X_test_ids = X_test[:, 0]\n",
    "X_test = X_test[:, 1:]\n",
    "\n",
    "# Normalize test set features using training set stats\n",
    "for j in range(0,len(X_test[0])):\n",
    "    X_std = np.std(X[:, j])\n",
    "    X_test[:, j] -= np.mean(X[:, j])\n",
    "    X_test[:, j] *= (1 / X_std)\n",
    "\n",
    "# Normalize training set features \n",
    "for j in range(0,len(X[0])):\n",
    "    X_std = np.std(X[:, j])\n",
    "    X[:, j] -= np.mean(X[:, j])\n",
    "    X[:, j] *= (1 / X_std)"
   ]
  },
  {
   "cell_type": "markdown",
   "metadata": {},
   "source": [
    "# Logistic Reg (no regularization)"
   ]
  },
  {
   "cell_type": "code",
   "execution_count": 75,
   "metadata": {},
   "outputs": [],
   "source": [
    "# Let's try logistic regression for different lambda = 0.00001,\n",
    "# 0.00005, 0.00025, 61, 035.15625\n",
    "lam = 0.0005 # Penalizing to take care of some strong correlation between features  \n",
    "# C is inverse of regularization strength \n",
    "\n",
    "#base = np.repeat(5, 5)\n",
    "#power = np.arange(0, 5)\n",
    "#lambdas = np.power(base, power)\n",
    "#final_lambdas = 0.00001 * lambdas\n",
    "\n",
    "# The C's (inv regularization strength) range from 1e-5 ... 1e5\n",
    "clf = LogisticRegressionCV(cv=5, random_state=0).fit(X, y_train)\n",
    "#clf = LogisticRegression(penalty='l2', C=(1/lam)).fit(X, y_trai )\n",
    "y_pred = clf.predict_proba(X)\n",
    "y_pred = y_pred[:,1]    # Grabbing probabililities of being in class 1\n",
    "\n",
    "\n",
    "# Predicting on test set \n",
    "y_pred_test = clf.predict_proba(X_test)\n",
    "y_pred_test = y_pred_test[:,1]  "
   ]
  },
  {
   "cell_type": "markdown",
   "metadata": {},
   "source": [
    "# Test AUC-ROC score "
   ]
  },
  {
   "cell_type": "code",
   "execution_count": 76,
   "metadata": {},
   "outputs": [
    {
     "name": "stdout",
     "output_type": "stream",
     "text": [
      "\n",
      "K-fold cross-validation results: \n",
      "LogisticRegressionCV average accuracy: 0.651 (+/-0.001)\n",
      "LogisticRegressionCV average log_loss: 0.628 (+/-0.002)\n",
      "LogisticRegressionCV average auc: 0.639 (+/-0.006)\n"
     ]
    }
   ],
   "source": [
    "scoring = {'accuracy': 'accuracy', 'log_loss': 'neg_log_loss', 'auc': 'roc_auc'}\n",
    "\n",
    "#clf_test = RandomForestClassifier(max_depth=5, min_samples_split=2, \n",
    "                                 # random_state=0, n_estimators=10, \n",
    "                                 # max_features='sqrt', criterion='gini')\n",
    "\n",
    "results = cross_validate(clf, X, y_train, cv=5, scoring=list(scoring.values()), \n",
    "                         return_train_score=False)\n",
    "    \n",
    "print('\\nK-fold cross-validation results: ')\n",
    "for sc in range(len(scoring)):\n",
    "    print(clf.__class__.__name__+\" average %s: %.3f (+/-%.3f)\" % (list(scoring.keys())[sc], -results['test_%s' % list(scoring.values())[sc]].mean()\n",
    "    if list(scoring.values())[sc]=='neg_log_loss' \n",
    "    else results['test_%s' % list(scoring.values())[sc]].mean(), \n",
    "        results['test_%s' % list(scoring.values())[sc]].std()))"
   ]
  },
  {
   "cell_type": "markdown",
   "metadata": {},
   "source": [
    "Best logistic regression model: no regularization, all columns except closed_position_qty\n",
    "and opened_position_qty, [ask2, ... ask5], [bid2, ... bid5] with 5-fold stratified \n",
    "cross-validation achieves a score of 0.60549. "
   ]
  },
  {
   "cell_type": "markdown",
   "metadata": {},
   "source": [
    "# Artificial Neural Network "
   ]
  },
  {
   "cell_type": "code",
   "execution_count": 1,
   "metadata": {},
   "outputs": [],
   "source": [
    "import pandas as pd"
   ]
  },
  {
   "cell_type": "markdown",
   "metadata": {},
   "source": [
    "# Preparing Dataset for ANN training "
   ]
  },
  {
   "cell_type": "code",
   "execution_count": 16,
   "metadata": {},
   "outputs": [],
   "source": [
    "df = pd.read_csv(\"data/train.csv\")\n",
    "df.columns = list(df.columns.values)\n",
    "df_test = pd.read_csv(\"data/test.csv\")\n",
    "df_test.columns = list(df_test.columns.values)"
   ]
  },
  {
   "cell_type": "code",
   "execution_count": 17,
   "metadata": {},
   "outputs": [],
   "source": [
    "df_test.columns = ['id', 'last_price', 'mid', 'opened_position_qty',\n",
    "       'closed_position_qty', 'transacted_qty', 'd_open_interest', 'bid1',\n",
    "       'bid2', 'bid3', 'bid4', 'bid5', 'ask1', 'ask2', 'ask3', 'ask4', 'ask5',\n",
    "       'bid1vol', 'bid2vol', 'bid3vol', 'bid4vol', 'bid5vol', 'ask1vol',\n",
    "       'ask2vol', 'ask3vol', 'ask4vol', 'ask5vol']\n",
    "df.columns = ['id', 'last_price', 'mid', 'opened_position_qty',\n",
    "       'closed_position_qty', 'transacted_qty', 'd_open_interest', 'bid1',\n",
    "       'bid2', 'bid3', 'bid4', 'bid5', 'ask1', 'ask2', 'ask3', 'ask4', 'ask5',\n",
    "       'bid1vol', 'bid2vol', 'bid3vol', 'bid4vol', 'bid5vol', 'ask1vol',\n",
    "       'ask2vol', 'ask3vol', 'ask4vol', 'ask5vol', 'y']"
   ]
  },
  {
   "cell_type": "markdown",
   "metadata": {},
   "source": [
    "# Non-stationary : "
   ]
  },
  {
   "cell_type": "code",
   "execution_count": 19,
   "metadata": {},
   "outputs": [
    {
     "data": {
      "text/plain": [
       "[<matplotlib.lines.Line2D at 0x7fd82cf0e5f8>]"
      ]
     },
     "execution_count": 19,
     "metadata": {},
     "output_type": "execute_result"
    },
    {
     "data": {
      "image/png": "[encoded data removed]",
      "text/plain": [
       "<Figure size 432x288 with 1 Axes>"
      ]
     },
     "metadata": {},
     "output_type": "display_data"
    }
   ],
   "source": [
    "fig = plt.figure()\n",
    "plt.title('Plotting last_price vs. time')\n",
    "plt.xlabel('Time')\n",
    "plt.ylabel('Last Price')\n",
    "plt.margins(y=0.02)\n",
    "\n",
    "plt.plot(df[\"id\"], df[\"last_price\"], marker = '.', linewidth = 1.5)"
   ]
  },
  {
   "cell_type": "code",
   "execution_count": 20,
   "metadata": {},
   "outputs": [
    {
     "data": {
      "text/plain": [
       "[<matplotlib.lines.Line2D at 0x7fd84b401ef0>]"
      ]
     },
     "execution_count": 20,
     "metadata": {},
     "output_type": "execute_result"
    },
    {
     "data": {
      "image/png": "[encoded data removed]",
      "text/plain": [
       "<Figure size 432x288 with 1 Axes>"
      ]
     },
     "metadata": {},
     "output_type": "display_data"
    }
   ],
   "source": [
    "fig = plt.figure()\n",
    "plt.title('Plotting last_price vs. time')\n",
    "plt.xlabel('Time')\n",
    "plt.ylabel('mid')\n",
    "plt.margins(y=0.02)\n",
    "\n",
    "plt.plot(df[\"id\"], df[\"last_price\"], marker = '.', linewidth = 1.5)"
   ]
  },
  {
   "cell_type": "markdown",
   "metadata": {},
   "source": [
    "In this limited dataset, it appears that mid price does not fluctuate about some mean with a constant variance (as a stationary time-series would), but rather showcases characteristics "
   ]
  },
  {
   "cell_type": "code",
   "execution_count": 8,
   "metadata": {},
   "outputs": [],
   "source": [
    "# Using Betty's preprocessing code and final features (from a day ago)\n",
    "# Filling NaN values \n",
    "nan_values = {'opened_position_qty': (df['transacted_qty'] + df['d_open_interest']) / 2 , \n",
    "              'closed_position_qty': (df['transacted_qty'] - df['d_open_interest']) / 2}\n",
    "\n",
    "nan_values_test = {'opened_position_qty': (df_test['transacted_qty'] + df_test['d_open_interest']) / 2 , \n",
    "              'closed_position_qty': (df_test['transacted_qty'] - df_test['d_open_interest']) / 2}\n",
    "\n",
    "df = df.fillna(value=nan_values)\n",
    "df_test = df_test.fillna(value=nan_values_test)\n",
    "\n",
    "\n",
    "\n",
    "\n",
    "# ADD (bid volumes / ask volumes) ratio  TO TRAIN AND TEST \n",
    "# indicator - ratio of all bid volumes to all ask volumes\n",
    "df_test = df_test.assign(bid_ask_ratio_all = \\\n",
    "                        lambda x: (x.bid1vol+x.bid2vol+x.bid3vol+x.bid4vol+x.bid5vol) / \\\n",
    "                                  (x.ask1vol+x.ask2vol+x.ask3vol+x.ask4vol+x.ask5vol))\n",
    "\n",
    "# indicator - ratio of all bid volumes to all ask volumes\n",
    "df = df.assign(bid_ask_ratio_all = \\\n",
    "                        lambda x: (x.bid1vol+x.bid2vol+x.bid3vol+x.bid4vol+x.bid5vol) / \\\n",
    "                                  (x.ask1vol+x.ask2vol+x.ask3vol+x.ask4vol+x.ask5vol))\n",
    "\n",
    "\n",
    "# Add (best bid volume / best ask volume) TO TRAIN AND TEST \n",
    "# indicator - ratio of best bid (bid1) volume to best ask (ask1) volume\n",
    "\n",
    "df_test = df_test.assign(bid_ask_ratio_best = lambda x: x.bid1vol / x.ask1vol)\n",
    "df = df.assign(bid_ask_ratio_best = lambda x: x.bid1vol / x.ask1vol)\n",
    "\n",
    "\n",
    "# indicator - difference between the price of most recent order and average of best bid and best ask (mid)\n",
    "df_test = df_test.assign(diff_price = lambda x: (x.last_price) - (x.mid))\n",
    "df = df.assign(diff_price = lambda x: (x.last_price) - (x.mid))\n",
    "\n",
    "# indicator - difference between best bid price and best ask price\n",
    "df_test = df_test.assign(diff_best_bid_ask = lambda x: (x.bid1) - (x.ask1))\n",
    "df = df.assign(diff_best_bid_ask = lambda x: (x.bid1) - (x.ask1))\n",
    "\n",
    "\n",
    "# Inserting additional indicators into train and test \n",
    "\n",
    "# 12 Features: Selected features: ['mid', 'transacted_qty', 'bid1vol', 'ask1vol', 'value', 'diff_price',\n",
    "# 'diff_best_bid_ask', 'openclosed', 'diff_bid_ask2', 'sm2', 'sm3', 'sm4']\n",
    "\n",
    "# open - closed \n",
    "df = df.assign(openclosed = lambda x: x.opened_position_qty - x.closed_position_qty)\n",
    "df_test = df_test.assign(openclosed = lambda x: x.opened_position_qty - x.closed_position_qty)\n",
    "\n",
    "# dif_bid_ask2\n",
    "df = df.assign(diff_bid_ask2 = lambda x: (x.bid1+ x.bid2) - (x.ask1+x.ask2))\n",
    "df_test = df_test.assign(diff_bid_ask2 = lambda x: (x.bid1+ x.bid2) - (x.ask1+x.ask2))\n",
    "\n",
    "# value\n",
    "df = df.assign(value = lambda x: x.bid1vol - x.ask1vol)\n",
    "df_test = df_test.assign(value = lambda x: x.bid1vol - x.ask1vol)\n",
    "\n",
    "\n",
    "# sm2, sm3, sm4\n",
    "df = df.assign(sm4 = lambda x: (x.bid1vol+ x.bid2vol+x.bid3vol+x.bid4vol) - (x.ask1vol+x.ask2vol+x.ask3vol+x.ask4vol))\n",
    "df = df.assign(sm3 = lambda x: (x.bid1vol+ x.bid2vol+x.bid3vol) - (x.ask1vol+x.ask2vol+x.ask3vol))\n",
    "df = df.assign(sm2 = lambda x: (x.bid1vol+ x.bid2vol) - (x.ask1vol+x.ask2vol))\n",
    "\n",
    "df_test = df_test.assign(sm4 = lambda x: (x.bid1vol+ x.bid2vol+x.bid3vol+x.bid4vol) - (x.ask1vol+x.ask2vol+x.ask3vol+x.ask4vol))\n",
    "df_test = df_test.assign(sm3 = lambda x: (x.bid1vol+ x.bid2vol+x.bid3vol) - (x.ask1vol+x.ask2vol+x.ask3vol))\n",
    "df_test = df_test.assign(sm2 = lambda x: (x.bid1vol+ x.bid2vol) - (x.ask1vol+x.ask2vol))\n",
    "\n",
    "\n",
    "cols1 = ['last_price', \n",
    "        'transacted_qty', 'd_open_interest', \n",
    "        'bid_ask_ratio_all', 'bid_ask_ratio_best', \n",
    "        'diff_price', 'diff_best_bid_ask']        # Option 1\n",
    "\n",
    "cols2 = ['mid', 'transacted_qty', 'bid1vol', 'ask1vol', 'value', 'diff_price',\n",
    " 'diff_best_bid_ask', 'openclosed', 'diff_bid_ask2', 'sm2', 'sm3', 'sm4']\n",
    "\n",
    "cols = cols2   # deciding which features to use \n",
    "\n",
    "X = np.asarray(df[cols])\n",
    "y_train = np.asarray(df['y'])\n",
    "\n",
    "X_test = np.asarray(df_test[cols])  # grabbing test set \n",
    "\n",
    "\n",
    "# Normalize test set features using training set stats\n",
    "for j in range(0,len(X_test[0])):\n",
    "    X_std = np.std(X[:, j])\n",
    "    X_test[:, j] -= np.mean(X[:, j])\n",
    "    X_test[:, j] *= (1 / X_std)\n",
    "\n",
    "# Normalize training set features \n",
    "for j in range(0,len(X[0])):\n",
    "    X_std = np.std(X[:, j])\n",
    "    X[:, j] -= np.mean(X[:, j])\n",
    "    X[:, j] *= (1 / X_std)\n",
    "\n",
    "# Adding indicators \n",
    "# indicator - ratio of all bid volumes to all ask volumes\n",
    "#df_ex = df.assign(bid_ask_ratio_all = \\\n",
    "                     #   lambda x: (x.bid1vol+x.bid2vol+x.bid3vol+x.bid4vol+x.bid5vol) / \\\n",
    "                       #           (x.ask1vol+x.ask2vol+x.ask3vol+x.ask4vol+x.ask5vol))\n",
    "# indicator - ratio of best bid (bid1) volume to best ask (bid2) volume\n",
    "#df_ex = df_ex.assign(bid_ask_ratio_best = lambda x: x.bid1vol / x.ask1vol)\n",
    "\n",
    "# indicator - difference between the price of most recent order and average of best bid and best ask (mid)\n",
    "#df_ex = df_ex.assign(diff_price = lambda x: (x.last_price) - (x.mid))\n",
    "\n",
    "# indicator - difference between best bid price and best ask price\n",
    "#df_ex = df_ex.assign(diff_best_bid_ask = lambda x: (x.bid1) - (x.ask1))\n",
    "#cols = ['last_price', \n",
    "    #    'transacted_qty', 'd_open_interest', \n",
    "     #   'bid_ask_ratio_all', 'bid_ask_ratio_best', \n",
    "      #  'diff_price', 'diff_best_bid_ask']\n",
    "\n",
    "#X = np.asarray(df_ex[cols])\n",
    "#y_train = np.asarray(df_ex['y'])"
   ]
  },
  {
   "cell_type": "code",
   "execution_count": 9,
   "metadata": {},
   "outputs": [
    {
     "data": {
      "text/plain": [
       "id                     False\n",
       "last_price             False\n",
       "mid                    False\n",
       "opened_position_qty    False\n",
       "closed_position_qty    False\n",
       "transacted_qty         False\n",
       "d_open_interest        False\n",
       "bid1                   False\n",
       "bid2                   False\n",
       "bid3                   False\n",
       "bid4                   False\n",
       "bid5                   False\n",
       "ask1                   False\n",
       "ask2                   False\n",
       "ask3                   False\n",
       "ask4                   False\n",
       "ask5                   False\n",
       "bid1vol                False\n",
       "bid2vol                False\n",
       "bid3vol                False\n",
       "bid4vol                False\n",
       "bid5vol                False\n",
       "ask1vol                False\n",
       "ask2vol                False\n",
       "ask3vol                False\n",
       "ask4vol                False\n",
       "ask5vol                False\n",
       "bid_ask_ratio_all      False\n",
       "bid_ask_ratio_best     False\n",
       "diff_price             False\n",
       "diff_best_bid_ask      False\n",
       "openclosed             False\n",
       "diff_bid_ask2          False\n",
       "value                  False\n",
       "sm4                    False\n",
       "sm3                    False\n",
       "sm2                    False\n",
       "dtype: bool"
      ]
     },
     "execution_count": 9,
     "metadata": {},
     "output_type": "execute_result"
    }
   ],
   "source": [
    "# Try decorrelating the data (apply some transformation to make data stationary \n",
    "# time series)\n",
    "df_test.isna().any()"
   ]
  },
  {
   "cell_type": "code",
   "execution_count": 11,
   "metadata": {},
   "outputs": [
    {
     "name": "stderr",
     "output_type": "stream",
     "text": [
      "/anaconda3/lib/python3.6/site-packages/h5py/__init__.py:36: FutureWarning: Conversion of the second argument of issubdtype from `float` to `np.floating` is deprecated. In future, it will be treated as `np.float64 == np.dtype(float).type`.\n",
      "  from ._conv import register_converters as _register_converters\n",
      "Using TensorFlow backend.\n"
     ]
    }
   ],
   "source": [
    "import keras\n",
    "from keras.models import Sequential\n",
    "from keras.layers import Dense\n",
    "from keras.layers import Dropout\n",
    "from sklearn.model_selection import GridSearchCV \n",
    "from keras.wrappers.scikit_learn import KerasClassifier "
   ]
  },
  {
   "cell_type": "code",
   "execution_count": 27,
   "metadata": {},
   "outputs": [],
   "source": [
    "model = Sequential()\n",
    "model.add(Dense(7,input_dim=12, activation='relu'))# Input layer, size (,7)\n",
    "model.add(Dropout(0.18))\n",
    "model.add(Dense(7, activation='relu'))\n",
    "model.add(Dropout(0.18))\n",
    "model.add(Dense(1, activation='sigmoid'))  # Output probability of midprice \n",
    "                                           # going up. \n",
    "    \n",
    "model.compile(optimizer='adam', loss='binary_crossentropy', \\\n",
    "             metrics=['accuracy'])"
   ]
  },
  {
   "cell_type": "code",
   "execution_count": 28,
   "metadata": {},
   "outputs": [
    {
     "name": "stdout",
     "output_type": "stream",
     "text": [
      "Epoch 1/10\n",
      "592380/592380 [==============================] - 8s 13us/step - loss: 0.6302 - acc: 0.6430\n",
      "Epoch 2/10\n",
      "592380/592380 [==============================] - 8s 14us/step - loss: 0.6234 - acc: 0.6434\n",
      "Epoch 3/10\n",
      "592380/592380 [==============================] - 9s 14us/step - loss: 0.6227 - acc: 0.6477\n",
      "Epoch 4/10\n",
      "592380/592380 [==============================] - 9s 14us/step - loss: 0.6224 - acc: 0.6518\n",
      "Epoch 5/10\n",
      "592380/592380 [==============================] - 9s 15us/step - loss: 0.6224 - acc: 0.6514\n",
      "Epoch 6/10\n",
      "592380/592380 [==============================] - 9s 15us/step - loss: 0.6223 - acc: 0.6543\n",
      "Epoch 7/10\n",
      "592380/592380 [==============================] - 9s 15us/step - loss: 0.6225 - acc: 0.6521\n",
      "Epoch 8/10\n",
      "592380/592380 [==============================] - 9s 15us/step - loss: 0.6222 - acc: 0.6556\n",
      "Epoch 9/10\n",
      "592380/592380 [==============================] - 9s 15us/step - loss: 0.6224 - acc: 0.6547\n",
      "Epoch 10/10\n",
      "592380/592380 [==============================] - 9s 15us/step - loss: 0.6226 - acc: 0.6521\n"
     ]
    }
   ],
   "source": [
    "model.fit(X, y_train, epochs=10, batch_size=64)\n",
    "y_pred = model.predict(X_test)"
   ]
  },
  {
   "cell_type": "code",
   "execution_count": 51,
   "metadata": {},
   "outputs": [],
   "source": [
    "y_pred_train = model.predict(X)"
   ]
  },
  {
   "cell_type": "code",
   "execution_count": 12,
   "metadata": {},
   "outputs": [
    {
     "name": "stdout",
     "output_type": "stream",
     "text": [
      "Epoch 1/1\n",
      "533142/533142 [==============================] - 7s 13us/step - loss: 0.6249 - acc: 0.6521\n",
      "Epoch 1/1\n",
      "533142/533142 [==============================] - 7s 13us/step - loss: 0.6316 - acc: 0.6406\n",
      "Epoch 1/1\n",
      "533142/533142 [==============================] - 7s 14us/step - loss: 0.6264 - acc: 0.6526\n",
      "Epoch 1/1\n",
      "533142/533142 [==============================] - 8s 14us/step - loss: 0.6281 - acc: 0.6506\n",
      "Epoch 1/1\n",
      "533142/533142 [==============================] - 8s 15us/step - loss: 0.6273 - acc: 0.6512\n",
      "Epoch 1/1\n",
      "533142/533142 [==============================] - 8s 15us/step - loss: 0.6293 - acc: 0.6509\n",
      "Epoch 1/1\n",
      "533142/533142 [==============================] - 8s 15us/step - loss: 0.6266 - acc: 0.6500\n",
      "Epoch 1/1\n",
      "533142/533142 [==============================] - 8s 16us/step - loss: 0.6269 - acc: 0.6495\n",
      "Epoch 1/1\n",
      "533142/533142 [==============================] - 8s 16us/step - loss: 0.6265 - acc: 0.6528\n",
      "Epoch 1/1\n",
      "533142/533142 [==============================] - 8s 16us/step - loss: 0.6226 - acc: 0.6559\n",
      "Epoch 1/1\n",
      "533142/533142 [==============================] - 9s 16us/step - loss: 0.6255 - acc: 0.6526\n",
      "Epoch 1/1\n",
      "533142/533142 [==============================] - 9s 16us/step - loss: 0.6288 - acc: 0.6519\n",
      "Epoch 1/1\n",
      "533142/533142 [==============================] - 9s 17us/step - loss: 0.6288 - acc: 0.6471\n",
      "Epoch 1/1\n",
      "533142/533142 [==============================] - 9s 17us/step - loss: 0.6286 - acc: 0.6496\n",
      "Epoch 1/1\n",
      "533142/533142 [==============================] - 9s 17us/step - loss: 0.6297 - acc: 0.6493\n",
      "Epoch 1/1\n",
      "533142/533142 [==============================] - 9s 17us/step - loss: 0.6241 - acc: 0.6542\n",
      "Epoch 1/1\n",
      "533142/533142 [==============================] - 10s 18us/step - loss: 0.6259 - acc: 0.6517\n",
      "Epoch 1/1\n",
      "533142/533142 [==============================] - 9s 18us/step - loss: 0.6277 - acc: 0.6501\n",
      "Epoch 1/1\n",
      "533142/533142 [==============================] - 10s 18us/step - loss: 0.6279 - acc: 0.6497\n",
      "Epoch 1/1\n",
      "533142/533142 [==============================] - 10s 19us/step - loss: 0.6307 - acc: 0.6497\n",
      "Epoch 1/1\n",
      "533142/533142 [==============================] - 11s 20us/step - loss: 0.6250 - acc: 0.6514\n",
      "Epoch 1/1\n",
      "533142/533142 [==============================] - 11s 20us/step - loss: 0.6298 - acc: 0.6422\n",
      "Epoch 1/1\n",
      "533142/533142 [==============================] - 10s 19us/step - loss: 0.6282 - acc: 0.6511\n",
      "Epoch 1/1\n",
      "533142/533142 [==============================] - 11s 21us/step - loss: 0.6297 - acc: 0.6479\n",
      "Epoch 1/1\n",
      "533142/533142 [==============================] - 11s 21us/step - loss: 0.6291 - acc: 0.6430\n",
      "Epoch 1/1\n",
      "533142/533142 [==============================] - 11s 20us/step - loss: 0.6245 - acc: 0.6542\n",
      "Epoch 1/1\n",
      "533142/533142 [==============================] - 11s 21us/step - loss: 0.6288 - acc: 0.6468\n",
      "Epoch 1/1\n",
      "533142/533142 [==============================] - 11s 21us/step - loss: 0.6296 - acc: 0.6510\n",
      "Epoch 1/1\n",
      "533142/533142 [==============================] - 11s 20us/step - loss: 0.6238 - acc: 0.6547\n",
      "Epoch 1/1\n",
      "533142/533142 [==============================] - 12s 22us/step - loss: 0.6274 - acc: 0.6510\n",
      "Epoch 1/1\n",
      "592380/592380 [==============================] - 13s 22us/step - loss: 0.6268 - acc: 0.6519\n"
     ]
    }
   ],
   "source": [
    "# Let's try some gridsearch \n",
    "def build_model(optimizer):\n",
    "    model = Sequential()\n",
    "    model.add(Dense(7,input_dim=12, activation='relu'))# Input layer, size (,7)\n",
    "    model.add(Dropout(0.1))\n",
    "    model.add(Dense(5, activation='relu'))\n",
    "    model.add(Dropout(0.1))\n",
    "    model.add(Dense(1, activation='sigmoid'))  # Output probability of midprice \n",
    "                                           # going up.\n",
    "    model.compile(optimizer='adam', loss='binary_crossentropy', \\\n",
    "             metrics=['accuracy'])\n",
    "    return model \n",
    "model = KerasClassifier(build_fn = build_model)\n",
    "parameters = {'batch_size': [64], \n",
    "             'nb_epoch':[10],\n",
    "                 'optimizer': ['adam', 'rmsprop', 'Adagrad']}\n",
    "grid_search = GridSearchCV(estimator=model, param_grid=parameters,\n",
    "                          scoring='accuracy', cv=10)\n",
    "grid_search = grid_search.fit(X, y_train)\n",
    "best_params = grid_search.best_params_\n",
    "best_accuracy = grid_search.best_score_"
   ]
  },
  {
   "cell_type": "code",
   "execution_count": 33,
   "metadata": {},
   "outputs": [
    {
     "data": {
      "text/plain": [
       "{'batch_size': 64, 'nb_epoch': 10, 'optimizer': 'Adagrad'}"
      ]
     },
     "execution_count": 33,
     "metadata": {},
     "output_type": "execute_result"
    }
   ],
   "source": [
    "best_params"
   ]
  },
  {
   "cell_type": "code",
   "execution_count": 34,
   "metadata": {},
   "outputs": [
    {
     "data": {
      "text/plain": [
       "0.6590161720517236"
      ]
     },
     "execution_count": 34,
     "metadata": {},
     "output_type": "execute_result"
    }
   ],
   "source": [
    "best_accuracy"
   ]
  },
  {
   "cell_type": "code",
   "execution_count": 37,
   "metadata": {},
   "outputs": [],
   "source": [
    "# Let's shuffle the training data to try to mimic shuffling in test \n",
    "# and avoid pushing the ANN weights in one direction \n",
    "idx = np.arange(0, len(X))\n",
    "perm_idx = np.random.permutation(idx)\n",
    "X = X[perm_idx]\n",
    "y_train = y_train[perm_idx]"
   ]
  },
  {
   "cell_type": "code",
   "execution_count": 39,
   "metadata": {},
   "outputs": [
    {
     "data": {
      "text/plain": [
       "array([158225, 529544, 324274, ...,   7607, 297583, 509218])"
      ]
     },
     "execution_count": 39,
     "metadata": {},
     "output_type": "execute_result"
    }
   ],
   "source": [
    "perm_idx"
   ]
  },
  {
   "cell_type": "code",
   "execution_count": 8,
   "metadata": {},
   "outputs": [
    {
     "name": "stdout",
     "output_type": "stream",
     "text": [
      "Epoch 1/10\n",
      "592380/592380 [==============================] - 6s 11us/step - loss: 0.6357 - acc: 0.6418\n",
      "Epoch 2/10\n",
      "592380/592380 [==============================] - 6s 10us/step - loss: 0.6310 - acc: 0.6449\n",
      "Epoch 3/10\n",
      "592380/592380 [==============================] - 6s 11us/step - loss: 0.6297 - acc: 0.6459\n",
      "Epoch 4/10\n",
      "592380/592380 [==============================] - 6s 11us/step - loss: 0.6287 - acc: 0.6469\n",
      "Epoch 5/10\n",
      "592380/592380 [==============================] - 7s 11us/step - loss: 0.6284 - acc: 0.6471\n",
      "Epoch 6/10\n",
      "592380/592380 [==============================] - 7s 11us/step - loss: 0.6281 - acc: 0.6475\n",
      "Epoch 7/10\n",
      "592380/592380 [==============================] - 7s 12us/step - loss: 0.6276 - acc: 0.6478\n",
      "Epoch 8/10\n",
      "592380/592380 [==============================] - 7s 12us/step - loss: 0.6275 - acc: 0.6476\n",
      "Epoch 9/10\n",
      "592380/592380 [==============================] - 7s 12us/step - loss: 0.6271 - acc: 0.6496\n",
      "Epoch 10/10\n",
      "592380/592380 [==============================] - 7s 12us/step - loss: 0.6271 - acc: 0.6491\n"
     ]
    }
   ],
   "source": [
    "model = Sequential()\n",
    "model.add(Dense(7,input_dim=12, activation='relu'))# Input layer, size (,7)\n",
    "model.add(Dropout(0.2))\n",
    "model.add(Dense(7, activation='relu'))\n",
    "model.add(Dropout(0.2))\n",
    "model.add(Dense(1, activation='sigmoid'))  # Output probability of midprice \n",
    "                                           # going up. \n",
    "    \n",
    "model.compile(optimizer='Adagrad', loss='binary_crossentropy', \\\n",
    "             metrics=['accuracy'])\n",
    "model.fit(X, y_train, epochs=10, batch_size=64, shuffle=True)\n",
    "y_pred = model.predict(X_test)"
   ]
  },
  {
   "cell_type": "code",
   "execution_count": 10,
   "metadata": {},
   "outputs": [],
   "source": [
    "y_train_pred = model.predict(X)"
   ]
  },
  {
   "cell_type": "markdown",
   "metadata": {},
   "source": [
    "# Outputting Results to CSV"
   ]
  },
  {
   "cell_type": "code",
   "execution_count": 12,
   "metadata": {},
   "outputs": [
    {
     "data": {
      "text/plain": [
       "0.6488576302915351"
      ]
     },
     "execution_count": 12,
     "metadata": {},
     "output_type": "execute_result"
    }
   ],
   "source": [
    "#y_pred[:10]\n",
    "roc_auc_score(y_train, y_train_pred)"
   ]
  },
  {
   "cell_type": "code",
   "execution_count": 13,
   "metadata": {},
   "outputs": [],
   "source": [
    "# fix output format\n",
    "X_test_ids = list(df_test['id'].astype(int))\n",
    "#X_test_ids = df['id'].astype(int)\n",
    "y_pred_flat = np.ndarray.flatten(y_pred)\n",
    "predictions = {'id': X_test_ids, 'Predicted': y_pred_flat}\n",
    "df_output = pd.DataFrame(predictions, columns=['id', 'Predicted'])\n",
    "df_output.set_index('id')\n",
    "df_output.to_csv('ANN_dropout_3.csv', index=None)"
   ]
  },
  {
   "cell_type": "code",
   "execution_count": 37,
   "metadata": {},
   "outputs": [],
   "source": [
    "cols = ['id', 'Predicted']\n",
    "df_output = df_output[cols]"
   ]
  },
  {
   "cell_type": "code",
   "execution_count": 30,
   "metadata": {},
   "outputs": [
    {
     "data": {
      "text/plain": [
       "array([0.67061865, 0.61808383, 0.48727542, ..., 0.65179896, 0.621622  ,\n",
       "       0.66336346], dtype=float32)"
      ]
     },
     "execution_count": 30,
     "metadata": {},
     "output_type": "execute_result"
    }
   ],
   "source": [
    "np.ndarray.flatten(y_pred)"
   ]
  },
  {
   "cell_type": "code",
   "execution_count": 14,
   "metadata": {},
   "outputs": [
    {
     "data": {
      "text/html": [
       "<div>\n",
       "<style scoped>\n",
       "    .dataframe tbody tr th:only-of-type {\n",
       "        vertical-align: middle;\n",
       "    }\n",
       "\n",
       "    .dataframe tbody tr th {\n",
       "        vertical-align: top;\n",
       "    }\n",
       "\n",
       "    .dataframe thead th {\n",
       "        text-align: right;\n",
       "    }\n",
       "</style>\n",
       "<table border=\"1\" class=\"dataframe\">\n",
       "  <thead>\n",
       "    <tr style=\"text-align: right;\">\n",
       "      <th></th>\n",
       "      <th>id</th>\n",
       "      <th>Predicted</th>\n",
       "    </tr>\n",
       "  </thead>\n",
       "  <tbody>\n",
       "    <tr>\n",
       "      <th>0</th>\n",
       "      <td>592380</td>\n",
       "      <td>0.476167</td>\n",
       "    </tr>\n",
       "    <tr>\n",
       "      <th>1</th>\n",
       "      <td>592381</td>\n",
       "      <td>0.324176</td>\n",
       "    </tr>\n",
       "    <tr>\n",
       "      <th>2</th>\n",
       "      <td>592382</td>\n",
       "      <td>0.344855</td>\n",
       "    </tr>\n",
       "    <tr>\n",
       "      <th>3</th>\n",
       "      <td>592383</td>\n",
       "      <td>0.476167</td>\n",
       "    </tr>\n",
       "    <tr>\n",
       "      <th>4</th>\n",
       "      <td>592384</td>\n",
       "      <td>0.405700</td>\n",
       "    </tr>\n",
       "  </tbody>\n",
       "</table>\n",
       "</div>"
      ],
      "text/plain": [
       "       id  Predicted\n",
       "0  592380   0.476167\n",
       "1  592381   0.324176\n",
       "2  592382   0.344855\n",
       "3  592383   0.476167\n",
       "4  592384   0.405700"
      ]
     },
     "execution_count": 14,
     "metadata": {},
     "output_type": "execute_result"
    }
   ],
   "source": [
    "df_output.head()"
   ]
  },
  {
   "cell_type": "code",
   "execution_count": 44,
   "metadata": {},
   "outputs": [],
   "source": [
    "X_test_ids = list(df_test['id'])"
   ]
  },
  {
   "cell_type": "code",
   "execution_count": 46,
   "metadata": {},
   "outputs": [
    {
     "data": {
      "text/plain": [
       "[592380,\n",
       " 592381,\n",
       " 592382,\n",
       " 592383,\n",
       " 592384,\n",
       " 592385,\n",
       " 592386,\n",
       " 592387,\n",
       " 592388,\n",
       " 592389]"
      ]
     },
     "execution_count": 46,
     "metadata": {},
     "output_type": "execute_result"
    }
   ],
   "source": [
    "X_test_ids[:10]"
   ]
  },
  {
   "cell_type": "code",
   "execution_count": 15,
   "metadata": {},
   "outputs": [
    {
     "data": {
      "text/plain": [
       "'1\\t12345'"
      ]
     },
     "execution_count": 15,
     "metadata": {},
     "output_type": "execute_result"
    }
   ],
   "source": [
    "test = '12345'\n",
    "\"{0}\\t{1}\".format(1, test)"
   ]
  },
  {
   "cell_type": "code",
   "execution_count": 21,
   "metadata": {},
   "outputs": [],
   "source": [
    "a = None\n",
    "b = ''\n",
    "if a == b:\n",
    "    print(\"hi\")"
   ]
  },
  {
   "cell_type": "code",
   "execution_count": null,
   "metadata": {},
   "outputs": [],
   "source": []
  }
 ],
 "metadata": {
  "kernelspec": {
   "display_name": "Python 3",
   "language": "python",
   "name": "python3"
  },
  "language_info": {
   "codemirror_mode": {
    "name": "ipython",
    "version": 3
   },
   "file_extension": ".py",
   "mimetype": "text/x-python",
   "name": "python",
   "nbconvert_exporter": "python",
   "pygments_lexer": "ipython3",
   "version": "3.6.7"
  }
 },
 "nbformat": 4,
 "nbformat_minor": 2
}

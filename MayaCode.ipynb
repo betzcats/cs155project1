{
 "cells": [
  {
   "cell_type": "markdown",
   "metadata": {},
   "source": [
    "# Logistic Regression to aid in Feature Selection "
   ]
  },
  {
   "cell_type": "code",
   "execution_count": 383,
   "metadata": {},
   "outputs": [],
   "source": [
    "import pandas as pd\n",
    "import matplotlib.pyplot as plt\n",
    "import seaborn as sns\n",
    "from sklearn import preprocessing\n",
    "from sklearn.linear_model import LogisticRegression\n",
    "import numpy as np\n",
    "from sklearn.linear_model import LogisticRegressionCV\n",
    "from sklearn.metrics import roc_auc_score\n",
    "\n",
    "\n",
    "from sklearn.ensemble import RandomForestClassifier\n",
    "from sklearn.datasets import make_classification\n",
    "from sklearn.metrics import roc_curve, auc\n",
    "from sklearn.model_selection import cross_validate\n",
    "\n",
    "\n",
    "# Neural Network \n",
    "from sklearn.feature_selection import RFECV    # for feature selection "
   ]
  },
  {
   "cell_type": "code",
   "execution_count": 377,
   "metadata": {},
   "outputs": [],
   "source": [
    "# LOADING IN TRAINING DATA \n",
    "df = pd.read_csv(\"data/train.csv\")\n",
    "# Note that y contains binary label indicating if mid_price goes up \n",
    "# in next timestep (y = 1) or not (0). Output probability of mid_price\n",
    "# going up. \n",
    "df.columns = list(df.columns.values)\n",
    "df_test = pd.read_csv(\"data/test.csv\")\n",
    "df_test.columns = list(df_test.columns.values)"
   ]
  },
  {
   "cell_type": "code",
   "execution_count": 378,
   "metadata": {},
   "outputs": [],
   "source": [
    "# Let's add the following indicators to the train/ test set and see how far we can\n",
    "# push logistic regression. \n",
    "\n",
    "\n",
    "# ADD (bid volumes / ask volumes) ratio  TO TRAIN AND TEST \n",
    "# indicator - ratio of all bid volumes to all ask volumes\n",
    "df_test = df_test.assign(bid_ask_ratio_all = \\\n",
    "                        lambda x: (x.bid1vol+x.bid2vol+x.bid3vol+x.bid4vol+x.bid5vol) / \\\n",
    "                                  (x.ask1vol+x.ask2vol+x.ask3vol+x.ask4vol+x.ask5vol))\n",
    "\n",
    "# indicator - ratio of all bid volumes to all ask volumes\n",
    "df = df.assign(bid_ask_ratio_all = \\\n",
    "                        lambda x: (x.bid1vol+x.bid2vol+x.bid3vol+x.bid4vol+x.bid5vol) / \\\n",
    "                                  (x.ask1vol+x.ask2vol+x.ask3vol+x.ask4vol+x.ask5vol))\n",
    "\n",
    "\n",
    "# Add (best bid volume / best ask volume) TO TRAIN AND TEST \n",
    "# indicator - ratio of best bid (bid1) volume to best ask (ask1) volume\n",
    "df_test = df_test.assign(bid_ask_ratio_best = lambda x: x.bid1vol / x.ask1vol)\n",
    "df = df.assign(bid_ask_ratio_best = lambda x: x.bid1vol / x.ask1vol)\n",
    "\n",
    "\n",
    "# indicator - difference between the price of most recent order and average of best bid and best ask (mid)\n",
    "df_test = df_test.assign(diff_price = lambda x: (x.last_price) - (x.mid))\n",
    "df = df.assign(diff_price = lambda x: (x.last_price) - (x.mid))\n",
    "\n",
    "# indicator - difference between best bid price and best ask price\n",
    "df_test = df_test.assign(diff_best_bid_ask = lambda x: (x.bid1) - (x.ask1))\n",
    "df = df.assign(diff_best_bid_ask = lambda x: (x.bid1) - (x.ask1))"
   ]
  },
  {
   "cell_type": "code",
   "execution_count": 379,
   "metadata": {},
   "outputs": [
    {
     "data": {
      "text/html": [
       "<div>\n",
       "<style scoped>\n",
       "    .dataframe tbody tr th:only-of-type {\n",
       "        vertical-align: middle;\n",
       "    }\n",
       "\n",
       "    .dataframe tbody tr th {\n",
       "        vertical-align: top;\n",
       "    }\n",
       "\n",
       "    .dataframe thead th {\n",
       "        text-align: right;\n",
       "    }\n",
       "</style>\n",
       "<table border=\"1\" class=\"dataframe\">\n",
       "  <thead>\n",
       "    <tr style=\"text-align: right;\">\n",
       "      <th></th>\n",
       "      <th>id</th>\n",
       "      <th>last_price</th>\n",
       "      <th>mid</th>\n",
       "      <th>opened_position_qty</th>\n",
       "      <th>closed_position_qty</th>\n",
       "      <th>transacted_qty</th>\n",
       "      <th>d_open_interest</th>\n",
       "      <th>bid1</th>\n",
       "      <th>bid2</th>\n",
       "      <th>bid3</th>\n",
       "      <th>...</th>\n",
       "      <th>ask1vol</th>\n",
       "      <th>ask2vol</th>\n",
       "      <th>ask3vol</th>\n",
       "      <th>ask4vol</th>\n",
       "      <th>ask5vol</th>\n",
       "      <th>y</th>\n",
       "      <th>bid_ask_ratio_all</th>\n",
       "      <th>bid_ask_ratio_best</th>\n",
       "      <th>diff_price</th>\n",
       "      <th>diff_best_bid_ask</th>\n",
       "    </tr>\n",
       "  </thead>\n",
       "  <tbody>\n",
       "    <tr>\n",
       "      <th>0</th>\n",
       "      <td>0</td>\n",
       "      <td>3842.4</td>\n",
       "      <td>3842.6</td>\n",
       "      <td>NaN</td>\n",
       "      <td>NaN</td>\n",
       "      <td>103.0</td>\n",
       "      <td>0</td>\n",
       "      <td>3842.4</td>\n",
       "      <td>3842.0</td>\n",
       "      <td>3841.8</td>\n",
       "      <td>...</td>\n",
       "      <td>6</td>\n",
       "      <td>1</td>\n",
       "      <td>1</td>\n",
       "      <td>10</td>\n",
       "      <td>2</td>\n",
       "      <td>1</td>\n",
       "      <td>1.750000</td>\n",
       "      <td>1.333333</td>\n",
       "      <td>-0.2</td>\n",
       "      <td>-0.4</td>\n",
       "    </tr>\n",
       "    <tr>\n",
       "      <th>1</th>\n",
       "      <td>1</td>\n",
       "      <td>3842.8</td>\n",
       "      <td>3843.4</td>\n",
       "      <td>6.0</td>\n",
       "      <td>49.0</td>\n",
       "      <td>55.0</td>\n",
       "      <td>-43</td>\n",
       "      <td>3843.0</td>\n",
       "      <td>3842.8</td>\n",
       "      <td>3842.4</td>\n",
       "      <td>...</td>\n",
       "      <td>1</td>\n",
       "      <td>4</td>\n",
       "      <td>4</td>\n",
       "      <td>1</td>\n",
       "      <td>13</td>\n",
       "      <td>0</td>\n",
       "      <td>1.347826</td>\n",
       "      <td>7.000000</td>\n",
       "      <td>-0.6</td>\n",
       "      <td>-0.8</td>\n",
       "    </tr>\n",
       "    <tr>\n",
       "      <th>2</th>\n",
       "      <td>2</td>\n",
       "      <td>3844.0</td>\n",
       "      <td>3844.3</td>\n",
       "      <td>7.0</td>\n",
       "      <td>77.0</td>\n",
       "      <td>84.0</td>\n",
       "      <td>-69</td>\n",
       "      <td>3843.8</td>\n",
       "      <td>3843.6</td>\n",
       "      <td>3843.2</td>\n",
       "      <td>...</td>\n",
       "      <td>1</td>\n",
       "      <td>16</td>\n",
       "      <td>10</td>\n",
       "      <td>4</td>\n",
       "      <td>9</td>\n",
       "      <td>0</td>\n",
       "      <td>1.025000</td>\n",
       "      <td>3.000000</td>\n",
       "      <td>-0.3</td>\n",
       "      <td>-1.0</td>\n",
       "    </tr>\n",
       "    <tr>\n",
       "      <th>3</th>\n",
       "      <td>3</td>\n",
       "      <td>3843.8</td>\n",
       "      <td>3843.4</td>\n",
       "      <td>3.0</td>\n",
       "      <td>34.0</td>\n",
       "      <td>37.0</td>\n",
       "      <td>-30</td>\n",
       "      <td>3843.0</td>\n",
       "      <td>3842.8</td>\n",
       "      <td>3842.4</td>\n",
       "      <td>...</td>\n",
       "      <td>2</td>\n",
       "      <td>7</td>\n",
       "      <td>1</td>\n",
       "      <td>2</td>\n",
       "      <td>11</td>\n",
       "      <td>1</td>\n",
       "      <td>1.782609</td>\n",
       "      <td>5.000000</td>\n",
       "      <td>0.4</td>\n",
       "      <td>-0.8</td>\n",
       "    </tr>\n",
       "    <tr>\n",
       "      <th>4</th>\n",
       "      <td>4</td>\n",
       "      <td>3843.2</td>\n",
       "      <td>3843.1</td>\n",
       "      <td>3.0</td>\n",
       "      <td>38.0</td>\n",
       "      <td>41.0</td>\n",
       "      <td>-35</td>\n",
       "      <td>3842.8</td>\n",
       "      <td>3842.4</td>\n",
       "      <td>3842.0</td>\n",
       "      <td>...</td>\n",
       "      <td>1</td>\n",
       "      <td>3</td>\n",
       "      <td>1</td>\n",
       "      <td>11</td>\n",
       "      <td>15</td>\n",
       "      <td>1</td>\n",
       "      <td>1.096774</td>\n",
       "      <td>14.000000</td>\n",
       "      <td>0.1</td>\n",
       "      <td>-0.6</td>\n",
       "    </tr>\n",
       "  </tbody>\n",
       "</table>\n",
       "<p>5 rows × 32 columns</p>\n",
       "</div>"
      ],
      "text/plain": [
       "   id  last_price     mid  opened_position_qty   closed_position_qty  \\\n",
       "0   0      3842.4  3842.6                   NaN                  NaN   \n",
       "1   1      3842.8  3843.4                   6.0                 49.0   \n",
       "2   2      3844.0  3844.3                   7.0                 77.0   \n",
       "3   3      3843.8  3843.4                   3.0                 34.0   \n",
       "4   4      3843.2  3843.1                   3.0                 38.0   \n",
       "\n",
       "   transacted_qty  d_open_interest    bid1    bid2    bid3        ...          \\\n",
       "0           103.0                0  3842.4  3842.0  3841.8        ...           \n",
       "1            55.0              -43  3843.0  3842.8  3842.4        ...           \n",
       "2            84.0              -69  3843.8  3843.6  3843.2        ...           \n",
       "3            37.0              -30  3843.0  3842.8  3842.4        ...           \n",
       "4            41.0              -35  3842.8  3842.4  3842.0        ...           \n",
       "\n",
       "   ask1vol  ask2vol  ask3vol  ask4vol  ask5vol  y  bid_ask_ratio_all  \\\n",
       "0        6        1        1       10        2  1           1.750000   \n",
       "1        1        4        4        1       13  0           1.347826   \n",
       "2        1       16       10        4        9  0           1.025000   \n",
       "3        2        7        1        2       11  1           1.782609   \n",
       "4        1        3        1       11       15  1           1.096774   \n",
       "\n",
       "   bid_ask_ratio_best  diff_price  diff_best_bid_ask  \n",
       "0            1.333333        -0.2               -0.4  \n",
       "1            7.000000        -0.6               -0.8  \n",
       "2            3.000000        -0.3               -1.0  \n",
       "3            5.000000         0.4               -0.8  \n",
       "4           14.000000         0.1               -0.6  \n",
       "\n",
       "[5 rows x 32 columns]"
      ]
     },
     "execution_count": 379,
     "metadata": {},
     "output_type": "execute_result"
    }
   ],
   "source": [
    "df.head()"
   ]
  },
  {
   "cell_type": "code",
   "execution_count": 380,
   "metadata": {
    "scrolled": true
   },
   "outputs": [
    {
     "name": "stdout",
     "output_type": "stream",
     "text": [
      "There are 25 features decently correlated w/ mid price:\n",
      "y                       1.000000\n",
      "bid_ask_ratio_best      0.149051\n",
      "diff_price              0.129447\n",
      "bid1vol                 0.086308\n",
      "bid_ask_ratio_all       0.086050\n",
      "transacted_qty          0.056453\n",
      "closed_position_qty     0.046323\n",
      "opened_position_qty     0.032599\n",
      "bid2vol                 0.029456\n",
      "last_price              0.019276\n",
      "ask5                    0.019128\n",
      "ask4                    0.019119\n",
      "ask3                    0.019109\n",
      "ask2                    0.019092\n",
      "bid4                    0.018991\n",
      "bid3                    0.018990\n",
      "bid5                    0.018989\n",
      "bid2                    0.018984\n",
      "ask1                    0.018978\n",
      "mid                     0.018940\n",
      "bid1                    0.018901\n",
      "id                      0.014694\n",
      "d_open_interest        -0.015503\n",
      "ask2vol                -0.025560\n",
      "ask1vol                -0.126212\n",
      "Name: y, dtype: float64\n"
     ]
    }
   ],
   "source": [
    "df_num_corr = df.corr()['y'][:-1]\n",
    "golden_features_list = df_num_corr[abs(df_num_corr) > 0.01].sort_values(ascending=False)\n",
    "print(\"There are {} features decently correlated w/ mid price:\\n{}\".format(len(golden_features_list), golden_features_list))\n"
   ]
  },
  {
   "cell_type": "code",
   "execution_count": 339,
   "metadata": {},
   "outputs": [
    {
     "data": {
      "image/png": "[encoded data removed]",
      "text/plain": [
       "<Figure size 864x720 with 2 Axes>"
      ]
     },
     "metadata": {},
     "output_type": "display_data"
    }
   ],
   "source": [
    "corr = df.drop('y', axis=1).corr() # We already examined y correlations\n",
    "plt.figure(figsize=(12, 10))\n",
    "\n",
    "sns.heatmap(corr[(corr >= 0.04) | (corr <= -0.04)], \n",
    "            cmap='viridis', vmax=1.0, vmin=-1.0, linewidths=0.1,\n",
    "            annot=True, annot_kws={\"size\": 8}, square=True);"
   ]
  },
  {
   "cell_type": "markdown",
   "metadata": {},
   "source": [
    "Analyzing the correlation above: It looks like both mid_price and last_price are highly correlated with \n",
    "one another, and both are perfectly correlated [bid1, bid2,  ... bid5,ask1, ... ask5], which indicates that\n",
    "we may want to drop many or all of [bid1, bid2,  ... bid5,ask1, ... ask5] and one of [mid_price, last_price]\n",
    "to avoid extreme multicollinearity in a linear model. For non-linear, this is not so clear. "
   ]
  },
  {
   "cell_type": "code",
   "execution_count": 351,
   "metadata": {},
   "outputs": [],
   "source": [
    "# Dropping the nuisance columns \n",
    "df.drop(columns=['closed_position_qty', 'opened_position_qty '], inplace=True)\n",
    "df_test.drop(columns=['closed_position_qty', 'opened_position_qty '], inplace=True)"
   ]
  },
  {
   "cell_type": "code",
   "execution_count": 382,
   "metadata": {},
   "outputs": [],
   "source": [
    "# Filling NaNs\n",
    "nan_values = {'opened_position_qty ': (df['transacted_qty'] + df['d_open_interest']) / 2 , \n",
    "              'closed_position_qty': (df['transacted_qty'] - df['d_open_interest']) / 2}\n",
    "\n",
    "nan_values_test = {'opened_position_qty ': (df_test['transacted_qty'] + df_test['d_open_interest']) / 2 , \n",
    "              'closed_position_qty': (df_test['transacted_qty'] - df_test['d_open_interest']) / 2}\n",
    "\n",
    "df = df.fillna(value=nan_values)\n",
    "df_test = df_test.fillna(value=nan_values_test)"
   ]
  },
  {
   "cell_type": "markdown",
   "metadata": {},
   "source": [
    "# RFECV with estimator as logistic regression does not seem to work very well at all... "
   ]
  },
  {
   "cell_type": "code",
   "execution_count": 384,
   "metadata": {},
   "outputs": [],
   "source": [
    "# Split into training X, y\n",
    "last_idx = len(df.columns) - 1\n",
    "y_train = df.y\n",
    "#y_train = y_train.astype(int)\n",
    "X = df[df.columns[:-1]]\n",
    "\n",
    "col_titles = X.columns \n",
    "\n",
    "X = np.array(X)\n",
    "y_train = np.array(y_train)\n",
    "\n",
    "\n",
    "# HANDLING IDs FOR TRAINING \n",
    "X_ids = X[:, 0]  # Vector of id's \n",
    "X = X[:, 1:]\n",
    "# HANDLING IDs for TEST\n",
    "X_test_ids = X_test[:, 0]\n",
    "X_test = X_test[:, 1:]\n",
    "\n",
    "\n",
    "# Normalize test set features using training set stats\n",
    "for j in range(0,len(X_test[0])):\n",
    "    X_std = np.std(X[:, j])\n",
    "    X_test[:, j] -= np.mean(X[:, j])\n",
    "    X_test[:, j] *= (1 / X_std)\n",
    "\n",
    "# Normalize training set features \n",
    "for j in range(0,len(X[0])):\n",
    "    X_std = np.std(X[:, j])\n",
    "    X[:, j] -= np.mean(X[:, j])\n",
    "    X[:, j] *= (1 / X_std)"
   ]
  },
  {
   "cell_type": "code",
   "execution_count": 387,
   "metadata": {},
   "outputs": [
    {
     "data": {
      "text/plain": [
       "RFECV(cv=5,\n",
       "      estimator=LogisticRegression(C=1.0, class_weight=None, dual=False,\n",
       "                                   fit_intercept=True, intercept_scaling=1,\n",
       "                                   l1_ratio=None, max_iter=200,\n",
       "                                   multi_class='auto', n_jobs=None,\n",
       "                                   penalty='l2', random_state=None,\n",
       "                                   solver='lbfgs', tol=0.0001, verbose=0,\n",
       "                                   warm_start=False),\n",
       "      min_features_to_select=1, n_jobs=None, scoring='roc_auc', step=1,\n",
       "      verbose=0)"
      ]
     },
     "execution_count": 387,
     "metadata": {},
     "output_type": "execute_result"
    }
   ],
   "source": [
    "# Create the RFE object and compute a cross-validated score.\n",
    "# The \"accuracy\" scoring is proportional to the number of correct classifications\n",
    "selector = RFECV(estimator=LogisticRegression(solver='lbfgs', max_iter=200), step=1, \\\n",
    "              cv=5, scoring='roc_auc')\n",
    "selector.fit(X, y_train)"
   ]
  },
  {
   "cell_type": "code",
   "execution_count": 388,
   "metadata": {},
   "outputs": [
    {
     "name": "stdout",
     "output_type": "stream",
     "text": [
      "The optimal number of features is 1\n",
      "The selected features are:\n",
      "['ask5vol']\n"
     ]
    }
   ],
   "source": [
    "print('The optimal number of features is {}'.format(selector.n_features_))\n",
    "features = [f for f,s in zip(col_titles, selector.support_) if s]\n",
    "print('The selected features are:')\n",
    "print ('{}'.format(features))"
   ]
  },
  {
   "cell_type": "code",
   "execution_count": 391,
   "metadata": {},
   "outputs": [
    {
     "name": "stdout",
     "output_type": "stream",
     "text": [
      "Optimal number of features: 1\n"
     ]
    },
    {
     "data": {
      "image/png": "[encoded data removed]",
      "text/plain": [
       "<Figure size 720x432 with 1 Axes>"
      ]
     },
     "metadata": {},
     "output_type": "display_data"
    }
   ],
   "source": [
    "\n",
    "#X = df[df.columns[:-1]]\n",
    "#y_train = df[df.columns[last_idx]]\n",
    "#X = np.array(X)\n",
    "#y_train = np.array(y_train)\n",
    "#X_test = df_test\n",
    "#X_test = np.array(X_test)\n",
    "print(\"Optimal number of features: %d\" % selector.n_features_)\n",
    "#print('Selected features: %s' % list(X.columns[rfecv.support_]))\n",
    "\n",
    "# Plot number of features VS. cross-validation scores\n",
    "plt.figure(figsize=(10,6))\n",
    "plt.xlabel(\"Number of features selected\")\n",
    "plt.ylabel(\"Cross validation score (nb of correct classifications)\")\n",
    "plt.plot(range(1, len(selector.grid_scores_) + 1), selector.grid_scores_)\n",
    "plt.show()"
   ]
  },
  {
   "cell_type": "code",
   "execution_count": 392,
   "metadata": {},
   "outputs": [],
   "source": [
    "# Dropping the nuisance columns \n",
    "df.drop(columns=['closed_position_qty', 'opened_position_qty '], inplace=True)\n",
    "df_test.drop(columns=['closed_position_qty', 'opened_position_qty '], inplace=True)\n",
    "\n",
    "# Let's drop [bid2, ... bid5, ask2, ... ask5] columns due to heavy correlation \n",
    "df.drop(columns=['bid1','bid2', 'bid3', 'bid4', 'bid5', 'ask1','ask2', 'ask3', \\\n",
    "                 'ask4', 'ask5'], inplace=True)\n",
    "df_test.drop(columns=['bid1', 'bid2', 'bid3', 'bid4', 'bid5', 'ask1','ask2', 'ask3', \\\n",
    "                 'ask4', 'ask5'], inplace=True)\n",
    "\n",
    "# the bid and ask vols seem to be not horribly correlated so let's leave em "
   ]
  },
  {
   "cell_type": "code",
   "execution_count": 393,
   "metadata": {},
   "outputs": [],
   "source": [
    "# Separating into X and y training \n",
    "last_idx = len(df.columns) - 1\n",
    "X = df[df.columns[:-1]]\n",
    "#y_train = df[df.columns[last_idx]]\n",
    "y_train = df.y\n",
    "X = np.array(X)\n",
    "y_train = np.array(y_train)\n",
    "X_test = df_test\n",
    "X_test = np.array(X_test)\n"
   ]
  },
  {
   "cell_type": "code",
   "execution_count": 394,
   "metadata": {},
   "outputs": [
    {
     "data": {
      "text/plain": [
       "False"
      ]
     },
     "execution_count": 394,
     "metadata": {},
     "output_type": "execute_result"
    }
   ],
   "source": [
    "pd.isna(X).any()"
   ]
  },
  {
   "cell_type": "code",
   "execution_count": 395,
   "metadata": {},
   "outputs": [
    {
     "data": {
      "text/plain": [
       "False"
      ]
     },
     "execution_count": 395,
     "metadata": {},
     "output_type": "execute_result"
    }
   ],
   "source": [
    "pd.isna(X_test).any()"
   ]
  },
  {
   "cell_type": "code",
   "execution_count": 396,
   "metadata": {},
   "outputs": [],
   "source": [
    "# HANDLING IDs FOR TRAINING \n",
    "X_ids = X[:, 0]  # Vector of id's \n",
    "X = X[:, 1:]\n",
    "# HANDLING IDs for TEST\n",
    "X_test_ids = X_test[:, 0]\n",
    "X_test = X_test[:, 1:]"
   ]
  },
  {
   "cell_type": "code",
   "execution_count": 397,
   "metadata": {},
   "outputs": [],
   "source": [
    "# Normalize test set features using training set stats\n",
    "for j in range(0,len(X_test[0])):\n",
    "    X_std = np.std(X[:, j])\n",
    "    X_test[:, j] -= np.mean(X[:, j])\n",
    "    X_test[:, j] *= (1 / X_std)\n",
    "\n",
    "# Normalize training set features \n",
    "for j in range(0,len(X[0])):\n",
    "    X_std = np.std(X[:, j])\n",
    "    X[:, j] -= np.mean(X[:, j])\n",
    "    X[:, j] *= (1 / X_std)"
   ]
  },
  {
   "cell_type": "code",
   "execution_count": 308,
   "metadata": {},
   "outputs": [
    {
     "data": {
      "text/plain": [
       "False"
      ]
     },
     "execution_count": 308,
     "metadata": {},
     "output_type": "execute_result"
    }
   ],
   "source": [
    "np.isnan(X_test).any()"
   ]
  },
  {
   "cell_type": "code",
   "execution_count": 309,
   "metadata": {},
   "outputs": [
    {
     "data": {
      "text/plain": [
       "array([1, 0, 0, ..., 0, 0, 0])"
      ]
     },
     "execution_count": 309,
     "metadata": {},
     "output_type": "execute_result"
    }
   ],
   "source": [
    "np.isnan(X).any()\n",
    "y_train.astype(int)"
   ]
  },
  {
   "cell_type": "code",
   "execution_count": 398,
   "metadata": {},
   "outputs": [
    {
     "data": {
      "text/plain": [
       "592380"
      ]
     },
     "execution_count": 398,
     "metadata": {},
     "output_type": "execute_result"
    }
   ],
   "source": [
    "len(y_train)"
   ]
  },
  {
   "cell_type": "markdown",
   "metadata": {},
   "source": [
    "# Logistic Regression w/ L2 Regularization "
   ]
  },
  {
   "cell_type": "code",
   "execution_count": 399,
   "metadata": {},
   "outputs": [],
   "source": [
    "# Let's try logistic regression for different lambda = 0.00001,\n",
    "# 0.00005, 0.00025, 61, 035.15625\n",
    "lam = 0.0005 # Penalizing to take care of some strong correlation between features  \n",
    "# C is inverse of regularization strength \n",
    "\n",
    "#base = np.repeat(5, 5)\n",
    "#power = np.arange(0, 5)\n",
    "#lambdas = np.power(base, power)\n",
    "#final_lambdas = 0.00001 * lambdas\n",
    "\n",
    "# The C's (inv regularization strength) range from 1e-5 ... 1e5\n",
    "clf = LogisticRegressionCV(cv=5, random_state=0).fit(X, y_train)\n",
    "#clf = LogisticRegression(penalty='l2', C=(1/lam)).fit(X, y_trai )\n",
    "y_pred = clf.predict_proba(X)\n",
    "y_pred = y_pred[:,1]    # Grabbing probabililities of being in class 1"
   ]
  },
  {
   "cell_type": "code",
   "execution_count": 400,
   "metadata": {},
   "outputs": [
    {
     "data": {
      "text/plain": [
       "1.0"
      ]
     },
     "execution_count": 400,
     "metadata": {},
     "output_type": "execute_result"
    }
   ],
   "source": [
    "# Performance metric AUC (Area under the Receivor Operating Curve), you want an AUC near 1 \n",
    "roc_auc_score(y_train, y_pred)\n",
    "#X = preprocessing.normalize(X) # Normalizing all observation vectors to have length of 1"
   ]
  },
  {
   "cell_type": "code",
   "execution_count": 313,
   "metadata": {},
   "outputs": [],
   "source": [
    "# Predicting on test set \n",
    "y_pred_test = clf.predict_proba(X_test)\n",
    "y_pred_test = y_pred_test[:,1]  "
   ]
  },
  {
   "cell_type": "code",
   "execution_count": 314,
   "metadata": {},
   "outputs": [],
   "source": [
    "X_test_ids = X_test_ids.astype(int)"
   ]
  },
  {
   "cell_type": "code",
   "execution_count": 315,
   "metadata": {},
   "outputs": [
    {
     "name": "stdout",
     "output_type": "stream",
     "text": [
      "\n",
      "K-fold cross-validation results: \n",
      "LogisticRegressionCV average accuracy: nan (+/-nan)\n",
      "LogisticRegressionCV average log_loss: nan (+/-nan)\n",
      "LogisticRegressionCV average auc: nan (+/-nan)\n"
     ]
    },
    {
     "name": "stderr",
     "output_type": "stream",
     "text": [
      "/anaconda3/lib/python3.6/site-packages/sklearn/model_selection/_validation.py:536: FitFailedWarning: Estimator fit failed. The score on this train-test partition for these parameters will be set to nan. Details: \n",
      "ValueError: Unknown label type: 'continuous'\n",
      "\n",
      "  FitFailedWarning)\n",
      "/anaconda3/lib/python3.6/site-packages/sklearn/model_selection/_validation.py:536: FitFailedWarning: Estimator fit failed. The score on this train-test partition for these parameters will be set to nan. Details: \n",
      "ValueError: Unknown label type: 'continuous'\n",
      "\n",
      "  FitFailedWarning)\n",
      "/anaconda3/lib/python3.6/site-packages/sklearn/model_selection/_validation.py:536: FitFailedWarning: Estimator fit failed. The score on this train-test partition for these parameters will be set to nan. Details: \n",
      "ValueError: Unknown label type: 'continuous'\n",
      "\n",
      "  FitFailedWarning)\n",
      "/anaconda3/lib/python3.6/site-packages/sklearn/model_selection/_validation.py:536: FitFailedWarning: Estimator fit failed. The score on this train-test partition for these parameters will be set to nan. Details: \n",
      "ValueError: Unknown label type: 'continuous'\n",
      "\n",
      "  FitFailedWarning)\n",
      "/anaconda3/lib/python3.6/site-packages/sklearn/model_selection/_validation.py:536: FitFailedWarning: Estimator fit failed. The score on this train-test partition for these parameters will be set to nan. Details: \n",
      "ValueError: Unknown label type: 'continuous'\n",
      "\n",
      "  FitFailedWarning)\n"
     ]
    }
   ],
   "source": [
    "scoring = {'accuracy': 'accuracy', 'log_loss': 'neg_log_loss', 'auc': 'roc_auc'}\n",
    "\n",
    "#clf_test = RandomForestClassifier(max_depth=5, min_samples_split=2, \n",
    "                                 # random_state=0, n_estimators=10, \n",
    "                                 # max_features='sqrt', criterion='gini')\n",
    "\n",
    "results = cross_validate(clf, X, y_pred, cv=5, scoring=list(scoring.values()), \n",
    "                         return_train_score=False)\n",
    "    \n",
    "print('\\nK-fold cross-validation results: ')\n",
    "for sc in range(len(scoring)):\n",
    "    print(clf.__class__.__name__+\" average %s: %.3f (+/-%.3f)\" % (list(scoring.keys())[sc], -results['test_%s' % list(scoring.values())[sc]].mean()\n",
    "    if list(scoring.values())[sc]=='neg_log_loss' \n",
    "    else results['test_%s' % list(scoring.values())[sc]].mean(), \n",
    "        results['test_%s' % list(scoring.values())[sc]].std()))"
   ]
  },
  {
   "cell_type": "markdown",
   "metadata": {},
   "source": [
    "# Outputting results to submission csv "
   ]
  },
  {
   "cell_type": "code",
   "execution_count": 316,
   "metadata": {},
   "outputs": [
    {
     "data": {
      "text/html": [
       "<div>\n",
       "<style scoped>\n",
       "    .dataframe tbody tr th:only-of-type {\n",
       "        vertical-align: middle;\n",
       "    }\n",
       "\n",
       "    .dataframe tbody tr th {\n",
       "        vertical-align: top;\n",
       "    }\n",
       "\n",
       "    .dataframe thead th {\n",
       "        text-align: right;\n",
       "    }\n",
       "</style>\n",
       "<table border=\"1\" class=\"dataframe\">\n",
       "  <thead>\n",
       "    <tr style=\"text-align: right;\">\n",
       "      <th></th>\n",
       "      <th>Predicted</th>\n",
       "    </tr>\n",
       "    <tr>\n",
       "      <th>id</th>\n",
       "      <th></th>\n",
       "    </tr>\n",
       "  </thead>\n",
       "  <tbody>\n",
       "    <tr>\n",
       "      <th>592380</th>\n",
       "      <td>0.999689</td>\n",
       "    </tr>\n",
       "    <tr>\n",
       "      <th>592381</th>\n",
       "      <td>0.954738</td>\n",
       "    </tr>\n",
       "    <tr>\n",
       "      <th>592382</th>\n",
       "      <td>0.998792</td>\n",
       "    </tr>\n",
       "    <tr>\n",
       "      <th>592383</th>\n",
       "      <td>0.925036</td>\n",
       "    </tr>\n",
       "    <tr>\n",
       "      <th>592384</th>\n",
       "      <td>0.918534</td>\n",
       "    </tr>\n",
       "    <tr>\n",
       "      <th>592385</th>\n",
       "      <td>0.885811</td>\n",
       "    </tr>\n",
       "    <tr>\n",
       "      <th>592386</th>\n",
       "      <td>0.990727</td>\n",
       "    </tr>\n",
       "    <tr>\n",
       "      <th>592387</th>\n",
       "      <td>0.999926</td>\n",
       "    </tr>\n",
       "    <tr>\n",
       "      <th>592388</th>\n",
       "      <td>0.612778</td>\n",
       "    </tr>\n",
       "    <tr>\n",
       "      <th>592389</th>\n",
       "      <td>0.756449</td>\n",
       "    </tr>\n",
       "    <tr>\n",
       "      <th>592390</th>\n",
       "      <td>0.882892</td>\n",
       "    </tr>\n",
       "    <tr>\n",
       "      <th>592391</th>\n",
       "      <td>0.882608</td>\n",
       "    </tr>\n",
       "    <tr>\n",
       "      <th>592392</th>\n",
       "      <td>0.996756</td>\n",
       "    </tr>\n",
       "    <tr>\n",
       "      <th>592393</th>\n",
       "      <td>1.000000</td>\n",
       "    </tr>\n",
       "    <tr>\n",
       "      <th>592394</th>\n",
       "      <td>0.998715</td>\n",
       "    </tr>\n",
       "    <tr>\n",
       "      <th>592395</th>\n",
       "      <td>0.999982</td>\n",
       "    </tr>\n",
       "    <tr>\n",
       "      <th>592396</th>\n",
       "      <td>0.824829</td>\n",
       "    </tr>\n",
       "    <tr>\n",
       "      <th>592397</th>\n",
       "      <td>0.770979</td>\n",
       "    </tr>\n",
       "    <tr>\n",
       "      <th>592398</th>\n",
       "      <td>0.365724</td>\n",
       "    </tr>\n",
       "    <tr>\n",
       "      <th>592399</th>\n",
       "      <td>0.737920</td>\n",
       "    </tr>\n",
       "    <tr>\n",
       "      <th>592400</th>\n",
       "      <td>0.242742</td>\n",
       "    </tr>\n",
       "    <tr>\n",
       "      <th>592401</th>\n",
       "      <td>0.993061</td>\n",
       "    </tr>\n",
       "    <tr>\n",
       "      <th>592402</th>\n",
       "      <td>0.561822</td>\n",
       "    </tr>\n",
       "    <tr>\n",
       "      <th>592403</th>\n",
       "      <td>0.888982</td>\n",
       "    </tr>\n",
       "    <tr>\n",
       "      <th>592404</th>\n",
       "      <td>0.995244</td>\n",
       "    </tr>\n",
       "    <tr>\n",
       "      <th>592405</th>\n",
       "      <td>0.987841</td>\n",
       "    </tr>\n",
       "    <tr>\n",
       "      <th>592406</th>\n",
       "      <td>0.987427</td>\n",
       "    </tr>\n",
       "    <tr>\n",
       "      <th>592407</th>\n",
       "      <td>0.998758</td>\n",
       "    </tr>\n",
       "    <tr>\n",
       "      <th>592408</th>\n",
       "      <td>0.601608</td>\n",
       "    </tr>\n",
       "    <tr>\n",
       "      <th>592409</th>\n",
       "      <td>0.270401</td>\n",
       "    </tr>\n",
       "    <tr>\n",
       "      <th>...</th>\n",
       "      <td>...</td>\n",
       "    </tr>\n",
       "    <tr>\n",
       "      <th>784209</th>\n",
       "      <td>0.092056</td>\n",
       "    </tr>\n",
       "    <tr>\n",
       "      <th>784210</th>\n",
       "      <td>0.544999</td>\n",
       "    </tr>\n",
       "    <tr>\n",
       "      <th>784211</th>\n",
       "      <td>1.000000</td>\n",
       "    </tr>\n",
       "    <tr>\n",
       "      <th>784212</th>\n",
       "      <td>0.770860</td>\n",
       "    </tr>\n",
       "    <tr>\n",
       "      <th>784213</th>\n",
       "      <td>0.321820</td>\n",
       "    </tr>\n",
       "    <tr>\n",
       "      <th>784214</th>\n",
       "      <td>0.630649</td>\n",
       "    </tr>\n",
       "    <tr>\n",
       "      <th>784215</th>\n",
       "      <td>0.511080</td>\n",
       "    </tr>\n",
       "    <tr>\n",
       "      <th>784216</th>\n",
       "      <td>0.999975</td>\n",
       "    </tr>\n",
       "    <tr>\n",
       "      <th>784217</th>\n",
       "      <td>0.999955</td>\n",
       "    </tr>\n",
       "    <tr>\n",
       "      <th>784218</th>\n",
       "      <td>1.000000</td>\n",
       "    </tr>\n",
       "    <tr>\n",
       "      <th>784219</th>\n",
       "      <td>0.938043</td>\n",
       "    </tr>\n",
       "    <tr>\n",
       "      <th>784220</th>\n",
       "      <td>0.378418</td>\n",
       "    </tr>\n",
       "    <tr>\n",
       "      <th>784221</th>\n",
       "      <td>1.000000</td>\n",
       "    </tr>\n",
       "    <tr>\n",
       "      <th>784222</th>\n",
       "      <td>0.701142</td>\n",
       "    </tr>\n",
       "    <tr>\n",
       "      <th>784223</th>\n",
       "      <td>0.466191</td>\n",
       "    </tr>\n",
       "    <tr>\n",
       "      <th>784224</th>\n",
       "      <td>0.999972</td>\n",
       "    </tr>\n",
       "    <tr>\n",
       "      <th>784225</th>\n",
       "      <td>0.533564</td>\n",
       "    </tr>\n",
       "    <tr>\n",
       "      <th>784226</th>\n",
       "      <td>0.993699</td>\n",
       "    </tr>\n",
       "    <tr>\n",
       "      <th>784227</th>\n",
       "      <td>0.746252</td>\n",
       "    </tr>\n",
       "    <tr>\n",
       "      <th>784228</th>\n",
       "      <td>0.679303</td>\n",
       "    </tr>\n",
       "    <tr>\n",
       "      <th>784229</th>\n",
       "      <td>0.944649</td>\n",
       "    </tr>\n",
       "    <tr>\n",
       "      <th>784230</th>\n",
       "      <td>0.161870</td>\n",
       "    </tr>\n",
       "    <tr>\n",
       "      <th>784231</th>\n",
       "      <td>0.999447</td>\n",
       "    </tr>\n",
       "    <tr>\n",
       "      <th>784232</th>\n",
       "      <td>0.999083</td>\n",
       "    </tr>\n",
       "    <tr>\n",
       "      <th>784233</th>\n",
       "      <td>0.924222</td>\n",
       "    </tr>\n",
       "    <tr>\n",
       "      <th>784234</th>\n",
       "      <td>0.996388</td>\n",
       "    </tr>\n",
       "    <tr>\n",
       "      <th>784235</th>\n",
       "      <td>0.447370</td>\n",
       "    </tr>\n",
       "    <tr>\n",
       "      <th>784236</th>\n",
       "      <td>0.851659</td>\n",
       "    </tr>\n",
       "    <tr>\n",
       "      <th>784237</th>\n",
       "      <td>1.000000</td>\n",
       "    </tr>\n",
       "    <tr>\n",
       "      <th>784238</th>\n",
       "      <td>0.989082</td>\n",
       "    </tr>\n",
       "  </tbody>\n",
       "</table>\n",
       "<p>191859 rows × 1 columns</p>\n",
       "</div>"
      ],
      "text/plain": [
       "        Predicted\n",
       "id               \n",
       "592380   0.999689\n",
       "592381   0.954738\n",
       "592382   0.998792\n",
       "592383   0.925036\n",
       "592384   0.918534\n",
       "592385   0.885811\n",
       "592386   0.990727\n",
       "592387   0.999926\n",
       "592388   0.612778\n",
       "592389   0.756449\n",
       "592390   0.882892\n",
       "592391   0.882608\n",
       "592392   0.996756\n",
       "592393   1.000000\n",
       "592394   0.998715\n",
       "592395   0.999982\n",
       "592396   0.824829\n",
       "592397   0.770979\n",
       "592398   0.365724\n",
       "592399   0.737920\n",
       "592400   0.242742\n",
       "592401   0.993061\n",
       "592402   0.561822\n",
       "592403   0.888982\n",
       "592404   0.995244\n",
       "592405   0.987841\n",
       "592406   0.987427\n",
       "592407   0.998758\n",
       "592408   0.601608\n",
       "592409   0.270401\n",
       "...           ...\n",
       "784209   0.092056\n",
       "784210   0.544999\n",
       "784211   1.000000\n",
       "784212   0.770860\n",
       "784213   0.321820\n",
       "784214   0.630649\n",
       "784215   0.511080\n",
       "784216   0.999975\n",
       "784217   0.999955\n",
       "784218   1.000000\n",
       "784219   0.938043\n",
       "784220   0.378418\n",
       "784221   1.000000\n",
       "784222   0.701142\n",
       "784223   0.466191\n",
       "784224   0.999972\n",
       "784225   0.533564\n",
       "784226   0.993699\n",
       "784227   0.746252\n",
       "784228   0.679303\n",
       "784229   0.944649\n",
       "784230   0.161870\n",
       "784231   0.999447\n",
       "784232   0.999083\n",
       "784233   0.924222\n",
       "784234   0.996388\n",
       "784235   0.447370\n",
       "784236   0.851659\n",
       "784237   1.000000\n",
       "784238   0.989082\n",
       "\n",
       "[191859 rows x 1 columns]"
      ]
     },
     "execution_count": 316,
     "metadata": {},
     "output_type": "execute_result"
    }
   ],
   "source": [
    "predictions = {'id': X_test_ids, 'Predicted': y_pred_test}\n",
    "df_output = pd.DataFrame(predictions, columns=['id', 'Predicted'])\n",
    "df_output.set_index('id')"
   ]
  },
  {
   "cell_type": "code",
   "execution_count": 186,
   "metadata": {},
   "outputs": [
    {
     "data": {
      "text/plain": [
       "id             int32\n",
       "Predicted    float64\n",
       "dtype: object"
      ]
     },
     "execution_count": 186,
     "metadata": {},
     "output_type": "execute_result"
    }
   ],
   "source": [
    "#df_output.dtypes\n",
    "#df_output.astype({'id': 'int32'}, inplace=True).dtypes"
   ]
  },
  {
   "cell_type": "code",
   "execution_count": 187,
   "metadata": {},
   "outputs": [
    {
     "data": {
      "text/html": [
       "<div>\n",
       "<style scoped>\n",
       "    .dataframe tbody tr th:only-of-type {\n",
       "        vertical-align: middle;\n",
       "    }\n",
       "\n",
       "    .dataframe tbody tr th {\n",
       "        vertical-align: top;\n",
       "    }\n",
       "\n",
       "    .dataframe thead th {\n",
       "        text-align: right;\n",
       "    }\n",
       "</style>\n",
       "<table border=\"1\" class=\"dataframe\">\n",
       "  <thead>\n",
       "    <tr style=\"text-align: right;\">\n",
       "      <th></th>\n",
       "      <th>id</th>\n",
       "      <th>Predicted</th>\n",
       "    </tr>\n",
       "  </thead>\n",
       "  <tbody>\n",
       "    <tr>\n",
       "      <th>0</th>\n",
       "      <td>592380.0</td>\n",
       "      <td>0.663596</td>\n",
       "    </tr>\n",
       "    <tr>\n",
       "      <th>1</th>\n",
       "      <td>592381.0</td>\n",
       "      <td>0.423627</td>\n",
       "    </tr>\n",
       "    <tr>\n",
       "      <th>2</th>\n",
       "      <td>592382.0</td>\n",
       "      <td>0.353316</td>\n",
       "    </tr>\n",
       "    <tr>\n",
       "      <th>3</th>\n",
       "      <td>592383.0</td>\n",
       "      <td>0.525968</td>\n",
       "    </tr>\n",
       "    <tr>\n",
       "      <th>4</th>\n",
       "      <td>592384.0</td>\n",
       "      <td>0.465634</td>\n",
       "    </tr>\n",
       "  </tbody>\n",
       "</table>\n",
       "</div>"
      ],
      "text/plain": [
       "         id  Predicted\n",
       "0  592380.0   0.663596\n",
       "1  592381.0   0.423627\n",
       "2  592382.0   0.353316\n",
       "3  592383.0   0.525968\n",
       "4  592384.0   0.465634"
      ]
     },
     "execution_count": 187,
     "metadata": {},
     "output_type": "execute_result"
    }
   ],
   "source": [
    "df_output.head()"
   ]
  },
  {
   "cell_type": "code",
   "execution_count": 317,
   "metadata": {},
   "outputs": [],
   "source": [
    "df_output.to_csv('logis_regularized_1.csv', index=None)"
   ]
  },
  {
   "cell_type": "code",
   "execution_count": 15,
   "metadata": {},
   "outputs": [
    {
     "data": {
      "text/plain": [
       "[<matplotlib.lines.Line2D at 0x7fd0505206a0>]"
      ]
     },
     "execution_count": 15,
     "metadata": {},
     "output_type": "execute_result"
    },
    {
     "data": {
      "image/png": "[encoded data removed]",
      "text/plain": [
       "<Figure size 432x288 with 1 Axes>"
      ]
     },
     "metadata": {},
     "output_type": "display_data"
    }
   ],
   "source": [
    "fig = plt.figure()\n",
    "plt.title('Plotting last_price vs. time')\n",
    "plt.xlabel('Time')\n",
    "plt.ylabel('Last Price')\n",
    "plt.margins(y=0.02)\n",
    "\n",
    "plt.plot(train_data[\"id\"], train_data[\"last_price\"], marker = '.', linewidth = 1.5)"
   ]
  },
  {
   "cell_type": "code",
   "execution_count": null,
   "metadata": {},
   "outputs": [],
   "source": [
    "# Let's try a neural net (non-linear model that is a composition of linear models)"
   ]
  },
  {
   "cell_type": "code",
   "execution_count": null,
   "metadata": {},
   "outputs": [],
   "source": [
    "# Note that the majority of the time, the mid price does not go up. Also note that on average,\n",
    "# the maximum likelihood model (e.g. Regression) gives higher probabilites to positive examples\n",
    "# and lower probabilities to negative examples. "
   ]
  },
  {
   "cell_type": "code",
   "execution_count": null,
   "metadata": {},
   "outputs": [],
   "source": [
    "# Let's do logistic regression and random forest blending "
   ]
  },
  {
   "cell_type": "code",
   "execution_count": null,
   "metadata": {},
   "outputs": [],
   "source": [
    "# Let's drop [bid1, ask1] as well to see if anything changes drastically. \n",
    "df.drop(columns=['bid1','ask1'], inplace=True)\n",
    "df_test.drop(columns=['bid1', 'ask1'], inplace=True)"
   ]
  },
  {
   "cell_type": "code",
   "execution_count": null,
   "metadata": {},
   "outputs": [],
   "source": [
    "# Separating into X and y training \n",
    "last_idx = len(df.columns) - 1\n",
    "X = df[df.columns[:-1]]\n",
    "y_train = df[df.columns[last_idx]]\n",
    "X = np.array(X)\n",
    "y_train = np.array(y_train)\n",
    "X_test = df_test\n",
    "X_test = np.array(X_test)"
   ]
  }
 ],
 "metadata": {
  "kernelspec": {
   "display_name": "Python 3",
   "language": "python",
   "name": "python3"
  },
  "language_info": {
   "codemirror_mode": {
    "name": "ipython",
    "version": 3
   },
   "file_extension": ".py",
   "mimetype": "text/x-python",
   "name": "python",
   "nbconvert_exporter": "python",
   "pygments_lexer": "ipython3",
   "version": "3.6.7"
  }
 },
 "nbformat": 4,
 "nbformat_minor": 2
}
